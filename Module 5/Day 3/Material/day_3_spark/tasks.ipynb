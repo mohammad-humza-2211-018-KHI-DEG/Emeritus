{
 "cells": [
  {
   "cell_type": "markdown",
   "id": "0b7a6ab7",
   "metadata": {},
   "source": [
    "# Tasks"
   ]
  },
  {
   "cell_type": "code",
   "execution_count": 1,
   "id": "754cfeaf",
   "metadata": {},
   "outputs": [],
   "source": [
    "import datetime\n",
    "import random\n",
    "import re\n",
    "import string\n",
    "from time import sleep\n",
    "\n",
    "import pyspark\n",
    "from IPython.display import clear_output, display\n",
    "from pyspark.sql import SparkSession\n",
    "from pyspark.sql.functions import (\n",
    "    avg,\n",
    "    col,\n",
    "    collect_list,\n",
    "    count,\n",
    "    desc,\n",
    "    explode,\n",
    "    from_json,\n",
    "    lit,\n",
    "    max,\n",
    "    min,\n",
    "    monotonically_increasing_id,\n",
    "    udf,\n",
    "    window,\n",
    ")\n",
    "from pyspark.sql.streaming import StreamingQuery\n",
    "from pyspark.sql.types import (\n",
    "    BooleanType,\n",
    "    FloatType,\n",
    "    IntegerType,\n",
    "    StringType,\n",
    "    StructType,\n",
    "    TimestampType,\n",
    ")"
   ]
  },
  {
   "cell_type": "markdown",
   "id": "791650ea",
   "metadata": {},
   "source": [
    "Create SparkSession in a local setup. Select your own application name. Add the `org.apache.spark:spark-sql-kafka-0-10_2.12:3.0.1` library using the `config` function during a Spark session initialization."
   ]
  },
  {
   "cell_type": "code",
   "execution_count": null,
   "id": "17d7c1b9-f81f-41d1-a7d4-3522a23e9906",
   "metadata": {},
   "outputs": [],
   "source": []
  },
  {
   "cell_type": "markdown",
   "id": "1db86364-70eb-40ad-ba81-252c1d535bff",
   "metadata": {},
   "source": [
    "### Spark Batch Processing"
   ]
  },
  {
   "cell_type": "markdown",
   "id": "650892aa-5ade-48c0-8f92-2fcdf33d70b9",
   "metadata": {},
   "source": [
    "1. Read the data stream from file `data/titanic.csv`. Define your own schema based on information about the dataset: https://www.kaggle.com/competitions/titanic/data. Dataset was modified to include the `Timestamp` column and update schema accordingly. Display schema and the first five columns.\n",
    "\n",
    "**Don't overwrite the original DataFrame in the following exercises unless specified otherwise.**"
   ]
  },
  {
   "cell_type": "code",
   "execution_count": null,
   "id": "a0047d3a-96ac-4384-9c63-3cd6312ea012",
   "metadata": {},
   "outputs": [],
   "source": []
  },
  {
   "cell_type": "markdown",
   "id": "d82c42d5-9c32-4be9-961d-3c5aa48526cf",
   "metadata": {},
   "source": [
    "2. Selecting columns. For every exercise, display the first 5 rows of created DataFrame.\n",
    "    * Select the `PassengerId` and `Name` columns using built-in `col` function. Add aliases for those columns: `id` and `fullname`.\n",
    "    * Select all columns between the third and fifth (including those two).\n",
    "    * Select columns whose names end with `-ed` (use regular expressions)."
   ]
  },
  {
   "cell_type": "code",
   "execution_count": null,
   "id": "2f844584-ed66-4c3e-9637-85c08bd42332",
   "metadata": {},
   "outputs": [],
   "source": []
  },
  {
   "cell_type": "markdown",
   "id": "924c5027-0987-4277-ae05-7c74ef9bc620",
   "metadata": {},
   "source": [
    "3. Columns transformations\n",
    "    * Create an additional column `Constant` with the same string value `empty` in every row.\n",
    "    * Create an additional column `CustomId` with new unique ids. Use `monotonicallyIncreasingId` function.\n",
    "    * Rename column `Pclass` to `Class`.\n",
    "    * Remove the `Cabin` and `Name` columns."
   ]
  },
  {
   "cell_type": "code",
   "execution_count": null,
   "id": "4a02e37f-0e16-452a-b6f3-b6799576d237",
   "metadata": {},
   "outputs": [],
   "source": []
  },
  {
   "cell_type": "markdown",
   "id": "8cd19a89-5886-4c3b-93d5-a7cb94a07b1f",
   "metadata": {},
   "source": [
    "4. Filtering data - **modify original DataFrame in every step**\n",
    "    * Select only passengers older than 25 years.\n",
    "    * Based on min and max `Timestamp` column values (use the `collect` function to retrieve values from all nodes and save those in separate variables for filtering purposes). Select only rows that \"started\" 3 minutes after the first timestamp and 3 minutes before the last timestamp.\n",
    "    \n",
    "**Reminder**: `collect` function is used to retrieve all elements from nodes to the driver node. Be cautious with using this function on big datasets. It might cause `OutofMemoryError`."
   ]
  },
  {
   "cell_type": "code",
   "execution_count": null,
   "id": "53ab9523-f95a-4eeb-b8f9-e42af66269d3",
   "metadata": {},
   "outputs": [],
   "source": []
  },
  {
   "cell_type": "code",
   "execution_count": null,
   "id": "67655702-a7a3-4898-9c62-3c542da4bee4",
   "metadata": {},
   "outputs": [],
   "source": []
  },
  {
   "attachments": {
    "243d33cc-5460-44a9-bbe6-8d743a06c5f6.png": {
     "image/png": "[encoded data removed]"
    }
   },
   "cell_type": "markdown",
   "id": "3d23759a-65c7-46bc-bbf5-aa543f9b6eec",
   "metadata": {},
   "source": [
    "5. Use the `pivot` function to create a table showing the average age of <ins>survivors</ins> based on their sex and travel class (`Pclass`).\n",
    "\n",
    "The result table should look like this:\n",
    "\n",
    "![obraz.png](attachment:243d33cc-5460-44a9-bbe6-8d743a06c5f6.png)"
   ]
  },
  {
   "cell_type": "code",
   "execution_count": null,
   "id": "fa3d3348-e4a6-4788-a857-cb7e36efa27b",
   "metadata": {},
   "outputs": [],
   "source": []
  },
  {
   "cell_type": "markdown",
   "id": "c326312c-530f-4f38-a965-cda419dc2806",
   "metadata": {},
   "source": [
    "6. Explode array\n",
    "    * Create a separate DataFrame with the average fare per travel class. Include the `Name` column that should be aggregated into a list of names during transformation. Use the `groupby` function.\n",
    "    * Use DataFrame created in a previous step to explode the column with a list of names for the average fare. Should we expect the number of rows to be the same in the results DataFrame as in the original DataFrame before `groupby` transformation?"
   ]
  },
  {
   "cell_type": "code",
   "execution_count": null,
   "id": "2eccb708-4f80-420b-b10d-317ffe50bbe8",
   "metadata": {},
   "outputs": [],
   "source": []
  },
  {
   "cell_type": "code",
   "execution_count": null,
   "id": "3b3949e5-01e1-44f8-81a7-859d40b17567",
   "metadata": {},
   "outputs": [],
   "source": []
  },
  {
   "cell_type": "markdown",
   "id": "95d93991-7c3e-45c8-b992-d0a0f5ca4b81",
   "metadata": {},
   "source": [
    "7. In this task we want to use the exploded table from a previous task and merge information about average fare into the original DataFrame. Use the `join` function with proper parameters. Name a new column `AvgFare` and remove the additional name column appended with the join operation."
   ]
  },
  {
   "cell_type": "code",
   "execution_count": null,
   "id": "0f55fae8-ed51-4954-807a-82967d3e4e69",
   "metadata": {},
   "outputs": [],
   "source": []
  },
  {
   "cell_type": "markdown",
   "id": "5dd5b75d-b271-4acc-b91c-de9c53acee4a",
   "metadata": {},
   "source": [
    "8. Register DataFrame as a SQL temporary view using the `createOrReplaceTempView` function. Write SQL query selecting only the `PassengerId` and `Name` columns.\n",
    "\n",
    "9. [Optional] You can register more SQL temporary views and try other SQL queries like joining and grouping."
   ]
  },
  {
   "cell_type": "code",
   "execution_count": null,
   "id": "2af1fdd5-382e-45dc-abaa-98d3564a7654",
   "metadata": {},
   "outputs": [],
   "source": []
  },
  {
   "cell_type": "code",
   "execution_count": null,
   "id": "fb9e80c4-e6f7-48c2-aa07-ea97b491f764",
   "metadata": {},
   "outputs": [],
   "source": []
  },
  {
   "cell_type": "markdown",
   "id": "281145ef-796e-471f-af86-0ac4ba12382f",
   "metadata": {},
   "source": [
    "10. Use the `map` function to create a new string column from the combined `Name`, `Sex`, and `Fare` columns. Show a few first elements of a new column. You have to convert DataFrame to RDD before using the `map` function."
   ]
  },
  {
   "cell_type": "code",
   "execution_count": null,
   "id": "ca8ccc56-1434-4a6b-bfbd-91d9c5029926",
   "metadata": {},
   "outputs": [],
   "source": []
  },
  {
   "cell_type": "markdown",
   "id": "7abb5177-f1f0-4f57-b25d-e29682172138",
   "metadata": {},
   "source": [
    "11. Create UDF that will combine and transform the `Ticket`, `Cabin`, and `Embarked` columns.\n",
    "    * Extract the last number from the `Ticket` column. If there isn't any number use `not_found`.\n",
    "    * Convert `Cabin` letters to lowercase. If there isn't assigned cabin use `not_defined`.\n",
    "    * Use full names for the `Embarked` column (use provided dictionary with mapping). If there isn't assigned embarkation location use `not_defined`.\n",
    "\n",
    "Use UDF to merge mentioned columns into one (separated with a semicolon). Overwrite base DataFrame and display a few first rows."
   ]
  },
  {
   "cell_type": "code",
   "execution_count": 2,
   "id": "a0b38d18-5b5a-40d3-a113-0b1a1aa1dd9e",
   "metadata": {},
   "outputs": [],
   "source": [
    "EMBARKED_MAPPING = {\"C\": \"Cherbourg\", \"Q\": \"Queenstown\", \"S\": \"Southampton\"}"
   ]
  },
  {
   "cell_type": "code",
   "execution_count": null,
   "id": "9585159b-3f8c-4845-a7cf-32bee2f5577b",
   "metadata": {},
   "outputs": [],
   "source": []
  },
  {
   "cell_type": "markdown",
   "id": "a4e009b5-e50d-4661-95d7-52052f7fb00b",
   "metadata": {},
   "source": [
    "12. Save to Parquet. Do you notice any changes in the saved file structure?\n",
    "\n",
    "If you will get an error here, usually it means that previous transformations on data can't be applied to all rows. Spark uses lazy evaluation, you have to force Spark to make calculations on all datasets (for example by using the `collect` function) unless of course you are doing transformations that must be calculated based on the whole dataset (`mean`, `min`, `max`, `groupby`).\n",
    "\n",
    "To try to solve the problem revisit the previous point with UDF row-wise transform."
   ]
  },
  {
   "cell_type": "code",
   "execution_count": null,
   "id": "0e86eaf2-90d6-4c6d-a9e6-c90c4b5ab0bb",
   "metadata": {},
   "outputs": [],
   "source": []
  },
  {
   "cell_type": "markdown",
   "id": "b37f53e0-942d-4d69-a34a-5a18ef94e590",
   "metadata": {
    "tags": []
   },
   "source": [
    "### Spark Streaming"
   ]
  },
  {
   "cell_type": "markdown",
   "id": "470903ec",
   "metadata": {},
   "source": [
    "1. Read the `titanic.csv` file as a data stream from the `data/` directory. Reuse previously implemented schema."
   ]
  },
  {
   "cell_type": "code",
   "execution_count": null,
   "id": "8a51f2c8-e7e4-41f4-bce3-38eb88ef47a8",
   "metadata": {},
   "outputs": [],
   "source": []
  },
  {
   "cell_type": "markdown",
   "id": "10fe9002-bc6d-41b0-bfcc-6d5cca3ce337",
   "metadata": {},
   "source": [
    "2. Create `writeStream` and pass a query to the `check_query` function to display transformed data. Check if all the data from CSV was correctly read. In the following tasks, you can reuse this to check the changes that you applied to your dataset. Remember to change query names between executions!\n",
    "\n",
    "**Remember to stop the execution of the cell before moving to the next exercises (the `check_query` function is running in an infinite loop).**"
   ]
  },
  {
   "cell_type": "code",
   "execution_count": 3,
   "id": "4df327c7-d13b-4d5b-9f93-f3b49f02f8d0",
   "metadata": {},
   "outputs": [],
   "source": [
    "def check_query(query: StreamingQuery, sleep_time: int = 5) -> None:\n",
    "    while True:\n",
    "        clear_output(wait=True)\n",
    "        display(query.status)\n",
    "        display(spark.sql(f\"SELECT * FROM {query.name}\").show())\n",
    "        sleep(sleep_time)"
   ]
  },
  {
   "cell_type": "code",
   "execution_count": null,
   "id": "5e97e269-f7ae-45ed-ae5f-b136899f793d",
   "metadata": {},
   "outputs": [],
   "source": []
  },
  {
   "cell_type": "markdown",
   "id": "1c9a0b86-e884-4537-895b-1d770f0b37e3",
   "metadata": {},
   "source": [
    "3. From the dataset, select only passengers that:\n",
    "    * did not survive the crash,\n",
    "    * are older than 20 years,\n",
    "    * had a third class tickets (`Pclass` column)."
   ]
  },
  {
   "cell_type": "code",
   "execution_count": null,
   "id": "73b6c430-75fb-4851-a272-822f9acefc7d",
   "metadata": {},
   "outputs": [],
   "source": []
  },
  {
   "cell_type": "markdown",
   "id": "3df76b9d-1e9b-4358-82ab-75e4e146e2ef",
   "metadata": {},
   "source": [
    "4. Use DataFrame from the previous point. Group results by sex and port of embarkation (`Embarked` column). Count people, calculate average passenger fare and the maximum and minimum age for every group. Name every new column as `<aggregation function>_<original_column_name>`. Remember to use the `complete` output mode to check results for aggregation queries."
   ]
  },
  {
   "cell_type": "code",
   "execution_count": null,
   "id": "73f391c0-ce9b-421e-be46-e51c8a5cbd54",
   "metadata": {},
   "outputs": [],
   "source": []
  },
  {
   "cell_type": "markdown",
   "id": "71aeb088-3561-4213-b3c1-5883e7b07c84",
   "metadata": {},
   "source": [
    "5. Sort DataFrame from the previous exercise in descending order by the groups' keys."
   ]
  },
  {
   "cell_type": "code",
   "execution_count": null,
   "id": "b279fdf0-5b89-49e3-b4f9-66bd8a4cc190",
   "metadata": {},
   "outputs": [],
   "source": []
  },
  {
   "attachments": {},
   "cell_type": "markdown",
   "id": "5c78c48c-7f68-4e7d-bb07-bc7ffb3b1123",
   "metadata": {},
   "source": [
    "6. [Optional] Read about windowing and watermarking in Spark Streaming (https://spark.apache.org/docs/latest/structured-streaming-programming-guide.html#window-operations-on-event-time). Use the same aggregation function from the fourth task and add tumbling windows with 5 min interval. What changed in results?\n",
    "\n",
    "<img src=\"attachment:938f1999-ebc5-4ac8-a5da-e7b27350203a.png\" alt=\"obraz.png\" style=\"width:800px;\"/>\n"
   ]
  },
  {
   "cell_type": "code",
   "execution_count": null,
   "id": "f0ca0a25-d59b-40c6-996d-c217e717343e",
   "metadata": {},
   "outputs": [],
   "source": []
  }
 ],
 "metadata": {
  "kernelspec": {
   "display_name": "Python 3 (ipykernel)",
   "language": "python",
   "name": "python3"
  },
  "language_info": {
   "codemirror_mode": {
    "name": "ipython",
    "version": 3
   },
   "file_extension": ".py",
   "mimetype": "text/x-python",
   "name": "python",
   "nbconvert_exporter": "python",
   "pygments_lexer": "ipython3",
   "version": "3.10.6"
  },
  "vscode": {
   "interpreter": {
    "hash": "ead1b95f633dc9c51826328e1846203f51a198c6fb5f2884a80417ba131d4e82"
   }
  }
 },
 "nbformat": 4,
 "nbformat_minor": 5
}
