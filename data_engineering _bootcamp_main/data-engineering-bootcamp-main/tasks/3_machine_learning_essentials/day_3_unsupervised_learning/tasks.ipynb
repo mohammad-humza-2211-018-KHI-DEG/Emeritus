{
 "cells": [
  {
   "cell_type": "markdown",
   "id": "e0a72a84-a27d-43ff-b03b-85ea1e30c1c6",
   "metadata": {},
   "source": [
    "# Projects"
   ]
  },
  {
   "cell_type": "markdown",
   "id": "ead28300-69c7-4e01-987f-97ab7091c027",
   "metadata": {},
   "source": [
    "## Image segmentation using k-means"
   ]
  },
  {
   "cell_type": "markdown",
   "id": "1d97938c-b485-49af-82f9-b8e9c27ba5f4",
   "metadata": {},
   "source": [
    "Use sklearn implementation of k-means to perform image segmentation. Use clustering on every point on the image and then create a new image with each pixel replaced with the value of the closest centroid. Experiment with different values of k to see which performs the best. You can read more about image segmentation [here](https://en.wikipedia.org/wiki/Image_segmentation)"
   ]
  },
  {
   "cell_type": "code",
   "execution_count": null,
   "id": "7b47639b-64ba-4b82-a576-e34e6296aebb",
   "metadata": {},
   "outputs": [],
   "source": []
  },
  {
   "cell_type": "markdown",
   "id": "bcf86d60-5bd3-4bfa-b22a-48c2e778ae49",
   "metadata": {},
   "source": [
    "## PCA from scratch"
   ]
  },
  {
   "cell_type": "markdown",
   "id": "ae522851-dada-42ed-a8cf-80cdac3225f7",
   "metadata": {},
   "source": [
    "Implement principal component analysis from scratch using only standard Python and NumPy. Compare your results to the sklearn implementation in terms of time efficiency and accuracy. For this exercise you can use previously introduced Iris dataset."
   ]
  },
  {
   "cell_type": "code",
   "execution_count": null,
   "id": "1f582110-157c-4e76-b75b-211145a2dea5",
   "metadata": {},
   "outputs": [],
   "source": []
  },
  {
   "cell_type": "markdown",
   "id": "2685c48b-74f6-462e-a807-cdd37d22cd72",
   "metadata": {},
   "source": [
    "## k-means from scratch"
   ]
  },
  {
   "cell_type": "markdown",
   "id": "cfb730d1-8b2e-4c30-bb28-92441348c7de",
   "metadata": {},
   "source": [
    "Implement k-means algorithm from scratch using only standard Python and NumPy. Compare your results to the sklearn implementation in terms of time efficiency and accuracy. For this exercise you can use the Iris dataset."
   ]
  },
  {
   "cell_type": "code",
   "execution_count": null,
   "id": "86768558-1c39-4294-b440-3194a9ad7628",
   "metadata": {},
   "outputs": [],
   "source": []
  }
 ],
 "metadata": {
  "kernelspec": {
   "display_name": "Python 3 (ipykernel)",
   "language": "python",
   "name": "python3"
  },
  "language_info": {
   "codemirror_mode": {
    "name": "ipython",
    "version": 3
   },
   "file_extension": ".py",
   "mimetype": "text/x-python",
   "name": "python",
   "nbconvert_exporter": "python",
   "pygments_lexer": "ipython3",
   "version": "3.9.12"
  }
 },
 "nbformat": 4,
 "nbformat_minor": 5
}
