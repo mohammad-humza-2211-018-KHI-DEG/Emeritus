{
 "cells": [
  {
   "cell_type": "code",
   "execution_count": null,
   "id": "e8854eb2-00a9-4512-bc15-13a9471e1842",
   "metadata": {},
   "outputs": [],
   "source": [
    "import matplotlib.pyplot as plt\n",
    "import numpy as np\n",
    "from sklearn import datasets"
   ]
  },
  {
   "cell_type": "code",
   "execution_count": null,
   "id": "1ad459a6-7082-474d-b1f5-ce2dc78521e6",
   "metadata": {},
   "outputs": [],
   "source": [
    "iris = datasets.load_iris()"
   ]
  },
  {
   "cell_type": "code",
   "execution_count": null,
   "id": "c345f3b9-8015-4a17-91e6-2394e144658e",
   "metadata": {},
   "outputs": [],
   "source": [
    "x = iris.data\n",
    "y = iris.target"
   ]
  },
  {
   "cell_type": "markdown",
   "id": "27caf973-ba25-4e9f-aa54-3c6732d97aed",
   "metadata": {},
   "source": [
    "# PCA"
   ]
  },
  {
   "cell_type": "code",
   "execution_count": null,
   "id": "96c7872b-dc56-464d-9601-9d6da8b086e4",
   "metadata": {},
   "outputs": [],
   "source": [
    "from sklearn.decomposition import PCA"
   ]
  },
  {
   "cell_type": "code",
   "execution_count": null,
   "id": "1d29e702-7109-446f-8750-4b02469ecc9c",
   "metadata": {},
   "outputs": [],
   "source": [
    "iris = datasets.load_iris()"
   ]
  },
  {
   "cell_type": "code",
   "execution_count": null,
   "id": "c07deea8-0566-4fc7-a827-e99af68d8fa0",
   "metadata": {},
   "outputs": [],
   "source": [
    "x.shape"
   ]
  },
  {
   "cell_type": "code",
   "execution_count": null,
   "id": "68be93cd-96cb-4b12-951e-3f760a4f54f5",
   "metadata": {},
   "outputs": [],
   "source": [
    "pca = PCA(n_components=2)\n",
    "x_reduced = pca.fit_transform(x)\n",
    "\n",
    "x_reduced.shape"
   ]
  },
  {
   "cell_type": "markdown",
   "id": "1749b9a1-0d6e-4479-9de8-c256862b6281",
   "metadata": {},
   "source": [
    "# LLE"
   ]
  },
  {
   "cell_type": "code",
   "execution_count": null,
   "id": "e2ecef8d-ab16-4f55-98c2-228da3956434",
   "metadata": {},
   "outputs": [],
   "source": [
    "from sklearn.manifold import locally_linear_embedding"
   ]
  },
  {
   "cell_type": "code",
   "execution_count": null,
   "id": "aa184fad-62c7-46f8-92ab-988f6e4f442e",
   "metadata": {},
   "outputs": [],
   "source": [
    "points, color = datasets.make_swiss_roll(n_samples=1500)"
   ]
  },
  {
   "cell_type": "code",
   "execution_count": null,
   "id": "9ae688fa-ccd7-402a-9bf7-7cc46f827089",
   "metadata": {},
   "outputs": [],
   "source": [
    "lle, err = locally_linear_embedding(\n",
    "    points, n_neighbors=12, n_components=2)"
   ]
  },
  {
   "cell_type": "markdown",
   "id": "584b1384-a618-4465-be3f-64ad33a5f053",
   "metadata": {},
   "source": [
    "# K-means"
   ]
  },
  {
   "cell_type": "code",
   "execution_count": null,
   "id": "8b4a74a8-1a93-4442-8113-0e389698916d",
   "metadata": {},
   "outputs": [],
   "source": [
    "from sklearn.cluster import KMeans"
   ]
  },
  {
   "cell_type": "code",
   "execution_count": null,
   "id": "3790e3e5-e1ae-4dc2-9431-7e6c961e75f5",
   "metadata": {},
   "outputs": [],
   "source": [
    "model = KMeans(n_clusters=3, n_init=1, max_iter=100)\n",
    "model.fit(x)\n",
    "\n",
    "all_predictions = model.predict(x)\n",
    "centroids = model.cluster_centers_"
   ]
  },
  {
   "cell_type": "code",
   "execution_count": null,
   "id": "11fa3d17-7ebe-42c9-9ebd-871d7aa41ec8",
   "metadata": {},
   "outputs": [],
   "source": [
    "centroids"
   ]
  },
  {
   "cell_type": "code",
   "execution_count": null,
   "id": "3300f239-223f-4549-add2-96ceec3e440a",
   "metadata": {},
   "outputs": [],
   "source": [
    "plt.scatter(x[:,0], x[:,1], c=all_predictions)\n",
    "plt.scatter(centroids[:,0], centroids[:,1], marker='x', color=\"black\")\n",
    "plt.show"
   ]
  },
  {
   "cell_type": "markdown",
   "id": "b491a23d-3178-4c3f-a5a4-22f5c16a9342",
   "metadata": {},
   "source": [
    "## Finding optimal number of clusters"
   ]
  },
  {
   "cell_type": "code",
   "execution_count": null,
   "id": "41d26853-d126-40f7-8030-52990f0fff3a",
   "metadata": {},
   "outputs": [],
   "source": [
    "k_values = []\n",
    "intertia_scores = []\n",
    "\n",
    "for k in range(2,15):\n",
    "    model = KMeans(n_clusters=k)\n",
    "    model.fit(x)\n",
    "    intertia_scores.append(model.inertia_)\n",
    "    k_values.append(k)\n",
    "\n",
    "module_of_second_derivative = np.abs(np.diff(np.diff(intertia_scores)))"
   ]
  },
  {
   "cell_type": "code",
   "execution_count": null,
   "id": "df7f5add-20ff-48b5-9f91-66654dc5e6e7",
   "metadata": {},
   "outputs": [],
   "source": [
    "plt.plot(k_values, intertia_scores)\n",
    "plt.scatter(k_values, intertia_scores)\n",
    "plt.plot(k_values[1:-1], module_of_second_derivative, color='red')\n",
    "plt.scatter(k_values[1:-1], module_of_second_derivative, color='red')\n",
    "plt.show()"
   ]
  },
  {
   "cell_type": "markdown",
   "id": "38bb8e5d-53f1-414d-9b7a-841b17738e32",
   "metadata": {},
   "source": [
    "# Hierarchical clustering"
   ]
  },
  {
   "cell_type": "code",
   "execution_count": null,
   "id": "19b6f2df-01ef-436a-a5a7-ab71ea62a7ea",
   "metadata": {},
   "outputs": [],
   "source": [
    "from sklearn.cluster import AgglomerativeClustering"
   ]
  },
  {
   "cell_type": "code",
   "execution_count": null,
   "id": "8a06e84b-0ae5-42d4-9dd9-5abb5f1aee1a",
   "metadata": {},
   "outputs": [],
   "source": [
    "linkage_method = \"ward\"\n",
    "\n",
    "model = AgglomerativeClustering(n_clusters=3, linkage=linkage_method)\n",
    "model.fit(x)\n",
    "\n",
    "agclust_predictions = model.labels_"
   ]
  },
  {
   "cell_type": "code",
   "execution_count": null,
   "id": "3406accf-60e8-4736-95e1-79c365ea4182",
   "metadata": {},
   "outputs": [],
   "source": [
    "plt.scatter(x[:,0], x[:,1], c=agclust_predictions)\n",
    "plt.show"
   ]
  },
  {
   "cell_type": "code",
   "execution_count": null,
   "id": "dfb3a9ed-8812-40d0-ada3-68f96a1c46ca",
   "metadata": {},
   "outputs": [],
   "source": [
    "from scipy.cluster.hierarchy import dendrogram\n",
    "from scipy.cluster.hierarchy import linkage"
   ]
  },
  {
   "cell_type": "code",
   "execution_count": null,
   "id": "0097b12c-c64d-44a1-bb26-73748feb0caa",
   "metadata": {},
   "outputs": [],
   "source": [
    "linkage_method = \"ward\"\n",
    "\n",
    "dend = dendrogram(linkage(x, method='average'), truncate_mode='lastp', p=60)"
   ]
  },
  {
   "cell_type": "markdown",
   "id": "cacca84a-5031-46a5-899b-8d212c243f00",
   "metadata": {},
   "source": [
    "# DBSCAN"
   ]
  },
  {
   "cell_type": "code",
   "execution_count": null,
   "id": "ae48839e-8ec6-41f9-8d2c-b073431e9f52",
   "metadata": {},
   "outputs": [],
   "source": [
    "from sklearn.cluster import DBSCAN"
   ]
  },
  {
   "cell_type": "code",
   "execution_count": null,
   "id": "11ff92dc-998a-45ca-a32e-ff2b70b5c8d3",
   "metadata": {},
   "outputs": [],
   "source": [
    "model = DBSCAN()\n",
    "model.fit(x)\n",
    "\n",
    "dens_predictions = model.labels_"
   ]
  },
  {
   "cell_type": "code",
   "execution_count": null,
   "id": "c8a5b038-fedd-4f3d-92ba-8c73149d47c9",
   "metadata": {},
   "outputs": [],
   "source": [
    "plt.scatter(x[:,0], x[:,1], c=dens_predictions)\n",
    "plt.show"
   ]
  },
  {
   "cell_type": "code",
   "execution_count": null,
   "id": "bd309984-850a-47b1-a6fe-7b48a93379e1",
   "metadata": {},
   "outputs": [],
   "source": []
  }
 ],
 "metadata": {
  "kernelspec": {
   "display_name": "Python 3 (ipykernel)",
   "language": "python",
   "name": "python3"
  },
  "language_info": {
   "codemirror_mode": {
    "name": "ipython",
    "version": 3
   },
   "file_extension": ".py",
   "mimetype": "text/x-python",
   "name": "python",
   "nbconvert_exporter": "python",
   "pygments_lexer": "ipython3",
   "version": "3.9.12"
  }
 },
 "nbformat": 4,
 "nbformat_minor": 5
}
