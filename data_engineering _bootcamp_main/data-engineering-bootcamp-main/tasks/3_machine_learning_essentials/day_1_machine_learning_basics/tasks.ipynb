{
 "cells": [
  {
   "cell_type": "markdown",
   "id": "8bdf1811-52df-437b-b938-5e18969feaee",
   "metadata": {},
   "source": [
    "# Projects"
   ]
  },
  {
   "cell_type": "markdown",
   "id": "cdf197cf-a574-4033-9c5b-d52476f09cd7",
   "metadata": {},
   "source": [
    "## Cleaning the data"
   ]
  },
  {
   "cell_type": "markdown",
   "id": "1be3843a-51e0-41ef-83db-e13763b30d8b",
   "metadata": {},
   "source": [
    "1. Write a python function for data cleaning methods mentioned in the lecture:\n",
    "- Removing the data point containing incorrect value\n",
    "- Removing the feature column containing incorrect value\n",
    "- Replacing with a user-defined value\n",
    "- Replacing with mean, mode, or median\n",
    "- Replacing with previous or next value from the dataset\n",
    "\n",
    "For this task, use the Olympic history dataset that can be downloaded from [here](https://www.kaggle.com/datasets/heesoo37/120-years-of-olympic-history-athletes-and-results)"
   ]
  },
  {
   "cell_type": "code",
   "execution_count": null,
   "id": "5418fb90-413a-4d36-8751-ed29ae749838",
   "metadata": {},
   "outputs": [],
   "source": []
  },
  {
   "cell_type": "markdown",
   "id": "dcedc6e4-006c-4a8b-9c6a-04ef5602eeb9",
   "metadata": {},
   "source": [
    "## Splitting the data"
   ]
  },
  {
   "cell_type": "markdown",
   "id": "98b988e7-ff49-41fb-9549-1efab8f6ebf9",
   "metadata": {},
   "source": [
    "1) Write a function that will take a DataFrame and randomly split the dataset into the train, and test subsets. Add support for stratified sampling, so that the distribution of the chosen variable among the different splits is the same. For this task, use the Iris dataset that can be downloaded from [here](https://www.kaggle.com/datasets/uciml/iris)\n"
   ]
  },
  {
   "cell_type": "code",
   "execution_count": null,
   "id": "1be29016-9961-4ecc-85f9-b46b5f458ba4",
   "metadata": {},
   "outputs": [],
   "source": []
  },
  {
   "cell_type": "markdown",
   "id": "3a64ed47-b0b7-4cee-9075-0401fb1ee9a0",
   "metadata": {},
   "source": [
    "2) Write a function that will split time series into train and test subsets. Remember that when dealing with a time series, an incorrect split may lead to data leakage. For this task, use the Weather dataset that can be downloaded from [here](https://www.kaggle.com/datasets/arashnic/max-planck-weather-dataset)"
   ]
  },
  {
   "cell_type": "markdown",
   "id": "775be317-79b1-498e-9a57-d2ca248324e9",
   "metadata": {},
   "source": [
    "## Scaling the data"
   ]
  },
  {
   "cell_type": "markdown",
   "id": "278e74f3-7f41-4ed6-b3c9-7db30befd2c2",
   "metadata": {
    "jp-MarkdownHeadingCollapsed": true,
    "tags": []
   },
   "source": [
    "1. Write a python function for every type of scaling mentioned in the lecture:\n",
    "<br>\n",
    "- min-max scaling\n",
    "- max-abs scaling\n",
    "- Standard scaling\n",
    "- Unit vector scaling\n",
    "\n",
    "For this task, you can use the previously used Iris dataset. Compare your results to the sklearn implementation.\n"
   ]
  },
  {
   "cell_type": "code",
   "execution_count": null,
   "id": "00804ae0-5407-4f24-9514-e84a407a21b2",
   "metadata": {},
   "outputs": [],
   "source": []
  },
  {
   "cell_type": "markdown",
   "id": "4297ddf5-89cc-4ea3-900c-f191b006e206",
   "metadata": {},
   "source": [
    "## Calculating metrics"
   ]
  },
  {
   "cell_type": "markdown",
   "id": "953d0a03-f2c3-4517-a4b0-b75e7c67e8b4",
   "metadata": {},
   "source": [
    "1. Write a function that will generate a confusion matrix given arrays containing predicted and true values and compare your results to the sklearn implementation. Provide support for more than 2 classes. For this task, you can use the previously used Iris dataset. Use the most frequent class in the dataset to create an array of predicted values."
   ]
  },
  {
   "cell_type": "code",
   "execution_count": null,
   "id": "7e537fa1-1399-4c01-ad9f-acaea49e4b16",
   "metadata": {},
   "outputs": [],
   "source": []
  },
  {
   "cell_type": "markdown",
   "id": "c3e852ac-26e4-44f9-b44d-cc032428126b",
   "metadata": {},
   "source": [
    "2. Write a function for every type of classification metric mentioned in the lecture:\n",
    "<br>\n",
    "- accuracy\n",
    "- recall\n",
    "- precision\n",
    "- F1 score\n",
    "\n",
    "You can use the confusion matrix implementation from the previous exercise. Provide support for more than 2 classes by calculating micro and macro metrics.  Compare your results to the sklearn implementation. For this task, you can use the previously used Iris dataset."
   ]
  },
  {
   "cell_type": "code",
   "execution_count": null,
   "id": "01965273-60c0-4a64-b13c-066b4101bcd3",
   "metadata": {},
   "outputs": [],
   "source": []
  },
  {
   "cell_type": "markdown",
   "id": "fc511c97-e637-4f87-b686-e64504ee25c4",
   "metadata": {},
   "source": [
    "3. Write function for every type of regression metric mentioned in the lecture:\n",
    "<br>\n",
    "- MSE\n",
    "- RMSE\n",
    "- MAE\n",
    "\n",
    "Compare your results to the sklearn implementation. For this task, you can use the previously used Iris dataset. Use the mean value of the target column to create an array of predicted values."
   ]
  },
  {
   "cell_type": "code",
   "execution_count": null,
   "id": "965aba84-52ca-4eec-9047-4d04f5e28614",
   "metadata": {},
   "outputs": [],
   "source": []
  }
 ],
 "metadata": {
  "kernelspec": {
   "display_name": "Python 3 (ipykernel)",
   "language": "python",
   "name": "python3"
  },
  "language_info": {
   "codemirror_mode": {
    "name": "ipython",
    "version": 3
   },
   "file_extension": ".py",
   "mimetype": "text/x-python",
   "name": "python",
   "nbconvert_exporter": "python",
   "pygments_lexer": "ipython3",
   "version": "3.8.10"
  }
 },
 "nbformat": 4,
 "nbformat_minor": 5
}
