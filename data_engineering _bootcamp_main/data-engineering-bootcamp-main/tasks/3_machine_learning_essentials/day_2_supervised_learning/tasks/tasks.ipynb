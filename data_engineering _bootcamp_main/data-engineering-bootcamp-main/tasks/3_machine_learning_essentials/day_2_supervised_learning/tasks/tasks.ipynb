{
 "cells": [
  {
   "cell_type": "markdown",
   "id": "a9598168-90d2-4fea-a7b5-56269049367d",
   "metadata": {},
   "source": [
    "# Projects"
   ]
  },
  {
   "cell_type": "markdown",
   "id": "c07973b3-02c0-436d-bc79-e9cc79878b23",
   "metadata": {},
   "source": [
    "## k-NN from scratch"
   ]
  },
  {
   "cell_type": "markdown",
   "id": "08641046-9b72-4fd9-85f0-c3975371b9cc",
   "metadata": {},
   "source": [
    "Implement k-NN classifier from scratch using only standard Python and NumPy. Let all the points in the neighborhood be weighted equally. Provide support for both manhattan and euclidean distance metrics. Use the brute force approach to calculate the neighbors. Compare your results to the sklearn implementation in terms of time efficiency and accuracy on the Iris dataset."
   ]
  },
  {
   "cell_type": "code",
   "execution_count": null,
   "id": "7f664cc5-eb81-4c0e-81be-912f1a8bf8e3",
   "metadata": {},
   "outputs": [],
   "source": []
  },
  {
   "cell_type": "markdown",
   "id": "253b090c-accf-4529-b9e9-780ea0cf0806",
   "metadata": {},
   "source": [
    "## Linear regression from scratch"
   ]
  },
  {
   "cell_type": "markdown",
   "id": "79c7c174-1d68-4630-b184-5e085a11e414",
   "metadata": {},
   "source": [
    "Implement the simple linear regression model from scratch using only standard Python and NumPy. Use the following equation to calculate the coefficients of the model:\n",
    "\n",
    "<br>\n",
    "$ \\hat{W}=(X^TX)^{-1}X^TY$\n",
    "<br>\n",
    "X - feature matrix of size (sample size, number of features)\n",
    "<br>\n",
    "Y - target vector of size (sample size,)\n",
    "<br>\n",
    "T - transposition operator\n",
    "</br>\n",
    "<br>\n",
    "Compare your results to the sklearn implementation in terms of time efficiency and accuracy on the diabetes dataset using its third column as a feature vector."
   ]
  },
  {
   "cell_type": "code",
   "execution_count": null,
   "id": "ae6ac84c-045f-4fa7-8485-78fc905e2a72",
   "metadata": {},
   "outputs": [],
   "source": []
  },
  {
   "cell_type": "markdown",
   "id": "0d423bfa-698c-47e8-9139-914b1ef5975c",
   "metadata": {},
   "source": [
    "## Classification with Sklearn"
   ]
  },
  {
   "cell_type": "markdown",
   "id": "501a892a-91f4-4848-9ee8-9e29abe50648",
   "metadata": {},
   "source": [
    "Download Titanic dataset from [here](https://www.kaggle.com/competitions/titanic/overview). Then, complete the following experiments:\n",
    "    <li>1. Preprocess the data so it can be used in training. If necessary, remove missing values, normalize the data and perform label encoding.</li>\n",
    "    <li>2. Train and evaluate 3 different classification models. Calculate precision, recall and F1 score for each model.</li>\n",
    "    <li>3. Find the optimal set of parameters for the best performing model using either Grid or Random Search.</li>\n",
    "    <li>4. Create and train voting ensemble classifier using previously picked models. Evaluate it and compare it to previously trained models.</li>\n"
   ]
  },
  {
   "cell_type": "code",
   "execution_count": null,
   "id": "31a4166f-9a2e-4325-bc67-0eda2d839b3e",
   "metadata": {},
   "outputs": [],
   "source": []
  },
  {
   "cell_type": "markdown",
   "id": "5cacb05d-d3fc-48d5-8688-1408b9c22ca4",
   "metadata": {},
   "source": [
    "## Regression with Sklearn"
   ]
  },
  {
   "cell_type": "markdown",
   "id": "a1c54193-797c-4888-9235-f947672c7806",
   "metadata": {},
   "source": [
    "Download the Boston Housing dataset from [here](https://www.kaggle.com/code/prasadperera/the-boston-housing-dataset). Then, complete the following experiments:\n",
    "    <li>1. Preprocess the data so it can be used in training. If necessary, remove missing values, and normalize the data.</li>\n",
    "    <li>2. Train and evaluate 3 different regression models. Calculate MAE, MSEa and RMSE for each model.</li>\n",
    "    <li>3. Find the optimal set of parameters for the best performing model using either Grid or Random Search.</li>\n"
   ]
  },
  {
   "cell_type": "code",
   "execution_count": null,
   "id": "10ea623b-83c7-45ea-b0b8-c8f8c0a69f62",
   "metadata": {},
   "outputs": [],
   "source": []
  }
 ],
 "metadata": {
  "kernelspec": {
   "display_name": "Python 3 (ipykernel)",
   "language": "python",
   "name": "python3"
  },
  "language_info": {
   "codemirror_mode": {
    "name": "ipython",
    "version": 3
   },
   "file_extension": ".py",
   "mimetype": "text/x-python",
   "name": "python",
   "nbconvert_exporter": "python",
   "pygments_lexer": "ipython3",
   "version": "3.9.12"
  }
 },
 "nbformat": 4,
 "nbformat_minor": 5
}
