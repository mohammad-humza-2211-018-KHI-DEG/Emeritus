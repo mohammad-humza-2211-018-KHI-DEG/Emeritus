{
 "cells": [
  {
   "cell_type": "code",
   "execution_count": null,
   "id": "27b51a77-8049-4a03-b861-be15fe22d536",
   "metadata": {},
   "outputs": [],
   "source": [
    "import matplotlib.pyplot as plt\n",
    "import numpy as np\n",
    "from sklearn import datasets\n",
    "from sklearn.metrics import f1_score, mean_squared_error\n",
    "from sklearn.model_selection import train_test_split\n",
    "from sklearn.preprocessing import StandardScaler"
   ]
  },
  {
   "cell_type": "markdown",
   "id": "4e5d2ffb-cc04-4301-a4dd-9fde2c03e70f",
   "metadata": {},
   "source": [
    "# kNN"
   ]
  },
  {
   "cell_type": "code",
   "execution_count": null,
   "id": "30109fbd-23cc-48f5-99d9-afb96036b058",
   "metadata": {},
   "outputs": [],
   "source": [
    "from sklearn.neighbors import KNeighborsClassifier"
   ]
  },
  {
   "cell_type": "code",
   "execution_count": null,
   "id": "eadc4450-f2a5-4cdb-9690-fc4774b8c8bf",
   "metadata": {},
   "outputs": [],
   "source": [
    "iris = datasets.load_iris()\n",
    "iris_x = iris.data[:, 2:]\n",
    "iris_y = iris.target"
   ]
  },
  {
   "cell_type": "code",
   "execution_count": null,
   "id": "5638ae46-74dd-42ed-8b41-b7b776a87e83",
   "metadata": {},
   "outputs": [],
   "source": [
    "x_train, x_test, y_train, y_test = train_test_split(iris_x, iris_y, test_size=0.2)\n",
    "scaler = StandardScaler()\n",
    "x_train = scaler.fit_transform(x_train)\n",
    "x_test = scaler.transform(x_test)"
   ]
  },
  {
   "cell_type": "code",
   "execution_count": null,
   "id": "7fea8f85-465f-4b47-8829-a4d9dfbe3cb2",
   "metadata": {},
   "outputs": [],
   "source": [
    "model = KNeighborsClassifier()"
   ]
  },
  {
   "cell_type": "code",
   "execution_count": null,
   "id": "4971d463-742f-4d47-b604-c46c72be33cb",
   "metadata": {},
   "outputs": [],
   "source": [
    "model.fit(x_train, y_train)"
   ]
  },
  {
   "cell_type": "code",
   "execution_count": null,
   "id": "96045c27-dd06-4e78-a74f-85edcbdf6ed4",
   "metadata": {},
   "outputs": [],
   "source": [
    "y_pred = model.predict(x_test)\n",
    "f1_score(y_test, y_pred, average=\"micro\")"
   ]
  },
  {
   "cell_type": "markdown",
   "id": "ddcf0e6e-3b0b-46cf-9683-610129856b70",
   "metadata": {},
   "source": [
    "# Linear regression"
   ]
  },
  {
   "cell_type": "code",
   "execution_count": null,
   "id": "8dc0b6e9-0484-45e0-aafe-1612e560c0ba",
   "metadata": {},
   "outputs": [],
   "source": [
    "from sklearn.linear_model import LinearRegression"
   ]
  },
  {
   "cell_type": "code",
   "execution_count": null,
   "id": "58d1d857-5d74-4eb4-8513-66d217b34966",
   "metadata": {},
   "outputs": [],
   "source": [
    "diabetes_x, diabetes_y = datasets.load_diabetes(return_X_y=True)\n",
    "diabetes_x = diabetes_x[:, 2].reshape(-1, 1)\n",
    "\n",
    "x_train, x_test, y_train, y_test = train_test_split(diabetes_x, diabetes_y, test_size=0.2)"
   ]
  },
  {
   "cell_type": "code",
   "execution_count": null,
   "id": "a660120c-0102-43b1-95a2-722e0da1af24",
   "metadata": {},
   "outputs": [],
   "source": [
    "model = LinearRegression()\n",
    "model.fit(x_train, y_train)"
   ]
  },
  {
   "cell_type": "code",
   "execution_count": null,
   "id": "55a581ff-feb8-48d8-a25b-f80193a86a74",
   "metadata": {
    "tags": []
   },
   "outputs": [],
   "source": [
    "y_pred = model.predict(x_test)\n",
    "mean_squared_error(y_test, y_pred)"
   ]
  },
  {
   "cell_type": "code",
   "execution_count": null,
   "id": "5c31feda-373e-418d-a08e-394152b2770e",
   "metadata": {},
   "outputs": [],
   "source": [
    "plt.scatter(x_test, y_test, color=\"black\")\n",
    "plt.plot(x_test, y_pred, color=\"blue\", linewidth=3)\n",
    "plt.xticks(())\n",
    "plt.yticks(())\n",
    "plt.show()"
   ]
  },
  {
   "cell_type": "code",
   "execution_count": null,
   "id": "5bbc3ee3-9aad-4549-9559-6a7598a2e5ff",
   "metadata": {},
   "outputs": [],
   "source": [
    "from sklearn.preprocessing import PolynomialFeatures"
   ]
  },
  {
   "cell_type": "code",
   "execution_count": null,
   "id": "a4775c31-36b1-4bdb-8167-3dd1f8069fc0",
   "metadata": {},
   "outputs": [],
   "source": [
    "poly_features = PolynomialFeatures(degree=4)\n",
    "\n",
    "x_train_poly = poly_features.fit_transform(x_train).reshape(-1, 5)\n",
    "x_test_poly = poly_features.transform(x_test).reshape(-1, 5)\n",
    "\n",
    "model = LinearRegression()\n",
    "model.fit(x_train_poly, y_train)\n",
    "\n",
    "y_pred = model.predict(x_test_poly)\n",
    "mean_squared_error(y_test, y_pred)"
   ]
  },
  {
   "cell_type": "code",
   "execution_count": null,
   "id": "7682de42-79a3-41d9-aeff-af487a7c7606",
   "metadata": {},
   "outputs": [],
   "source": [
    "X_test = np.linspace(-0.1, 0.16, 100).reshape(-1, 1)\n",
    "X_test_poly = poly_features.fit_transform(X_test).reshape(-1, 5)\n",
    "y_pred = model.predict(X_test_poly)\n",
    "plt.scatter(x_test, y_test, color=\"black\")\n",
    "plt.plot(X_test, y_pred, color=\"blue\", linewidth=3)\n",
    "plt.xticks(())\n",
    "plt.yticks(())\n",
    "plt.show()"
   ]
  },
  {
   "cell_type": "markdown",
   "id": "5280e61b-923c-42e7-839e-e98e6a879115",
   "metadata": {},
   "source": [
    "# Logistic regression"
   ]
  },
  {
   "cell_type": "code",
   "execution_count": null,
   "id": "6c9a253c-c2ab-4517-b8fe-5c16e13173ea",
   "metadata": {},
   "outputs": [],
   "source": [
    "from sklearn.linear_model import LogisticRegression"
   ]
  },
  {
   "cell_type": "code",
   "execution_count": null,
   "id": "516d5476-f53e-49ad-ba32-415de3756fac",
   "metadata": {},
   "outputs": [],
   "source": [
    "breast_cancer = datasets.load_breast_cancer()\n",
    "bc_x = breast_cancer.data[:, :2]\n",
    "bc_y = breast_cancer.target\n",
    "\n",
    "x_train, x_test, y_train, y_test = train_test_split(bc_x, bc_y, test_size=0.2)\n",
    "\n",
    "scaler = StandardScaler()\n",
    "x_train = scaler.fit_transform(x_train)\n",
    "x_test = scaler.transform(x_test)\n",
    "\n",
    "model = LogisticRegression()\n",
    "model.fit(x_train, y_train)\n",
    "\n",
    "y_pred = model.predict(x_test)\n",
    "f1_score(y_test, y_pred)"
   ]
  },
  {
   "cell_type": "markdown",
   "id": "299fe5bf-5e70-459f-bf7a-da4d5151e654",
   "metadata": {},
   "source": [
    "# SVM"
   ]
  },
  {
   "cell_type": "code",
   "execution_count": null,
   "id": "3557ccc0-9799-4a19-b1e5-7772aec3a263",
   "metadata": {},
   "outputs": [],
   "source": [
    "from sklearn.svm import SVC"
   ]
  },
  {
   "cell_type": "code",
   "execution_count": null,
   "id": "5c7b19d2-74f9-4bfa-a082-5358e3402673",
   "metadata": {},
   "outputs": [],
   "source": [
    "iris_x = iris.data[:, 2:]\n",
    "iris_y = iris.target\n",
    "\n",
    "x_train, x_test, y_train, y_test = train_test_split(iris_x, iris_y, test_size=0.2)\n",
    "\n",
    "scaler = StandardScaler()\n",
    "x_train = scaler.fit_transform(x_train)\n",
    "x_test = scaler.transform(x_test)\n",
    "\n",
    "model = SVC(kernel=\"linear\")\n",
    "model.fit(x_train, y_train)\n",
    "\n",
    "y_pred = model.predict(x_test)\n",
    "f1_score(y_test, y_pred, average=\"micro\")"
   ]
  },
  {
   "cell_type": "markdown",
   "id": "bbed4c81-1dbb-45e1-a01d-997def673cc8",
   "metadata": {},
   "source": [
    "## SVM with non-linear kernel"
   ]
  },
  {
   "cell_type": "code",
   "execution_count": null,
   "id": "0753f28b-51c5-4b04-969f-512ac2dac7dc",
   "metadata": {},
   "outputs": [],
   "source": [
    "model_rbf = SVC(kernel=\"rbf\")\n",
    "model_rbf.fit(x_train, y_train)\n",
    "\n",
    "y_pred_rbf = model_rbf.predict(x_test)\n",
    "f1_score(y_test, y_pred_rbf, average=\"macro\")"
   ]
  },
  {
   "cell_type": "markdown",
   "id": "0c8085da-df08-457f-a4fe-7d1bd85ce2a9",
   "metadata": {},
   "source": [
    "# Decision tree"
   ]
  },
  {
   "cell_type": "code",
   "execution_count": null,
   "id": "bf5fbead-0d88-454d-ae7b-29a7c675bdc0",
   "metadata": {},
   "outputs": [],
   "source": [
    "from sklearn.tree import DecisionTreeClassifier"
   ]
  },
  {
   "cell_type": "code",
   "execution_count": null,
   "id": "7373c473-c2c1-4a5b-bd39-1dc6367e1833",
   "metadata": {},
   "outputs": [],
   "source": [
    "iris_x = iris.data[:, 2:]\n",
    "iris_y = iris.target\n",
    "\n",
    "x_train, x_test, y_train, y_test=train_test_split(iris_x, iris_y, test_size=0.2)\n",
    "\n",
    "model = DecisionTreeClassifier(max_depth=2)\n",
    "model.fit(x_train, y_train)\n",
    "\n",
    "y_pred = model.predict(x_test)\n",
    "f1_score(y_test, y_pred, average=\"micro\")"
   ]
  },
  {
   "cell_type": "code",
   "execution_count": null,
   "id": "87aa2324-31ad-406c-8587-37c2ac692277",
   "metadata": {},
   "outputs": [],
   "source": [
    "from sklearn.tree import export_graphviz"
   ]
  },
  {
   "cell_type": "code",
   "execution_count": null,
   "id": "c7472ea9-0f59-4d9e-a320-d8bc5492d86f",
   "metadata": {},
   "outputs": [],
   "source": [
    "export_graphviz(\n",
    "    model,\n",
    "    out_file=\"./decision_tree.dot\",\n",
    "    feature_names=iris.feature_names[2:],\n",
    "    class_names=iris.target_names,\n",
    "    rounded=True,\n",
    "    filled=True)"
   ]
  },
  {
   "cell_type": "markdown",
   "id": "83a5253f-42d8-458d-b082-0ff7da28b4c7",
   "metadata": {},
   "source": [
    "Run `dot -Tpng decision_tree.dot -o decision_tree.png` in terminal."
   ]
  },
  {
   "cell_type": "markdown",
   "id": "b575f0c1-6afd-4d76-99b7-a2a4e0969849",
   "metadata": {},
   "source": [
    "# Voting classifier"
   ]
  },
  {
   "cell_type": "code",
   "execution_count": null,
   "id": "33ea9f07-d039-4035-9eb5-977ba9fb9aa6",
   "metadata": {},
   "outputs": [],
   "source": [
    "from sklearn.ensemble import VotingClassifier"
   ]
  },
  {
   "cell_type": "code",
   "execution_count": null,
   "id": "23f46b8d-c0bc-48b5-ba77-d192666f6ade",
   "metadata": {},
   "outputs": [],
   "source": [
    "iris_x = iris.data[:, 2:]\n",
    "iris_y = iris.target\n",
    "\n",
    "x_train, x_test, y_train, y_test = train_test_split(iris_x, iris_y, test_size=0.25)\n",
    "\n",
    "scaler = StandardScaler()\n",
    "x_train = scaler.fit_transform(x_train)\n",
    "x_test = scaler.transform(x_test)\n",
    "\n",
    "dt_model = DecisionTreeClassifier()\n",
    "svm_model = SVC()\n",
    "log_model = LogisticRegression()\n",
    "\n",
    "voting_model = VotingClassifier(\n",
    "    estimators=[('dt', dt_model),\n",
    "                ('svm', svm_model),\n",
    "                ('lr', log_model)],\n",
    "    voting='hard')\n",
    "voting_model.fit(x_train, y_train)\n",
    "for model in (dt_model, svm_model, log_model, voting_model):\n",
    "    model.fit(x_train, y_train)\n",
    "    y_pred = model.predict(x_test)\n",
    "    print(model.__class__.__name__, f1_score(y_test, y_pred,average=\"micro\"))"
   ]
  },
  {
   "cell_type": "markdown",
   "id": "bdcb2424-3a91-4e45-9e30-cc1d1efa9e09",
   "metadata": {},
   "source": [
    "# Bagging classifier"
   ]
  },
  {
   "cell_type": "code",
   "execution_count": null,
   "id": "73128079-43f3-459a-aa43-7fddff099fe7",
   "metadata": {},
   "outputs": [],
   "source": [
    "from sklearn.ensemble import BaggingClassifier"
   ]
  },
  {
   "cell_type": "code",
   "execution_count": null,
   "id": "4a0fe51c-4eee-4de6-bb73-862f4a9cca8f",
   "metadata": {},
   "outputs": [],
   "source": [
    "iris_x = iris.data\n",
    "iris_y = iris.target\n",
    "\n",
    "x_train, x_test, y_train, y_test = train_test_split(iris_x, iris_y, test_size=0.2)\n",
    "\n",
    "model = BaggingClassifier(LogisticRegression(), max_samples=0.5, max_features=0.5)\n",
    "model.fit(x_train, y_train)\n",
    "y_pred = model.predict(x_test)\n",
    "\n",
    "f1_score(y_test, y_pred, average=\"micro\")"
   ]
  },
  {
   "cell_type": "markdown",
   "id": "ee6b7bb0-1c5e-4484-b4b7-9d0b1f3aadb3",
   "metadata": {},
   "source": [
    "# Random forest"
   ]
  },
  {
   "cell_type": "code",
   "execution_count": null,
   "id": "8301914c-9125-4b37-aab4-55ab5dcce009",
   "metadata": {},
   "outputs": [],
   "source": [
    "from sklearn.ensemble import RandomForestClassifier"
   ]
  },
  {
   "cell_type": "code",
   "execution_count": null,
   "id": "0c575063-d3a9-4263-9969-ab4df8f2f1e9",
   "metadata": {},
   "outputs": [],
   "source": [
    "iris_x = iris.data\n",
    "iris_y = iris.target\n",
    "\n",
    "x_train, x_test, y_train, y_test = train_test_split(iris_x, iris_y, test_size=0.2)\n",
    "\n",
    "model = RandomForestClassifier()\n",
    "model.fit(x_train, y_train)\n",
    "y_pred = model.predict(x_test)\n",
    "\n",
    "f1_score(y_test, y_pred, average=\"micro\")"
   ]
  },
  {
   "cell_type": "code",
   "execution_count": null,
   "id": "ed7a5db7-b55e-42c9-a8ec-8a611c393953",
   "metadata": {},
   "outputs": [],
   "source": []
  }
 ],
 "metadata": {
  "kernelspec": {
   "display_name": "Python 3 (ipykernel)",
   "language": "python",
   "name": "python3"
  },
  "language_info": {
   "codemirror_mode": {
    "name": "ipython",
    "version": 3
   },
   "file_extension": ".py",
   "mimetype": "text/x-python",
   "name": "python",
   "nbconvert_exporter": "python",
   "pygments_lexer": "ipython3",
   "version": "3.9.12"
  }
 },
 "nbformat": 4,
 "nbformat_minor": 5
}
