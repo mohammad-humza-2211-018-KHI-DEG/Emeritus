{
 "cells": [
  {
   "cell_type": "code",
   "execution_count": 1,
   "id": "dba8d356-4089-44b5-87ac-2e23f0efd1eb",
   "metadata": {
    "pycharm": {
     "name": "#%%\n"
    }
   },
   "outputs": [],
   "source": [
    "from pyspark.sql import SparkSession\n",
    "from pyspark.sql.types import IntegerType"
   ]
  },
  {
   "cell_type": "code",
   "execution_count": 2,
   "id": "7a6bfebe-3409-4034-b6ba-c34e465f1e39",
   "metadata": {
    "pycharm": {
     "name": "#%%\n"
    }
   },
   "outputs": [],
   "source": [
    "scSpark = SparkSession.builder.appName(\"Spark Example\").getOrCreate()"
   ]
  },
  {
   "cell_type": "code",
   "execution_count": 3,
   "id": "36bbf2c3-1448-4a01-9327-5d6bc575f1cc",
   "metadata": {
    "pycharm": {
     "name": "#%%\n"
    }
   },
   "outputs": [],
   "source": [
    "df_merged = scSpark.read.csv(\"df*.csv\", header=True)"
   ]
  },
  {
   "cell_type": "code",
   "execution_count": 4,
   "id": "fc47ef4a-83c7-4d3e-8626-80a0c3109da2",
   "metadata": {
    "pycharm": {
     "name": "#%%\n"
    }
   },
   "outputs": [
    {
     "name": "stdout",
     "output_type": "stream",
     "text": [
      "+-----------+----------+-----------+\n",
      "|customer_id|trans_date|tran_amount|\n",
      "+-----------+----------+-----------+\n",
      "|     CS5276|2014-09-02|         62|\n",
      "|     CS4304|2014-04-03|         94|\n",
      "|     CS5412|2011-11-07|         59|\n",
      "|     CS3310|2012-01-02|         36|\n",
      "|     CS4032|2012-05-15|         42|\n",
      "+-----------+----------+-----------+\n",
      "\n"
     ]
    }
   ],
   "source": [
    "df_merged.limit(5).show()"
   ]
  },
  {
   "cell_type": "code",
   "execution_count": 5,
   "id": "53c7ac81-efce-4246-b280-f1ea779b8e98",
   "metadata": {
    "pycharm": {
     "name": "#%%\n"
    }
   },
   "outputs": [],
   "source": [
    "df_merged = df_merged.withColumn(\n",
    "    \"tran_amount\", df_merged[\"tran_amount\"].cast(IntegerType())\n",
    ")"
   ]
  },
  {
   "cell_type": "code",
   "execution_count": 6,
   "id": "9a82339b-0958-4b3e-909b-4520defc0301",
   "metadata": {
    "pycharm": {
     "name": "#%%\n"
    }
   },
   "outputs": [
    {
     "name": "stdout",
     "output_type": "stream",
     "text": [
      "+----------+----------------+\n",
      "|trans_date|sum(tran_amount)|\n",
      "+----------+----------------+\n",
      "|2014-05-27|             232|\n",
      "|2013-03-14|              97|\n",
      "|2014-12-13|             247|\n",
      "|2014-02-22|              50|\n",
      "|2012-10-21|             362|\n",
      "|2014-07-14|             169|\n",
      "|2012-03-04|             218|\n",
      "|2015-02-27|             242|\n",
      "|2014-12-11|             230|\n",
      "|2015-02-28|             357|\n",
      "|2015-02-26|             221|\n",
      "|2012-03-09|             205|\n",
      "|2011-07-16|             153|\n",
      "|2012-01-12|              66|\n",
      "|2013-12-28|             319|\n",
      "|2015-02-08|             298|\n",
      "|2014-11-01|             173|\n",
      "|2014-03-17|             438|\n",
      "|2013-11-08|              89|\n",
      "|2012-05-30|             392|\n",
      "+----------+----------------+\n",
      "only showing top 20 rows\n",
      "\n"
     ]
    }
   ],
   "source": [
    "transactions_per_day = df_merged.groupBy(\"trans_date\").sum(\"tran_amount\")\n",
    "transactions_per_day.show()"
   ]
  },
  {
   "cell_type": "code",
   "execution_count": 7,
   "id": "20b07e31-cd1a-43c0-801d-fe66597dec17",
   "metadata": {
    "pycharm": {
     "name": "#%%\n"
    }
   },
   "outputs": [],
   "source": [
    "df_merged.createOrReplaceTempView(\"sales\")"
   ]
  },
  {
   "cell_type": "code",
   "execution_count": 8,
   "id": "5616b521-4db7-4e12-94f0-228f797d8f98",
   "metadata": {
    "pycharm": {
     "name": "#%%\n"
    }
   },
   "outputs": [
    {
     "name": "stdout",
     "output_type": "stream",
     "text": [
      "+-----------+----------+-----------+\n",
      "|customer_id|trans_date|tran_amount|\n",
      "+-----------+----------+-----------+\n",
      "|     CS5276|2014-09-02|         62|\n",
      "|     CS4304|2014-04-03|         94|\n",
      "|     CS5412|2011-11-07|         59|\n",
      "|     CS3310|2012-01-02|         36|\n",
      "|     CS4032|2012-05-15|         42|\n",
      "|     CS5240|2014-11-01|        104|\n",
      "|     CS5561|2011-11-14|         36|\n",
      "|     CS4543|2012-04-05|         81|\n",
      "|     CS4375|2013-08-30|         36|\n",
      "|     CS6051|2013-12-06|         85|\n",
      "|     CS2881|2014-05-06|         94|\n",
      "|     CS2376|2012-01-25|         63|\n",
      "|     CS1505|2012-08-10|         77|\n",
      "|     CS1575|2013-07-16|         36|\n",
      "|     CS5461|2014-05-01|         73|\n",
      "|     CS2573|2012-03-03|         40|\n",
      "|     CS1996|2012-04-27|         47|\n",
      "|     CS2987|2013-12-14|         42|\n",
      "|     CS4294|2014-11-20|         50|\n",
      "|     CS2891|2012-08-04|         83|\n",
      "+-----------+----------+-----------+\n",
      "only showing top 20 rows\n",
      "\n"
     ]
    }
   ],
   "source": [
    "output = scSpark.sql(\"SELECT * from sales\")\n",
    "output.show()"
   ]
  },
  {
   "cell_type": "code",
   "execution_count": 9,
   "id": "8dcb17de-1e02-4744-9cdf-27fa5d511dea",
   "metadata": {
    "pycharm": {
     "name": "#%%\n"
    }
   },
   "outputs": [
    {
     "name": "stdout",
     "output_type": "stream",
     "text": [
      "+----------+-----+\n",
      "|trans_date|total|\n",
      "+----------+-----+\n",
      "|2014-05-27|  232|\n",
      "|2013-03-14|   97|\n",
      "|2014-12-13|  247|\n",
      "|2014-02-22|   50|\n",
      "|2012-10-21|  362|\n",
      "|2014-07-14|  169|\n",
      "|2012-03-04|  218|\n",
      "|2015-02-27|  242|\n",
      "|2014-12-11|  230|\n",
      "|2015-02-28|  357|\n",
      "|2015-02-26|  221|\n",
      "|2012-03-09|  205|\n",
      "|2011-07-16|  153|\n",
      "|2012-01-12|   66|\n",
      "|2013-12-28|  319|\n",
      "|2015-02-08|  298|\n",
      "|2014-11-01|  173|\n",
      "|2014-03-17|  438|\n",
      "|2013-11-08|   89|\n",
      "|2012-05-30|  392|\n",
      "+----------+-----+\n",
      "only showing top 20 rows\n",
      "\n"
     ]
    }
   ],
   "source": [
    "transactions_per_day = scSpark.sql(\n",
    "    \"SELECT trans_date, SUM(tran_amount) as total FROM sales GROUP BY trans_date;\"\n",
    ")\n",
    "transactions_per_day.show()"
   ]
  },
  {
   "cell_type": "code",
   "execution_count": null,
   "id": "94fde452-35e6-4e9a-a726-762c4aa927ce",
   "metadata": {
    "pycharm": {
     "name": "#%%\n"
    }
   },
   "outputs": [],
   "source": []
  }
 ],
 "metadata": {
  "kernelspec": {
   "display_name": "Python 3 (ipykernel)",
   "language": "python",
   "name": "python3"
  },
  "language_info": {
   "codemirror_mode": {
    "name": "ipython",
    "version": 3
   },
   "file_extension": ".py",
   "mimetype": "text/x-python",
   "name": "python",
   "nbconvert_exporter": "python",
   "pygments_lexer": "ipython3",
   "version": "3.10.8"
  }
 },
 "nbformat": 4,
 "nbformat_minor": 5
}