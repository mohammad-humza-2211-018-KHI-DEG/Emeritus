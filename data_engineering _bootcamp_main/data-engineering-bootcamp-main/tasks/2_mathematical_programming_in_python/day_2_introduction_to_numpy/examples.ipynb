{
 "cells": [
  {
   "cell_type": "markdown",
   "metadata": {},
   "source": [
    "# Day 4: Introduction to NumPy"
   ]
  },
  {
   "cell_type": "markdown",
   "metadata": {},
   "source": [
    "## Examples"
   ]
  },
  {
   "cell_type": "markdown",
   "metadata": {},
   "source": [
    "### Why do we need it?"
   ]
  },
  {
   "cell_type": "markdown",
   "metadata": {},
   "source": [
    "Let's try some basic array operations on standard Python arrays - lists:"
   ]
  },
  {
   "cell_type": "code",
   "execution_count": null,
   "metadata": {},
   "outputs": [],
   "source": [
    "x = [1, 2, 3]\n",
    "y = [3, 4, 5]\n",
    "x + y  # Add arrays"
   ]
  },
  {
   "cell_type": "code",
   "execution_count": null,
   "metadata": {},
   "outputs": [],
   "source": [
    "x * 2  # Multiply the array by integer"
   ]
  },
  {
   "cell_type": "code",
   "execution_count": null,
   "metadata": {},
   "outputs": [],
   "source": [
    "x * y  # Multiply matrix by matrix"
   ]
  },
  {
   "cell_type": "markdown",
   "metadata": {},
   "source": [
    "Is it our desired result? In terms of matrix calculations - no."
   ]
  },
  {
   "cell_type": "markdown",
   "metadata": {},
   "source": [
    "### Array creation"
   ]
  },
  {
   "cell_type": "code",
   "execution_count": null,
   "metadata": {},
   "outputs": [],
   "source": [
    "import numpy as np"
   ]
  },
  {
   "cell_type": "code",
   "execution_count": null,
   "metadata": {},
   "outputs": [],
   "source": [
    "x_a = np.array(x)\n",
    "y_a = np.array(y)"
   ]
  },
  {
   "cell_type": "markdown",
   "metadata": {},
   "source": [
    "In NumPy you can of course build 2-dimensional matrices:"
   ]
  },
  {
   "cell_type": "code",
   "execution_count": null,
   "metadata": {},
   "outputs": [],
   "source": [
    "arr2d = np.array(\n",
    "    [x, y]\n",
    ")  # If we use nested lists, numpy can build multi-dimensional arrays from them!\n",
    "arr2d"
   ]
  },
  {
   "cell_type": "code",
   "execution_count": null,
   "metadata": {},
   "outputs": [],
   "source": [
    "arr2d.shape"
   ]
  },
  {
   "cell_type": "markdown",
   "metadata": {},
   "source": [
    "... or 3-dimensional matrices:"
   ]
  },
  {
   "cell_type": "code",
   "execution_count": null,
   "metadata": {},
   "outputs": [],
   "source": [
    "arr3d = np.array([[x, y], [x, y]])  # Nested lists again\n",
    "arr3d"
   ]
  },
  {
   "cell_type": "code",
   "execution_count": null,
   "metadata": {},
   "outputs": [],
   "source": [
    "arr3d.shape"
   ]
  },
  {
   "cell_type": "code",
   "execution_count": null,
   "metadata": {},
   "outputs": [],
   "source": [
    "arr3d = np.array(\n",
    "    [arr2d, arr2d, arr2d]\n",
    ")  # You can also use list of arrays to create a new one\n",
    "print(arr3d)\n",
    "print(arr3d.shape)"
   ]
  },
  {
   "cell_type": "markdown",
   "metadata": {},
   "source": [
    "You can build `N`-dimensional arrays in NumPy! But there is a limit - `N` must be no greater than 32."
   ]
  },
  {
   "cell_type": "code",
   "execution_count": null,
   "metadata": {},
   "outputs": [],
   "source": [
    "N = 32\n",
    "arr = np.array([1, 2, 3])\n",
    "for i in range(N - 1):\n",
    "    arr = np.expand_dims(arr, axis=-1)\n",
    "print(\"Shape of arr: {}\".format(arr.shape))\n",
    "print(\"Number of dimensions of arr: {}\".format(arr.ndim))"
   ]
  },
  {
   "cell_type": "markdown",
   "metadata": {},
   "source": [
    "OK, so we know how to build arrays in a simple way. Let's play with the arrays a little bit!"
   ]
  },
  {
   "cell_type": "markdown",
   "metadata": {},
   "source": [
    "### Array operations"
   ]
  },
  {
   "cell_type": "code",
   "execution_count": null,
   "metadata": {},
   "outputs": [],
   "source": [
    "x_a + y_a"
   ]
  },
  {
   "cell_type": "code",
   "execution_count": null,
   "metadata": {},
   "outputs": [],
   "source": [
    "x_a * 2"
   ]
  },
  {
   "cell_type": "code",
   "execution_count": null,
   "metadata": {},
   "outputs": [],
   "source": [
    "x_a * y_a  # This is element-wise multiplication"
   ]
  },
  {
   "cell_type": "code",
   "execution_count": null,
   "metadata": {},
   "outputs": [],
   "source": [
    "np.dot(\n",
    "    x_a, y_a\n",
    ")  # This is matrix multiplication. For 1-dimensional arrays it's just a dot product\n",
    "# Later we will see the dot product of 2-dimensional matrices"
   ]
  },
  {
   "cell_type": "code",
   "execution_count": null,
   "metadata": {},
   "outputs": [],
   "source": [
    "x_a @ y_a  # This is alternative way to calculate dot product"
   ]
  },
  {
   "cell_type": "markdown",
   "metadata": {},
   "source": [
    "Now that's way more intuitive in terms of matrix calculations."
   ]
  },
  {
   "cell_type": "markdown",
   "metadata": {},
   "source": [
    "And now it's time to show 2-d matrix multiplication"
   ]
  },
  {
   "cell_type": "code",
   "execution_count": null,
   "metadata": {},
   "outputs": [],
   "source": [
    "print(\"arr2d:\\n{}\".format(arr2d))\n",
    "print(\"arr2d transposed:\\n{}\".format(arr2d.T))\n",
    "product = np.dot(arr2d, arr2d.T)  # We have to transpose the second argument,\n",
    "print(\n",
    "    \"Product of these matrices:\\n{}\".format(product)\n",
    ")  # because otherwise the dimensions won't match\n",
    "product = arr2d @ arr2d.T\n",
    "print(\"Product of these matrices, alternative way of calculation:\\n{}\".format(product))"
   ]
  },
  {
   "cell_type": "markdown",
   "metadata": {},
   "source": [
    "### Array slicing and indexing"
   ]
  },
  {
   "cell_type": "code",
   "execution_count": null,
   "metadata": {},
   "outputs": [],
   "source": [
    "x_a  # This is our array"
   ]
  },
  {
   "cell_type": "code",
   "execution_count": null,
   "metadata": {},
   "outputs": [],
   "source": [
    "type(x_a)  # Type of the array"
   ]
  },
  {
   "cell_type": "code",
   "execution_count": null,
   "metadata": {},
   "outputs": [],
   "source": [
    "x_a[0], x_a[1], x_a[2]  # Elements - we can use brackets [] to access them"
   ]
  },
  {
   "cell_type": "code",
   "execution_count": null,
   "metadata": {},
   "outputs": [],
   "source": [
    "x_a[0] = 5  # We can also substitute elements of arrays\n",
    "x_a"
   ]
  },
  {
   "cell_type": "code",
   "execution_count": null,
   "metadata": {},
   "outputs": [],
   "source": [
    "arr2d = np.array([x, y, x])  # Now let's create 2-dimensional array\n",
    "arr2d"
   ]
  },
  {
   "cell_type": "code",
   "execution_count": null,
   "metadata": {},
   "outputs": [],
   "source": [
    "arr2d[0]  # This is the first row"
   ]
  },
  {
   "cell_type": "code",
   "execution_count": null,
   "metadata": {},
   "outputs": [],
   "source": [
    "print(\n",
    "    \"Type of array slice: {}\\nDimensions of the slice: {}\".format(\n",
    "        type(arr2d[0]), arr2d[0].shape\n",
    "    )\n",
    ")"
   ]
  },
  {
   "cell_type": "code",
   "execution_count": null,
   "metadata": {},
   "outputs": [],
   "source": [
    "arr2d[0, 2]  # Here we take the element from 0-th row and 2-nd column directly"
   ]
  },
  {
   "cell_type": "code",
   "execution_count": null,
   "metadata": {},
   "outputs": [],
   "source": [
    "arr2d[0][2]  # Here we first take 0-th row, then 2-nd element of this row"
   ]
  },
  {
   "cell_type": "code",
   "execution_count": null,
   "metadata": {},
   "outputs": [],
   "source": [
    "arr2d[\n",
    "    :, 0\n",
    "]  # Let's get the first column, colon means: \"Take all items of this dimension\""
   ]
  },
  {
   "cell_type": "code",
   "execution_count": null,
   "metadata": {},
   "outputs": [],
   "source": [
    "arr2d[\n",
    "    0, :\n",
    "]  # So here we take the first row and all the columns, but as we saw earlier, there is a shortcut"
   ]
  },
  {
   "cell_type": "code",
   "execution_count": null,
   "metadata": {},
   "outputs": [],
   "source": [
    "arr2d  # Let's see again how this arrays looks..."
   ]
  },
  {
   "cell_type": "code",
   "execution_count": null,
   "metadata": {},
   "outputs": [],
   "source": [
    "arr2d[:2, 1:]  # ...and try some more sophisticated indexing,\n",
    "# here: take all rows up to row number 2 (without this row, remember about 0-indexing!)\n",
    "# and all columns from column number 1 to the end (including this column)"
   ]
  },
  {
   "cell_type": "code",
   "execution_count": null,
   "metadata": {},
   "outputs": [],
   "source": [
    "arr2d[:2, 1:].shape"
   ]
  },
  {
   "cell_type": "code",
   "execution_count": null,
   "metadata": {},
   "outputs": [],
   "source": [
    "arr2d[:-1, 0:-1]  # We can also take all rows up to the last row (excluding it)\n",
    "# and all columns from column number 0 up to last columns (excluding it)"
   ]
  },
  {
   "cell_type": "markdown",
   "metadata": {},
   "source": [
    "### Implemented ways to build standard arrays"
   ]
  },
  {
   "cell_type": "markdown",
   "metadata": {},
   "source": [
    "Got some intuition about indexing already? Let's see how else we can build matrices!"
   ]
  },
  {
   "cell_type": "code",
   "execution_count": null,
   "metadata": {},
   "outputs": [],
   "source": [
    "range_arr = np.arange(\n",
    "    5\n",
    ")  # Just get all integers from zero to this argument (not including it)\n",
    "print(range_arr)\n",
    "range_arr = np.arange(3, 8)  # Get all integers from start to stop\n",
    "print(range_arr)\n",
    "range_arr = np.arange(\n",
    "    1, 10, 3\n",
    ")  # Get all integers from start to stop with given step, stop is not included!\n",
    "print(range_arr)"
   ]
  },
  {
   "cell_type": "markdown",
   "metadata": {},
   "source": [
    "This is a nice point to see how much faster is NumPy than operation on lists:"
   ]
  },
  {
   "cell_type": "code",
   "execution_count": null,
   "metadata": {},
   "outputs": [],
   "source": [
    "%%timeit -n 100\n",
    "N = 10000\n",
    "list_range = range(N)\n",
    "sum(list_range)"
   ]
  },
  {
   "cell_type": "code",
   "execution_count": null,
   "metadata": {},
   "outputs": [],
   "source": [
    "%%timeit -n 100\n",
    "arr_range = np.arange(N)\n",
    "arr_range.sum()"
   ]
  },
  {
   "cell_type": "markdown",
   "metadata": {},
   "source": [
    "But how exactly `np.ndarray.sum()` works?"
   ]
  },
  {
   "cell_type": "code",
   "execution_count": null,
   "metadata": {},
   "outputs": [],
   "source": [
    "print(arr2d.sum())  # This is a sum of all elements\n",
    "print(arr2d.sum(axis=0))  # Sum over all rows\n",
    "print(arr2d.sum(axis=1))  # Sum over all columns"
   ]
  },
  {
   "cell_type": "code",
   "execution_count": null,
   "metadata": {},
   "outputs": [],
   "source": [
    "linspace = np.linspace(\n",
    "    0, 1\n",
    ")  # This function creates equally spaced sequence of numbers from start to stop\n",
    "# Here we don't specify the step, but the number of items. Default is 50\n",
    "print(linspace)\n",
    "linspace = np.linspace(0, 1, endpoint=False)  # We can also drop the stop value\n",
    "print(linspace)\n",
    "linspace = np.linspace(0, 1, 10, endpoint=False)\n",
    "print(linspace)"
   ]
  },
  {
   "cell_type": "code",
   "execution_count": null,
   "metadata": {},
   "outputs": [],
   "source": [
    "ones = np.ones([3, 3])  # The argument indicates dimensions of target array\n",
    "ones"
   ]
  },
  {
   "cell_type": "code",
   "execution_count": null,
   "metadata": {},
   "outputs": [],
   "source": [
    "zeros = np.zeros((5, 5), dtype=np.uint8)  # We can also pass dimensions as a tuple\n",
    "# You can always specify type of data that the array contains\n",
    "print(zeros)\n",
    "print(type(zeros[0, 0]), zeros.dtype)"
   ]
  },
  {
   "cell_type": "code",
   "execution_count": null,
   "metadata": {},
   "outputs": [],
   "source": [
    "eye = np.eye(\n",
    "    4\n",
    ")  # This function creates matrix with ones on a diagonal. In its simplest version it takes\n",
    "# just one argument - the number of rows. In that case result is a square unity matrix\n",
    "eye"
   ]
  },
  {
   "cell_type": "code",
   "execution_count": null,
   "metadata": {},
   "outputs": [],
   "source": [
    "print(eye.dtype)\n",
    "eye.dtype = np.uint16  # Yoo can change the type of the data inside an array\n",
    "print(eye.dtype)\n",
    "print(eye)  # But you have to be careful"
   ]
  },
  {
   "cell_type": "code",
   "execution_count": null,
   "metadata": {},
   "outputs": [],
   "source": [
    "eye = np.eye(4)\n",
    "print(eye.dtype)\n",
    "eye = np.array(eye, dtype=np.uint16)  # This is much safer\n",
    "print(eye.dtype)\n",
    "print(eye)"
   ]
  },
  {
   "cell_type": "code",
   "execution_count": null,
   "metadata": {},
   "outputs": [],
   "source": [
    "new_arr = zeros  # Let's create a new matrix...\n",
    "new_arr[1:-1, 1:-1] = ones  # ...and substitute a whole sub-matrix\n",
    "new_arr"
   ]
  },
  {
   "cell_type": "code",
   "execution_count": null,
   "metadata": {},
   "outputs": [],
   "source": [
    "print(zeros)  # Let's check our zeros matrix"
   ]
  },
  {
   "cell_type": "markdown",
   "metadata": {},
   "source": [
    "This was very important. In Python by default you pass a reference to an object, in order to copy it an array you have to specify it explicitly."
   ]
  },
  {
   "cell_type": "code",
   "execution_count": null,
   "metadata": {},
   "outputs": [],
   "source": [
    "zeros = np.zeros((5, 5), dtype=np.uint8)\n",
    "new_arr = zeros.copy()\n",
    "new_arr[1:-1, 1:-1] = ones\n",
    "print(new_arr)\n",
    "print(zeros)  # Now only new_arr has been modified"
   ]
  },
  {
   "cell_type": "markdown",
   "metadata": {},
   "source": [
    "NumPy has also a nice module for random numbers generation"
   ]
  },
  {
   "cell_type": "code",
   "execution_count": null,
   "metadata": {},
   "outputs": [],
   "source": [
    "random_array = np.random.random(\n",
    "    [2, 3, 3]\n",
    ")  # Argument is the shape of array. Returned array consists of elements\n",
    "# randomly chosen from uniform distribution from 0 to 1\n",
    "random_array"
   ]
  },
  {
   "cell_type": "code",
   "execution_count": null,
   "metadata": {},
   "outputs": [],
   "source": [
    "a = 3\n",
    "b = 15  # To change the interval just do some simple operations\n",
    "random_new_interval = random_array * (b - a) + a\n",
    "random_new_interval"
   ]
  },
  {
   "cell_type": "code",
   "execution_count": null,
   "metadata": {},
   "outputs": [],
   "source": [
    "random_ints = np.random.randint(\n",
    "    3, 8\n",
    ")  # This returns a single value randomly selected from given interval\n",
    "print(random_ints)\n",
    "random_ints = np.random.randint(3, 8, [3, 5])  # But this will give us a 3x5 array\n",
    "print(random_ints)"
   ]
  },
  {
   "cell_type": "markdown",
   "metadata": {},
   "source": [
    "### Let's see how to join arrays together!"
   ]
  },
  {
   "cell_type": "code",
   "execution_count": null,
   "metadata": {},
   "outputs": [],
   "source": [
    "rand_arr = np.random.random([4, 3])\n",
    "print(rand_arr)\n",
    "random_arr_sequence = [rand_arr] * 5"
   ]
  },
  {
   "cell_type": "code",
   "execution_count": null,
   "metadata": {},
   "outputs": [],
   "source": [
    "stacked = np.stack(random_arr_sequence)  # This function stacks all arrays\n",
    "# in the sequence and creates new dimension\n",
    "print(stacked.shape)\n",
    "stacked = np.stack(random_arr_sequence, axis=1)  # You can also specify dimension,\n",
    "# along which they will be stacked\n",
    "print(stacked.shape)\n",
    "concatenated = np.concatenate(\n",
    "    random_arr_sequence\n",
    ")  # This function joins matrices along first dimension\n",
    "print(concatenated.shape)\n",
    "concatenated = np.concatenate(\n",
    "    random_arr_sequence, axis=1\n",
    ")  # But of course you can select it by hand\n",
    "print(concatenated.shape)"
   ]
  },
  {
   "cell_type": "markdown",
   "metadata": {},
   "source": [
    "### In the end let's now see how NumPy can describe our data:"
   ]
  },
  {
   "cell_type": "code",
   "execution_count": null,
   "metadata": {},
   "outputs": [],
   "source": [
    "random_ints = np.random.randint(3, 80, 10)\n",
    "print(random_ints)\n",
    "max_v = random_ints.max()\n",
    "print(\"Maximum value in the array: {}\".format(max_v))\n",
    "argmax = np.argmax(random_ints)\n",
    "print(\"Index of maximum value in the array: {}\".format(argmax))\n",
    "min_v = random_ints.min()\n",
    "print(\"Minimum value in the array: {}\".format(min_v))\n",
    "argmin = np.argmin(random_ints)\n",
    "print(\"Index of maximum value in the array: {}\".format(argmin))"
   ]
  },
  {
   "cell_type": "code",
   "execution_count": null,
   "metadata": {},
   "outputs": [],
   "source": [
    "mean = random_ints.mean()\n",
    "print(\"Mean of the array: {}\".format(mean))\n",
    "std = random_ints.std()\n",
    "print(\"Standard deviation of the array: {}\".format(std))"
   ]
  },
  {
   "cell_type": "code",
   "execution_count": null,
   "metadata": {},
   "outputs": [],
   "source": []
  }
 ],
 "metadata": {
  "kernelspec": {
   "display_name": "Python 3",
   "language": "python",
   "name": "python3"
  },
  "language_info": {
   "codemirror_mode": {
    "name": "ipython",
    "version": 3
   },
   "file_extension": ".py",
   "mimetype": "text/x-python",
   "name": "python",
   "nbconvert_exporter": "python",
   "pygments_lexer": "ipython3",
   "version": "3.8.10"
  }
 },
 "nbformat": 4,
 "nbformat_minor": 4
}
