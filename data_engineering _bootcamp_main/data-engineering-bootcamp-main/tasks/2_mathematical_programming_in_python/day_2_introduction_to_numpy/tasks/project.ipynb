{
 "cells": [
  {
   "cell_type": "markdown",
   "metadata": {},
   "source": [
    "## Project"
   ]
  },
  {
   "cell_type": "markdown",
   "metadata": {},
   "source": [
    "Write a function that takes image and kernel as numpy arrays, and computes the convolution between them without the use of any other 3-rd party Python modules. You can find [here](https://en.wikipedia.org/wiki/Kernel_(image_processing)) the description of the convolution algorithm and the kernel. Your function should provide support for image edge handling. Use this gaussian blur kernel to verify your results:\n",
    "<br><img src=\"./kernel.png\" alt=\"Drawing\" width=\"600\"/></br>"
   ]
  },
  {
   "cell_type": "markdown",
   "metadata": {},
   "source": [
    "Output image should look like this:\n",
    "<br><img src=\"./example.png\" alt=\"Drawing\" width=\"600\"/></br>"
   ]
  },
  {
   "cell_type": "code",
   "execution_count": null,
   "metadata": {},
   "outputs": [],
   "source": []
  }
 ],
 "metadata": {
  "kernelspec": {
   "display_name": "Python 3 (ipykernel)",
   "language": "python",
   "name": "python3"
  },
  "language_info": {
   "codemirror_mode": {
    "name": "ipython",
    "version": 3
   },
   "file_extension": ".py",
   "mimetype": "text/x-python",
   "name": "python",
   "nbconvert_exporter": "python",
   "pygments_lexer": "ipython3",
   "version": "3.8.10"
  }
 },
 "nbformat": 4,
 "nbformat_minor": 4
}
