{
 "cells": [
  {
   "cell_type": "markdown",
   "metadata": {},
   "source": [
    "## Optional project"
   ]
  },
  {
   "cell_type": "markdown",
   "metadata": {},
   "source": [
    "Write a function that takes an grayscale image and adjusts the contrast using histogram equalization algorithm. You can find the description of the algorithm [here](https://en.wikipedia.org/wiki/Histogram_equalization). "
   ]
  },
  {
   "cell_type": "markdown",
   "metadata": {},
   "source": [
    "The input image and its histogram should look like this:\n",
    "<br><img src=\"./example_cat.jpg\" alt=\"Drawing\" width=\"600\"/></br>\n",
    "<br><img src=\"./example_histogram.jpg\" alt=\"Drawing\" width=\"600\"/></br>"
   ]
  },
  {
   "cell_type": "markdown",
   "metadata": {},
   "source": [
    "After the equalization, the image and its histogram should look like this:\n",
    "<br><img src=\"./adjusted_example_cat.jpg\" alt=\"Drawing\" width=\"600\"/></br>\n",
    "<br><img src=\"./adjusted_histogram.jpg\" alt=\"Drawing\" width=\"600\"/></br>"
   ]
  },
  {
   "cell_type": "code",
   "execution_count": null,
   "metadata": {},
   "outputs": [],
   "source": []
  }
 ],
 "metadata": {
  "kernelspec": {
   "display_name": "Python 3",
   "language": "python",
   "name": "python3"
  },
  "language_info": {
   "codemirror_mode": {
    "name": "ipython",
    "version": 3
   },
   "file_extension": ".py",
   "mimetype": "text/x-python",
   "name": "python",
   "nbconvert_exporter": "python",
   "pygments_lexer": "ipython3",
   "version": "3.8.10"
  }
 },
 "nbformat": 4,
 "nbformat_minor": 4
}
