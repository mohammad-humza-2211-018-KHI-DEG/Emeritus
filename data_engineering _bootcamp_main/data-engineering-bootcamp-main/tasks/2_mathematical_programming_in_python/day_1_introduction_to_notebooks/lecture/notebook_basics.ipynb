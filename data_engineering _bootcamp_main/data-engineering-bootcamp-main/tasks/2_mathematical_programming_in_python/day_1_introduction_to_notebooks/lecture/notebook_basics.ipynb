{
 "cells": [
  {
   "cell_type": "markdown",
   "id": "8a9f4119",
   "metadata": {},
   "source": [
    "<h1 class=section>WARM-UP</h1>\n"
   ]
  },
  {
   "cell_type": "markdown",
   "id": "ff837908",
   "metadata": {
    "tags": []
   },
   "source": [
    "<div class=exercise> Choose color theme: go to Settings -> Theme -> [choose one u like] </div>"
   ]
  },
  {
   "cell_type": "markdown",
   "id": "40d8948b",
   "metadata": {
    "tags": []
   },
   "source": [
    "<div class=exercise >Enable line numbers: Settings -> Advanced Settings Editor and then on the left panel choose Notebook; now mark \"show line numbers\" in all sections (raw, markdown, code sections) </div>"
   ]
  },
  {
   "cell_type": "markdown",
   "id": "b8c73200",
   "metadata": {},
   "source": [
    "<div class=exercise> Choose font size. Visit same sections as you did when you were setting line numbers active. Find font size field and set it to the desired value!</div>"
   ]
  },
  {
   "cell_type": "markdown",
   "id": "d602ac79",
   "metadata": {},
   "source": [
    "<h1 class=subsection> Useful shortcuts</div>"
   ]
  },
  {
   "cell_type": "markdown",
   "id": "4612031f",
   "metadata": {
    "tags": []
   },
   "source": [
    "\n",
    "<table class=\"commands\">\n",
    "  <tr>\n",
    "    <th>Shortcut</th>\n",
    "    <th>Action</th>\n",
    "  </tr>\n",
    "  <tr>\n",
    "    <td>Ctrl + B</td>\n",
    "    <td>hide/show the left sidebar</td>\n",
    "  </tr>\n",
    "  <tr>\n",
    "    <td>Ctrl + S</td>\n",
    "    <td>Save this file</td>\n",
    "  </tr>\n",
    "  \n",
    "  <tr>\n",
    "    <td>Ctrl + F</td>\n",
    "    <td>Find in this file</td>\n",
    "  </tr>\n",
    "  <tr>\n",
    "    <td>F11</td>\n",
    "    <td>Enter the full screen mode</td>\n",
    "  </tr>\n",
    "     <tr>\n",
    "    <td>Ctrl + Enter</td>\n",
    "    <td>Execute the cell</td>\n",
    "  </tr>\n",
    "</table> \n",
    "\n"
   ]
  },
  {
   "cell_type": "markdown",
   "id": "5007946c",
   "metadata": {},
   "source": [
    "<div class=\"exercise\">\n",
    "    Hide now left sidebar (not needed for a moment) and enter the full screen mode. \n",
    "  </div>"
   ]
  },
  {
   "cell_type": "markdown",
   "id": "a4087dca",
   "metadata": {
    "tags": []
   },
   "source": [
    "<h2> There are two modes in which user can be when using jupyter-lab. </h2>\n",
    "<ol class=\"command_list\">\n",
    "    <li><strong>Edit Mode</strong> which allows you to edit a cell’s content.</li>\n",
    "    <li><strong>Command Mode</strong> which allows you to edit the notebook as a whole and use keyboard shortcuts but not edit a cell’s content.</li>\n",
    "</ol> \n",
    "\n",
    "    "
   ]
  },
  {
   "cell_type": "markdown",
   "id": "991c67ca",
   "metadata": {
    "tags": []
   },
   "source": [
    "<h1 class=subsection> Command mode shortcuts</h1>\n",
    "<table class=\"commands\">\n",
    "  <tr>\n",
    "    <th>Shortcut</th>\n",
    "    <th>Action</th>\n",
    "  </tr>\n",
    "  <tr>\n",
    "    <td>Up</td>\n",
    "    <td>select the cell above</td>\n",
    "  </tr>\n",
    "  <tr>\n",
    "    <td>Down</td>\n",
    "    <td>select the cell below</td>\n",
    "  </tr>\n",
    "  \n",
    "  <tr>\n",
    "    <td>B/A</td>\n",
    "    <td>create a new cell below/above the active one</td>\n",
    "  </tr>\n",
    "  <tr>\n",
    "    <td>C</td>\n",
    "    <td>copy the selected cells</td>\n",
    "  </tr>\n",
    "    <tr>\n",
    "        <td> V</td>\n",
    "        <td> paste the copied cells (below) </td>\n",
    "    </tr>\n",
    "     <tr>\n",
    "        <td> Enter</td>\n",
    "        <td> enter the edit mode of currently selected cell </td>\n",
    "    </tr>\n",
    "</table> \n"
   ]
  },
  {
   "cell_type": "markdown",
   "id": "508a270b",
   "metadata": {
    "tags": []
   },
   "source": [
    "<div class=tip> If you are in command mode you can select a cell by left clicking on the space to the left of the cell. Moreover, depending on the type of a cell you can also click (or double click) on the contents of a cell to enter the edit mode of the cell</div>"
   ]
  },
  {
   "cell_type": "markdown",
   "id": "6537b2f2",
   "metadata": {
    "tags": []
   },
   "source": [
    "<div class=exercise> Select now two cells below, copy their content and paste it below. Remove \"to be removed part\" parts of the new cells. Now select the newly created cells and remove them. \n",
    "    <details class=hint>\n",
    "  <summary>Hint</summary>\n",
    "  <p>Enter command mode (Esc), go to next cell (Down), keep left Shift pressed and play with Up and Down to select next two cells. Now u can copy selected cells by pressing C and paste them below by pressing V. Enter newly created cells (Enter) and change their content from cell to copy of cell. Once more enter command mode select new cells and delete them by pressing D two times in row.</p>\n",
    "</details></div> "
   ]
  },
  {
   "cell_type": "raw",
   "id": "9992b1e4",
   "metadata": {
    "tags": []
   },
   "source": [
    "First cell to be selected and copied \"to be removed part\""
   ]
  },
  {
   "cell_type": "raw",
   "id": "3dbac92b",
   "metadata": {
    "tags": []
   },
   "source": [
    "Second cell to be selected and copied \"to be removed part\""
   ]
  },
  {
   "cell_type": "markdown",
   "id": "353609da",
   "metadata": {},
   "source": [
    "<div class=tip>You can define you own shortcuts: for example you can define \"move cell up/down\" shorcuts by doing the following: go to Settings -> Advanced Settings Editor. Click Json setting editor button (look for it in the top right corner). Search for Keyboards Shorcuts (on the left panel) and then edit the \"User Preferences\" tab (on the right) by adding the following in the \"shortcuts\" scope (note that json format is used to set preferences):\n",
    "<div>       {\n",
    "            \"command\": \"notebook:move-cell-up\",\n",
    "            \"keys\": [\n",
    "                \"Ctrl Shift ArrowUp\"\n",
    "            ],\n",
    "            \"selector\": \".jp-Notebook:focus\"\n",
    "        },\n",
    "        {\n",
    "            \"command\": \"notebook:move-cell-down\",\n",
    "            \"keys\": [\n",
    "                \"Ctrl Shift ArrowDown\"\n",
    "            ],\n",
    "            \"selector\": \".jp-Notebook:focus\"\n",
    "        },\n",
    "    </div>\n",
    "\n",
    "</div>\n",
    "\n"
   ]
  },
  {
   "cell_type": "markdown",
   "id": "b1730e1c",
   "metadata": {},
   "source": [
    "<div class=exercise> Now reorder the following three cells to get an increasing sequence of numbers.\n",
    "<details class=hint>\n",
    "  <summary>Hint</summary>\n",
    "  <p>Use newly created shorcut or use mouse by right clicking on the space to the right of a cell and by moving it to desired position </p>\n",
    "</details></div>"
   ]
  },
  {
   "cell_type": "raw",
   "id": "63341871",
   "metadata": {},
   "source": [
    "3"
   ]
  },
  {
   "cell_type": "raw",
   "id": "e845aa05",
   "metadata": {
    "tags": []
   },
   "source": [
    "2"
   ]
  },
  {
   "cell_type": "raw",
   "id": "4077e85f",
   "metadata": {},
   "source": [
    "1"
   ]
  },
  {
   "cell_type": "markdown",
   "id": "fdad9de5",
   "metadata": {},
   "source": [
    "<div class=tip>When you are in the edit mode of a cell you can jump to next/previous cell by going to the end/beginning of the content of the cell and pressing Down/Up. This will take you into editing mode of a above/below cell.</div>"
   ]
  },
  {
   "cell_type": "markdown",
   "id": "a9d25d50",
   "metadata": {},
   "source": [
    "<div class=exercise> Enter this cell (double click on the content), afterwards press Ctrl + End and go to next cell by pressing Down. At last remove the content of the cell below.</div>"
   ]
  },
  {
   "cell_type": "raw",
   "id": "64599dd2",
   "metadata": {},
   "source": [
    "Remove content of this cell (but not cell itself)"
   ]
  },
  {
   "cell_type": "markdown",
   "id": "76aab19b",
   "metadata": {},
   "source": [
    "<h1 class=subsection> Types of cells</div>"
   ]
  },
  {
   "cell_type": "markdown",
   "id": "14b6cf60",
   "metadata": {},
   "source": [
    "<h2> There are three kinds of cells: </h2>\n",
    "<ul class=command_list> \n",
    "    <li>Raw - formatted as a raw string and is not processed by a kernel.</li>\n",
    "    <li>Markdown  - formatted via markdown language. In particular, all kinds of text formatting are available such as text bold, displaying lists, rendering tabular contents, ect.</li>\n",
    "    <li>Code - contents are treated as statements in a programming language of current kernel. Default kernel is Python. You can choose/change one via the menu bar: Kernel -> Change Kernel. So, we can write Python statements in a code cell. When such a cell is run its result is displayed in an output cell. The output may be text, image, matplotlib plots or HTML tables.</li>\n",
    "    </ul>\n",
    "<div class=tip> To change the type of a cells firstly select them and then press R, M, Y to make them raw, markdown or code respectively.</div>\n"
   ]
  },
  {
   "cell_type": "markdown",
   "id": "3ddc91b8",
   "metadata": {
    "tags": []
   },
   "source": [
    "<h1 class=subsubsection> Raw</div>"
   ]
  },
  {
   "cell_type": "raw",
   "id": "3c1a552d",
   "metadata": {
    "tags": []
   },
   "source": [
    "This is an example of a raw cell:\n",
    "e v e r y t h i n g is formatted as provided. Even if you embed some html it will not be processesed: \n",
    "<h1> this string is not treated as the content of header html tag </h1>.\n",
    "If you try to execute a raw cell  (like this one) by pressing Ctrl + Enter nothing special happens (two behaviours are possible - depending on the implementation - usually we are switched to the the command mode and the current cell is selected). \n",
    "Now, check it out! Enter this cell in the edit mode and press Ctrl + Enter !"
   ]
  },
  {
   "cell_type": "markdown",
   "id": "de5b59bd",
   "metadata": {},
   "source": [
    "<h1 class=subsubsection> Markdown</div>"
   ]
  },
  {
   "cell_type": "markdown",
   "id": "166aa67f",
   "metadata": {},
   "source": [
    "<h1> This is an example of a markdown cell. You are allow to use here multiple kinds of syntaxes.</h1>\n",
    "<ul class=command_list> \n",
    "    <li>You can include mathematical expressions (see MathJax syntax):\n",
    "$e^{i\\pi} + 1 = 0$\n",
    "or\n",
    "\\begin{equation}\n",
    "e^x=\\sum_{i=0}^\\infty \\frac{1}{i!}x^i\n",
    "\\end{equation}\n",
    "    </li>\n",
    "     <li> \n",
    "         You can use HTML syntax. You can create for example a HTML table:\n",
    " <table class=\"commands\">\n",
    "  <tr>\n",
    "    <th>Vegetable</th>\n",
    "    <th>Size</th>\n",
    "  </tr>\n",
    "  <tr>\n",
    "    <td>carrot</td>\n",
    "    <td>small</td>\n",
    "  </tr>\n",
    "  <tr>\n",
    "    <td>beet</td>\n",
    "    <td>medium</td>\n",
    "  </tr>\n",
    "</table> \n",
    " \n",
    "   \n",
    "</li>\n",
    "    \n",
    "    \n",
    " </ul> \n",
    "<h2>\n",
    "Nota bene  code snippets can be embedded (with syntax highlighting)\n",
    "</h2>\n",
    "\n",
    "\n",
    "```python\n",
    "print \"Hello World\"\n",
    "```\n",
    "\n",
    "```javascript\n",
    "console.log(\"Hello World\")\n",
    "```\n",
    "\n",
    "<h2>\n",
    "Original Markup syntax can be used as well!\n",
    "</h2>\n",
    "\n",
    "# Heading 1\n",
    "# Heading 2\n",
    "## Heading 2.1\n",
    "## Heading 2.2\n",
    "\n",
    "| This | is   |\n",
    "|------|------|\n",
    "|   a  | table|\n",
    "\n",
    "\n",
    " <div class=exercise>Now see the underlying content of this cell (double click on the content). See how html was used. Note that the last table is not a html table but markdown table. Play with the content if you like. When you are finished  execute this markdown cell by pressing Ctrl + Enter and the content will be processed and displayed appropriately. Enjoy the effect!</div>\n",
    " "
   ]
  },
  {
   "cell_type": "markdown",
   "id": "07a79092",
   "metadata": {
    "tags": []
   },
   "source": [
    "<h1 class=subsubsection> Code</div>"
   ]
  },
  {
   "cell_type": "code",
   "execution_count": 1,
   "id": "2987d3cc",
   "metadata": {},
   "outputs": [
    {
     "ename": "SyntaxError",
     "evalue": "invalid syntax (997625008.py, line 2)",
     "output_type": "error",
     "traceback": [
      "\u001b[0;36m  Cell \u001b[0;32mIn [1], line 2\u001b[0;36m\u001b[0m\n\u001b[0;31m    Go to this line and press Ctrl + / to comment this line\u001b[0m\n\u001b[0m       ^\u001b[0m\n\u001b[0;31mSyntaxError\u001b[0m\u001b[0;31m:\u001b[0m invalid syntax\n"
     ]
    }
   ],
   "source": [
    "# At last but not least a code cell.\n",
    "Go to this line and press Ctrl + / to comment this line\n",
    "\n",
    "# Now you can execute first python program. Just (remember to comment\n",
    "# above lines) press Ctrl + Enter to execute the below program.\n",
    "import time, sys\n",
    "for i in range(8):\n",
    "    print(i)\n",
    "    time.sleep(1)"
   ]
  },
  {
   "cell_type": "markdown",
   "id": "20dd9972",
   "metadata": {},
   "source": [
    "<div class=exercise>You can style html elements in markdown cells via external css file. Open root_of_this_course/styles/custom.css file in jupyter-lab tab (retrieve the left side bar, Ctrl + B, if needed). Note that the content of this file is wrapped into the style tag! If you change custom.css file the last cell of this notebook must be executed to apply these changes. Change now text color of content of tips to custom one and check the effect! \n",
    "<details class=hint>\n",
    "  <summary>Hint</summary>\n",
    "  <p>Just add for example color: red; to div.tip and then execute (Ctrl + Enter) the last cell of this notebook.</p>\n",
    "</details>\n",
    "</div >"
   ]
  },
  {
   "cell_type": "markdown",
   "id": "1f9451b1",
   "metadata": {},
   "source": [
    "<h1 class=section> Magic constants </h1>"
   ]
  },
  {
   "cell_type": "markdown",
   "id": "9153c51d",
   "metadata": {},
   "source": [
    "<div class=tip>Built in magic constants. Code cells starting with %%&#60command&#62 are special. For example, we can measure their performance! Note that magic constants starting with double %% concern whole cell whereas those starting with single % affect only the current line! </div>"
   ]
  },
  {
   "cell_type": "code",
   "execution_count": null,
   "id": "51a61f62",
   "metadata": {
    "tags": []
   },
   "outputs": [],
   "source": [
    "%%timeit\n",
    "# This command executes the available code in the cell many times and returns the fastest result’s speed.\n",
    "\n",
    "acc = 0\n",
    "r = 10000000\n",
    "for x in range(r):\n",
    "    acc += 1"
   ]
  },
  {
   "cell_type": "markdown",
   "id": "fa9cb189",
   "metadata": {},
   "source": [
    "<div class=exercise>Check in the net how exactly timeit command works (or guess it analising the output)!  Try multiplying r by 10 (before the loop)!\n",
    "</div >"
   ]
  },
  {
   "cell_type": "code",
   "execution_count": null,
   "id": "b902dbaa",
   "metadata": {},
   "outputs": [],
   "source": [
    "# This magic makes plots appear inline in the notebook\n",
    "# and there is no need for plt.show().\n",
    "# The resulting plots will then also be stored in the notebook document.\n",
    "%matplotlib inline\n",
    "# a plotting library\n",
    "import matplotlib.pyplot as plt\n",
    "\n",
    "# a numerical library\n",
    "import numpy as np\n",
    "\n",
    "X = np.linspace(-5, 5, 100)  # a vector of hundred equally-spaced points\n",
    "Y = np.sin(X)  # sine of each X\n",
    "%time plt.plot(X, Y)        # a line plot"
   ]
  },
  {
   "cell_type": "markdown",
   "id": "4d306491",
   "metadata": {},
   "source": [
    "<h1 class=section> Shell commands (Linux, Mac OS X)</h1>"
   ]
  },
  {
   "cell_type": "code",
   "execution_count": null,
   "id": "67dde865",
   "metadata": {},
   "outputs": [],
   "source": [
    "# You can execute bash commands\n",
    "!ls"
   ]
  },
  {
   "cell_type": "code",
   "execution_count": null,
   "id": "aa7410ae",
   "metadata": {},
   "outputs": [],
   "source": [
    "# In fact you can use result of bash commands!\n",
    "import pathlib\n",
    "\n",
    "\n",
    "def is_ipynb(path: pathlib):\n",
    "    return path.suffix == \".ipynb\"\n",
    "\n",
    "\n",
    "# This is in fact an Ipython class\n",
    "ls = !ls\n",
    "ipynb_files = [p for p in ls.paths if is_ipynb(p)]\n",
    "print(f\"type of ls = {type(ls)}\\n\\nls = {ls}\\n\\nipynb files = {ipynb_files}\")"
   ]
  },
  {
   "cell_type": "markdown",
   "id": "359cb307",
   "metadata": {},
   "source": [
    "<div class=exercise>\n",
    "     Can you achieve the same value of ipynb_files in a single line using just a bash command? Write your solution in the cell below! \n",
    "    <details class=hint>\n",
    "  <summary>Hint</summary>\n",
    "  <p>!ls *.ipynb and dont forget to change the type of below cell!</p>\n",
    "</details></div>\n",
    "</div >"
   ]
  },
  {
   "cell_type": "markdown",
   "id": "33c655fb-2239-44c0-9166-b84ec0483133",
   "metadata": {
    "tags": []
   },
   "source": [
    "### Your solution goes here!"
   ]
  },
  {
   "cell_type": "markdown",
   "id": "f1e63950",
   "metadata": {},
   "source": [
    "<h1 class=section>Displaying in code cells </h1>"
   ]
  },
  {
   "cell_type": "code",
   "execution_count": null,
   "id": "50aa44ed",
   "metadata": {},
   "outputs": [],
   "source": [
    "from IPython.display import Javascript\n",
    "\n",
    "Javascript(\"alert('It is JavaScript!')\")"
   ]
  },
  {
   "cell_type": "code",
   "execution_count": null,
   "id": "2a3fd91f",
   "metadata": {},
   "outputs": [],
   "source": [
    "from IPython.display import HTML\n",
    "\n",
    "HTML(\"We can <i>generate</i> <code>html</code> code <b>directly</b>!\")"
   ]
  },
  {
   "cell_type": "code",
   "execution_count": null,
   "id": "d3ef24e8",
   "metadata": {},
   "outputs": [],
   "source": [
    "from IPython.display import Image\n",
    "\n",
    "Image(url=\"http://imgs.xkcd.com/comics/python.png\")"
   ]
  },
  {
   "cell_type": "code",
   "execution_count": null,
   "id": "fe16473e",
   "metadata": {},
   "outputs": [],
   "source": [
    "# The original YouTube video can be found in https://www.youtube.com/watch?v=7eh4d6sabA0&ab_channel=ProgrammingwithMosh\n",
    "from IPython.display import YouTubeVideo\n",
    "\n",
    "YouTubeVideo(\"7eh4d6sabA0\")"
   ]
  },
  {
   "cell_type": "code",
   "execution_count": null,
   "id": "d1d56660",
   "metadata": {
    "tags": []
   },
   "outputs": [],
   "source": [
    "from IPython.display import Latex\n",
    "\n",
    "Latex(r\"$\\lim_{x \\to 0} (1+x)^{1/x} = e$\")"
   ]
  },
  {
   "cell_type": "markdown",
   "id": "663d71e2",
   "metadata": {},
   "source": [
    "<h1 class=section> (Bonus) Autocompletion of code </h1>"
   ]
  },
  {
   "cell_type": "code",
   "execution_count": null,
   "id": "f4477b34",
   "metadata": {},
   "outputs": [],
   "source": [
    "# Execute this cell to install tabnine for jupyterlab!\n",
    "!pip3 install jupyterlab_tabnine"
   ]
  },
  {
   "cell_type": "markdown",
   "id": "41c88cf2",
   "metadata": {},
   "source": [
    "<div class=exercise> Restart jupyter-lab. After that on the bottom menu you should see tabnine logo. If so the tabnine is ready to go! </div>"
   ]
  },
  {
   "cell_type": "markdown",
   "id": "60e59920",
   "metadata": {},
   "source": [
    "<h2> Now enjoy the power of smart autocompleting! </h2>"
   ]
  },
  {
   "cell_type": "code",
   "execution_count": null,
   "id": "180b2a87",
   "metadata": {},
   "outputs": [],
   "source": [
    "import numpy as np\n",
    "\n",
    "\n",
    "a1 = np.array([1, 2, 3, 4])\n",
    "a2 = np.array([1, 2, 3, 4])\n",
    "\n",
    "b1 = np.array([2, 3, 4, 5])\n",
    "# start writing b2 = and use autocompletion to write  b2 = np.array([2,3,4,5]).  Switch to the suggestion you want to be used\n",
    "# by pressing Tab or using Up Down keys and then press Enter key to fire the suggestion.\n",
    "a12 = a1 + a2\n",
    "# use autocompletion to write b12 = b1 + b2\n",
    "\n",
    "\n",
    "# print the result of a12\n",
    "\n",
    "\n",
    "# take time of your own to get used to autocompleting"
   ]
  },
  {
   "cell_type": "markdown",
   "id": "df9771ea",
   "metadata": {
    "tags": []
   },
   "source": [
    "<h1 class=subsection> Jump now to the part two of notebook basics! </h1>\n",
    "<h1 class=section> Just for proper styling of this notebook </h1>\n"
   ]
  },
  {
   "cell_type": "code",
   "execution_count": 1,
   "id": "acf30620",
   "metadata": {
    "tags": []
   },
   "outputs": [
    {
     "data": {
      "text/html": [
       "<style>\n",
       "\n",
       "h1.section {\n",
       "    font-size: 65px;\n",
       "    text-align: center;\n",
       "}\n",
       "h1.subsection {\n",
       "    font-size: 45px;\n",
       "    text-align: center;\n",
       "}\n",
       "h1.subsubsection {\n",
       "    font-size: 25px;\n",
       "    text-align: center;\n",
       "}\n",
       "\n",
       "ol.command_list {\n",
       "    font-size: 25px;\n",
       "}\n",
       "\n",
       "ul.command_list {\n",
       "    font-size: 25px;\n",
       "}\n",
       "\n",
       "table.commands {\n",
       "    font-size: 25px;\n",
       "}\n",
       "\n",
       "div.exercise {\n",
       "    display: block;\n",
       "    margin: 12px 0;\n",
       "    border:1px solid blue;\n",
       "    font-style: italic;\n",
       "    font-size: 25px;\n",
       "    padding: 1px 1px 1px 10px;\n",
       "}\n",
       "\n",
       "div.exercise:before {\n",
       "    content: \" Exercise. \";\n",
       "    font-weight: bold;\n",
       "    font-style: normal;\n",
       "    font-size: 25px;\n",
       "    color: blue;\n",
       "}\n",
       "\n",
       "div.info {\n",
       "    display: block;\n",
       "    margin: 12px 0;\n",
       "    border:1px solid green;\n",
       "    font-style: italic;\n",
       "    font-size: 25px;\n",
       "    padding: 1px 1px 1px 10px;\n",
       "}\n",
       "\n",
       "div.info:before {\n",
       "    content: \" Info. \";\n",
       "    font-weight: bold;\n",
       "    font-style: normal;\n",
       "    font-size: 25px;\n",
       "    color: green;\n",
       "}\n",
       "\n",
       "div.warn {\n",
       "    display: block;\n",
       "    margin: 12px 0;\n",
       "    border:1px solid yellow;\n",
       "    font-style: italic;\n",
       "    font-size: 25px;\n",
       "    padding: 1px 1px 1px 10px;\n",
       "\n",
       "}\n",
       "\n",
       "div.warn:before {\n",
       "    content: \" Warning. \";\n",
       "    font-weight: bold;\n",
       "    font-style: normal;\n",
       "    font-size: 25px;\n",
       "    color: yellow;\n",
       "\n",
       "\n",
       "}\n",
       "\n",
       "div.tip {\n",
       "    display: block;\n",
       "    margin: 12px 0;\n",
       "    border:1px solid green;\n",
       "    padding: 1px 1px 1px 10px;\n",
       "    font-style: italic;\n",
       "    font-size: 25px;\n",
       "}\n",
       "\n",
       "div.tip:before {\n",
       "    content: \" Tip. \";\n",
       "    font-weight: bold;\n",
       "    font-style: normal;\n",
       "    font-size: 25px;\n",
       "    color: green;\n",
       "}\n",
       "\n",
       "\n",
       "\n",
       "\n",
       "details.hint summary {\n",
       "    font-size: 25px;\n",
       "    font-weight: bold;\n",
       "    font-style: normal;\n",
       "    color: blue;\n",
       "}\n",
       "\n",
       "details.hint p {\n",
       " font-style: italic;\n",
       "    font-size: 15px;\n",
       "     font-weight: bold;\n",
       "}\n",
       "\n",
       "\n",
       " </style>\n"
      ],
      "text/plain": [
       "<IPython.core.display.HTML object>"
      ]
     },
     "execution_count": 1,
     "metadata": {},
     "output_type": "execute_result"
    }
   ],
   "source": [
    "# in case of change of file ./styles/custom.css run this snippet to apply changes to this notebook!\n",
    "from IPython.core.display import HTML\n",
    "\n",
    "\n",
    "def css_styling():\n",
    "    styles = open(\"../../../../style/custom.css\", \"r\").read()\n",
    "    return HTML(styles)\n",
    "\n",
    "\n",
    "css_styling()"
   ]
  }
 ],
 "metadata": {
  "kernelspec": {
   "display_name": "Python 3 (ipykernel)",
   "language": "python",
   "name": "python3"
  },
  "language_info": {
   "codemirror_mode": {
    "name": "ipython",
    "version": 3
   },
   "file_extension": ".py",
   "mimetype": "text/x-python",
   "name": "python",
   "nbconvert_exporter": "python",
   "pygments_lexer": "ipython3",
   "version": "3.10.6"
  }
 },
 "nbformat": 4,
 "nbformat_minor": 5
}
