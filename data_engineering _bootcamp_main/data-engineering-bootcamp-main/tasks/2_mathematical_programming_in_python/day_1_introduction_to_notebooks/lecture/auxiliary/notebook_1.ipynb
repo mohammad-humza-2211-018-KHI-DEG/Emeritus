{
 "cells": [
  {
   "cell_type": "code",
   "execution_count": null,
   "id": "f1504c1d-1293-44d9-b886-5b70274bcd2a",
   "metadata": {
    "tags": []
   },
   "outputs": [],
   "source": [
    "%matplotlib inline\n",
    "\n",
    "import matplotlib.pyplot as plt\n",
    "import numpy as np\n",
    "\n",
    "X = np.linspace(-5, 5, 100)  # a vector of hundred\n",
    "# equally-spaced points\n",
    "Y = np.sin(X)  # sine of each X\n",
    "plt.plot(X, Y)  # a line plot"
   ]
  }
 ],
 "metadata": {
  "kernelspec": {
   "display_name": "Python 3 (ipykernel)",
   "language": "python",
   "name": "python3"
  },
  "language_info": {
   "codemirror_mode": {
    "name": "ipython",
    "version": 3
   },
   "file_extension": ".py",
   "mimetype": "text/x-python",
   "name": "python",
   "nbconvert_exporter": "python",
   "pygments_lexer": "ipython3",
   "version": "3.8.13"
  }
 },
 "nbformat": 4,
 "nbformat_minor": 5
}
