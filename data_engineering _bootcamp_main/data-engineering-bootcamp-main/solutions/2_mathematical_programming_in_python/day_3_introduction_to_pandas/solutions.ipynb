{
 "cells": [
  {
   "cell_type": "markdown",
   "metadata": {},
   "source": [
    "## Solutions"
   ]
  },
  {
   "cell_type": "code",
   "execution_count": null,
   "metadata": {},
   "outputs": [],
   "source": [
    "import numpy as np\n",
    "import pandas as pd\n",
    "\n",
    "df = pd.read_csv(\"athlete_events.csv\")"
   ]
  },
  {
   "cell_type": "markdown",
   "metadata": {},
   "source": [
    "1) Look at 10 rows of the dataset (top or bottom)."
   ]
  },
  {
   "cell_type": "code",
   "execution_count": null,
   "metadata": {},
   "outputs": [],
   "source": [
    "df.head(10)"
   ]
  },
  {
   "cell_type": "markdown",
   "metadata": {},
   "source": [
    "2) Look at the distribution of values (value counts of different values) in the column `'Medal'`.\n",
    "\n",
    "Notice how the function used sorts values in descending order - it will be useful later on."
   ]
  },
  {
   "cell_type": "code",
   "execution_count": null,
   "metadata": {},
   "outputs": [],
   "source": [
    "df[\"Medal\"].value_counts()"
   ]
  },
  {
   "cell_type": "markdown",
   "metadata": {},
   "source": [
    "3) Check the distribution of `NaNs` across columns. What does the presence of `Nan` mean in each column?"
   ]
  },
  {
   "cell_type": "code",
   "execution_count": null,
   "metadata": {},
   "outputs": [],
   "source": [
    "df.isna().sum()"
   ]
  },
  {
   "cell_type": "markdown",
   "metadata": {},
   "source": [
    "4. Calculate participation according to year in sport."
   ]
  },
  {
   "cell_type": "code",
   "execution_count": null,
   "metadata": {},
   "outputs": [],
   "source": [
    "df.groupby([\"Sport\", \"Year\"])[\"ID\"].count()"
   ]
  },
  {
   "cell_type": "markdown",
   "metadata": {},
   "source": [
    "5. Calculate percentage athletes who won gold medal grouping by sport."
   ]
  },
  {
   "cell_type": "code",
   "execution_count": null,
   "metadata": {},
   "outputs": [],
   "source": [
    "df[df[\"Medal\"] == \"Gold\"].groupby([\"Sport\", \"Year\"])[\"ID\"].count() / df[\n",
    "    df[\"Medal\"] != \"Gold\"\n",
    "].groupby([\"Sport\", \"Year\"])[\"ID\"].count()"
   ]
  },
  {
   "cell_type": "markdown",
   "metadata": {},
   "source": [
    "6) Select only the rows describing gold medalists and store them into `gold_df` variable."
   ]
  },
  {
   "cell_type": "code",
   "execution_count": null,
   "metadata": {},
   "outputs": [],
   "source": [
    "gold_df = df[df[\"Medal\"] == \"Gold\"].copy()\n",
    "gold_df"
   ]
  },
  {
   "cell_type": "markdown",
   "metadata": {},
   "source": [
    "7) Calculate the average age of gold medalist."
   ]
  },
  {
   "cell_type": "code",
   "execution_count": null,
   "metadata": {},
   "outputs": [],
   "source": [
    "gold_df[\"Age\"].mean()"
   ]
  },
  {
   "cell_type": "markdown",
   "metadata": {},
   "source": [
    "8) Show top 10 countries with respect to the number of gold medals won."
   ]
  },
  {
   "cell_type": "code",
   "execution_count": null,
   "metadata": {},
   "outputs": [],
   "source": [
    "gold_df.groupby(\"Team\").count().sort_values(by=\"Medal\", ascending=False)[\"Medal\"]"
   ]
  },
  {
   "cell_type": "markdown",
   "metadata": {},
   "source": [
    "9) Calculate the number of golden medals of Belgium."
   ]
  },
  {
   "cell_type": "code",
   "execution_count": null,
   "metadata": {},
   "outputs": [],
   "source": [
    "gold_df[gold_df[\"Team\"] == \"Belgium\"][\"Medal\"].count()"
   ]
  },
  {
   "cell_type": "markdown",
   "metadata": {},
   "source": [
    "10) Calculate number of Polish gold medals by year."
   ]
  },
  {
   "cell_type": "code",
   "execution_count": null,
   "metadata": {},
   "outputs": [],
   "source": [
    "gold_df_poland = gold_df[gold_df[\"Team\"] == \"Poland\"]"
   ]
  },
  {
   "cell_type": "code",
   "execution_count": null,
   "metadata": {},
   "outputs": [],
   "source": [
    "gold_df_poland.groupby(\"Year\")[\"ID\"].count()"
   ]
  },
  {
   "cell_type": "markdown",
   "metadata": {},
   "source": [
    "11) Visualise it using function `plot()`."
   ]
  },
  {
   "cell_type": "code",
   "execution_count": null,
   "metadata": {},
   "outputs": [],
   "source": [
    "gold_df_poland = gold_df_poland.groupby(\"Year\")[\"ID\"].count().to_frame()"
   ]
  },
  {
   "cell_type": "code",
   "execution_count": null,
   "metadata": {},
   "outputs": [],
   "source": [
    "gold_df_poland.plot()"
   ]
  },
  {
   "cell_type": "markdown",
   "metadata": {},
   "source": [
    "12) Select all of the rows describing Polish gold medals in 1972 to analyze the anomaly."
   ]
  },
  {
   "cell_type": "code",
   "execution_count": null,
   "metadata": {},
   "outputs": [],
   "source": [
    "poland = gold_df.query(\"Year == 1972 and Team == 'Poland'\")\n",
    "poland"
   ]
  },
  {
   "cell_type": "markdown",
   "metadata": {},
   "source": [
    "13) Calculate weight to height ratio for every athlete."
   ]
  },
  {
   "cell_type": "code",
   "execution_count": null,
   "metadata": {},
   "outputs": [],
   "source": [
    "df[\"Weight\"] / df[\"Height\"]"
   ]
  },
  {
   "cell_type": "markdown",
   "metadata": {},
   "source": [
    "14) Create a new column with the average height for a given sex and age of athletes (not only gold medalists). Call it `'typical_height'`."
   ]
  },
  {
   "cell_type": "code",
   "execution_count": null,
   "metadata": {},
   "outputs": [],
   "source": [
    "def height_calculator(group):\n",
    "    group[\"typical_height\"] = group.Height.sum() / len(group)\n",
    "    return group\n",
    "\n",
    "\n",
    "df = df.groupby([\"Sex\", \"Age\"]).apply(height_calculator)\n",
    "df"
   ]
  },
  {
   "cell_type": "markdown",
   "metadata": {},
   "source": [
    "15) Create a new column `'height_diff'` with the deviation of height from the typical value in the segment."
   ]
  },
  {
   "cell_type": "code",
   "execution_count": null,
   "metadata": {},
   "outputs": [],
   "source": [
    "df[\"height_diff\"] = df[\"Height\"] - df[\"typical_height\"]\n",
    "df"
   ]
  },
  {
   "cell_type": "markdown",
   "metadata": {},
   "source": [
    "16) Drop the rows in the dataset where the newly calculated value is `NaN`. How many rows have been dropped?\n",
    "\n",
    "Hint: use `dropna()` function on the dataset with `subset=['height_diff]` as the only argument."
   ]
  },
  {
   "cell_type": "code",
   "execution_count": null,
   "metadata": {},
   "outputs": [],
   "source": [
    "print(df.height_diff.isna().sum())\n",
    "df.dropna(inplace=True, subset=[\"height_diff\"])"
   ]
  },
  {
   "cell_type": "markdown",
   "metadata": {},
   "source": [
    "17) Plot the histogram of this newly calculated column.\n",
    "\n",
    "Hint: use `seaborn.distplot` function, passing the appropriate column as the only argument."
   ]
  },
  {
   "cell_type": "code",
   "execution_count": null,
   "metadata": {},
   "outputs": [],
   "source": [
    "import seaborn as sns\n",
    "\n",
    "sns.histplot(df[\"height_diff\"])"
   ]
  },
  {
   "cell_type": "markdown",
   "metadata": {},
   "source": [
    "18) Verify whether the majority of gold medalists were higher than the typical height of their segment."
   ]
  },
  {
   "cell_type": "code",
   "execution_count": null,
   "metadata": {},
   "outputs": [],
   "source": [
    "(df.query(\"height_diff > 0 and Medal == 'Gold'\").shape[0] / df.shape[0]) > 0.5"
   ]
  },
  {
   "cell_type": "markdown",
   "metadata": {},
   "source": [
    "19) Calculate the actual percentage of gold medalists higher than the `'typical height'`."
   ]
  },
  {
   "cell_type": "code",
   "execution_count": null,
   "metadata": {},
   "outputs": [],
   "source": [
    "df.query(\"height_diff > 0 and Medal == 'Gold'\").shape[0] / df.shape[0]"
   ]
  },
  {
   "cell_type": "markdown",
   "metadata": {},
   "source": [
    "20) Calculate mean age and standard deviation of gold medalists. Compare it with the youngest gold medalist."
   ]
  },
  {
   "cell_type": "code",
   "execution_count": null,
   "metadata": {},
   "outputs": [],
   "source": [
    "gold_df.describe()[\"Age\"]"
   ]
  },
  {
   "cell_type": "markdown",
   "metadata": {},
   "source": [
    "21) Add new columns `first_gold` and `last_gold` meaning the first and last years of obtaining a gold medals by an athlete."
   ]
  },
  {
   "cell_type": "code",
   "execution_count": null,
   "metadata": {},
   "outputs": [],
   "source": [
    "def min_year(group):\n",
    "    group[\"first_gold\"] = group.Year.min()\n",
    "    return group\n",
    "\n",
    "\n",
    "def max_year(group):\n",
    "    group[\"last_gold\"] = group.Year.max()\n",
    "    return group\n",
    "\n",
    "\n",
    "gold_df = gold_df.groupby([\"Name\"]).apply(min_year)\n",
    "gold_df = gold_df.groupby([\"Name\"]).apply(max_year)\n",
    "gold_df[[\"Year\", \"first_gold\", \"last_gold\"]]"
   ]
  },
  {
   "cell_type": "markdown",
   "metadata": {},
   "source": [
    "22) Add a new column `'gold_span'` with the span in years of achieved gold medals. What is the maximal value of this span?"
   ]
  },
  {
   "cell_type": "code",
   "execution_count": null,
   "metadata": {},
   "outputs": [],
   "source": [
    "gold_df[\"gold_span\"] = list(zip(gold_df.first_gold, gold_df.last_gold))\n",
    "gold_df[\"gold_span_difference\"] = gold_df.last_gold - gold_df.first_gold"
   ]
  },
  {
   "cell_type": "code",
   "execution_count": null,
   "metadata": {},
   "outputs": [],
   "source": [
    "gold_df.sort_values(by=\"gold_span_difference\", ascending=False)"
   ]
  },
  {
   "cell_type": "code",
   "execution_count": null,
   "metadata": {},
   "outputs": [],
   "source": [
    "gold_df.gold_span_difference.max()"
   ]
  },
  {
   "cell_type": "markdown",
   "metadata": {},
   "source": [
    "23) Select the rows describing the history of this athlete/these athletes that reached maximal span."
   ]
  },
  {
   "cell_type": "code",
   "execution_count": null,
   "metadata": {},
   "outputs": [],
   "source": [
    "top_athlete = gold_df[\n",
    "    gold_df[\"gold_span_difference\"] == int(gold_df.gold_span_difference.max())\n",
    "]"
   ]
  },
  {
   "cell_type": "code",
   "execution_count": null,
   "metadata": {},
   "outputs": [],
   "source": [
    "top_athlete"
   ]
  },
  {
   "cell_type": "markdown",
   "metadata": {},
   "source": [
    "24. Find top performers in each Olympics (athletes who won the most medals)."
   ]
  },
  {
   "cell_type": "code",
   "execution_count": null,
   "metadata": {},
   "outputs": [],
   "source": [
    "medalists = df.dropna(inplace=False, subset=[\"Medal\"])\n",
    "medalists.groupby([\"Name\"]).count()[\"ID\"].sort_values(ascending=False)"
   ]
  },
  {
   "cell_type": "markdown",
   "metadata": {},
   "source": [
    "25) Who obtained the highest number of silver medals without ever getting a gold one and how many of them?"
   ]
  },
  {
   "cell_type": "code",
   "execution_count": null,
   "metadata": {},
   "outputs": [],
   "source": [
    "medalists = df.dropna(inplace=False, subset=[\"Medal\"])\n",
    "\n",
    "gold_medallists_ids = medalists[medalists[\"Medal\"] == \"Gold\"].ID.unique()\n",
    "\n",
    "medalists_no_gold = medalists[~df[\"ID\"].isin(gold_medallists_ids)]"
   ]
  },
  {
   "cell_type": "code",
   "execution_count": null,
   "metadata": {},
   "outputs": [],
   "source": [
    "medalists_no_gold_silver = medalists_no_gold[medalists_no_gold[\"Medal\"] == \"Silver\"]"
   ]
  },
  {
   "cell_type": "code",
   "execution_count": null,
   "metadata": {},
   "outputs": [],
   "source": [
    "medalists_no_gold_silver.groupby([\"Name\"]).count()[\"ID\"].sort_values(ascending=False)"
   ]
  },
  {
   "cell_type": "markdown",
   "metadata": {},
   "source": [
    "26. Create a new DataFrame called \"gold_medals_one_hot\", and fill it with values from the \"Medal\" column encoded using one-hot method. Explanation and example of one-hot encoding can be found [here](https://en.wikipedia.org/wiki/One-hot)"
   ]
  },
  {
   "cell_type": "code",
   "execution_count": null,
   "metadata": {},
   "outputs": [],
   "source": [
    "gold_medals_one_hot = pd.get_dummies(df[\"Medal\"])"
   ]
  },
  {
   "cell_type": "code",
   "execution_count": null,
   "metadata": {},
   "outputs": [],
   "source": [
    "gold_medals_one_hot[\"No_medal\"] = np.zeros(len(one_hot))"
   ]
  },
  {
   "cell_type": "code",
   "execution_count": null,
   "metadata": {},
   "outputs": [],
   "source": [
    "gold_medals_one_hot.loc[gold_medals_one_hot.sum(axis=1) == 0, \"No_medal\"] = 1"
   ]
  },
  {
   "cell_type": "code",
   "execution_count": null,
   "metadata": {},
   "outputs": [],
   "source": [
    "gold_medals_one_hot"
   ]
  },
  {
   "cell_type": "code",
   "execution_count": null,
   "metadata": {},
   "outputs": [],
   "source": []
  }
 ],
 "metadata": {
  "kernelspec": {
   "display_name": "Python 3 (ipykernel)",
   "language": "python",
   "name": "python3"
  },
  "language_info": {
   "codemirror_mode": {
    "name": "ipython",
    "version": 3
   },
   "file_extension": ".py",
   "mimetype": "text/x-python",
   "name": "python",
   "nbconvert_exporter": "python",
   "pygments_lexer": "ipython3",
   "version": "3.10.6"
  }
 },
 "nbformat": 4,
 "nbformat_minor": 4
}
