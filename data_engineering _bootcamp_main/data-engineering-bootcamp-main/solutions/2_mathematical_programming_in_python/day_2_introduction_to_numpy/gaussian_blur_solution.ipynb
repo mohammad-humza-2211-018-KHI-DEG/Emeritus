{
 "cells": [
  {
   "cell_type": "markdown",
   "metadata": {},
   "source": [
    "## Project solution"
   ]
  },
  {
   "cell_type": "code",
   "execution_count": null,
   "metadata": {},
   "outputs": [],
   "source": [
    "from typing import List, Tuple, Union\n",
    "import imageio\n",
    "\n",
    "import matplotlib.pyplot as plt\n",
    "import numpy as np"
   ]
  },
  {
   "cell_type": "code",
   "execution_count": null,
   "metadata": {},
   "outputs": [],
   "source": [
    "def add_padding(image: np.ndarray, padding: Tuple[int, int]) -> np.ndarray:\n",
    "    height, width = image.shape\n",
    "    pad_height, pad_width = padding\n",
    "\n",
    "    padded_image = np.zeros((height + pad_height * 2, width + pad_width * 2))\n",
    "    padded_image[\n",
    "        pad_height : height + pad_height, pad_width : width + pad_width\n",
    "    ] = image\n",
    "\n",
    "    return padded_image\n",
    "\n",
    "\n",
    "def check_params(\n",
    "    image: np.ndarray, kernel: np.ndarray, padding: Tuple[int, int] = (2, 2)\n",
    "):\n",
    "    params_are_correct = (\n",
    "        isinstance(padding[0], int)\n",
    "        and isinstance(padding[1], int)\n",
    "        and padding[0] >= 0\n",
    "        and padding[1] >= 0\n",
    "    )\n",
    "    assert params_are_correct, \"padding values have to be positive integers\"\n",
    "    height, width = image.shape\n",
    "    image = image if list(padding) == [0, 0] else add_padding(image, padding)\n",
    "    height_padded, width_padded = image.shape\n",
    "    kernel_shape = kernel.shape\n",
    "\n",
    "    kernel_is_correct = kernel_shape[0] % 2 == 1 and kernel_shape[1] % 2 == 1\n",
    "    assert kernel_is_correct, \"Kernel shape has to be odd.\"\n",
    "    image_to_kernel_is_correct = (\n",
    "        height_padded >= kernel_shape[0] and width_padded >= kernel_shape[1]\n",
    "    )\n",
    "    assert image_to_kernel_is_correct, \"Kernel has to be smaller than image\"\n",
    "\n",
    "    h_out = (\n",
    "        np.floor(\n",
    "            (height + 2 * padding[0] - kernel_shape[0] - (kernel_shape[0] - 1))\n",
    "        ).astype(int)\n",
    "        + 1\n",
    "    )\n",
    "    w_out = (\n",
    "        np.floor(\n",
    "            (width + 2 * padding[1] - kernel_shape[1] - (kernel_shape[1] - 1))\n",
    "        ).astype(int)\n",
    "        + 1\n",
    "    )\n",
    "    out_dimensions_are_correct = h_out > 0 and w_out > 0\n",
    "    assert out_dimensions_are_correct\n",
    "\n",
    "    return image, kernel, kernel_shape, h_out, w_out\n",
    "\n",
    "\n",
    "def convolve2D(\n",
    "    image: np.ndarray, kernel: np.ndarray, padding: Tuple[int, int] = (2, 2)\n",
    ") -> np.ndarray:\n",
    "    image, kernel, kernel_shape, h_out, w_out = check_params(image, kernel, padding)\n",
    "    image_out = np.zeros((h_out, w_out))\n",
    "\n",
    "    center_pixels = kernel_shape[0] // 2, kernel_shape[1] // 2\n",
    "    center_x_0 = center_pixels[0]\n",
    "    center_y_0 = center_pixels[1]\n",
    "    for i in range(h_out):\n",
    "        center_x = center_x_0 + i\n",
    "        indices_x = [\n",
    "            center_x + l for l in range(-center_pixels[0], center_pixels[0] + 1)\n",
    "        ]\n",
    "        for j in range(w_out):\n",
    "            center_y = center_y_0 + j\n",
    "            indices_y = [\n",
    "                center_y + l for l in range(-center_pixels[1], center_pixels[1] + 1)\n",
    "            ]\n",
    "\n",
    "            crop_image = image[indices_x, :][:, indices_y]\n",
    "\n",
    "            image_out[i][j] = np.sum(np.multiply(crop_image, kernel))\n",
    "    return image_out\n",
    "\n",
    "\n",
    "def apply_filter(image: np.ndarray, kernel: np.ndarray) -> np.ndarray:\n",
    "    b = kernel.shape\n",
    "    return np.dstack(\n",
    "        [\n",
    "            convolve2D(image[:, :, z], kernel, padding=(b[0] // 2, b[1] // 2))\n",
    "            for z in range(3)\n",
    "        ]\n",
    "    ).astype(\"uint8\")"
   ]
  },
  {
   "cell_type": "code",
   "execution_count": null,
   "metadata": {},
   "outputs": [],
   "source": [
    "image = imageio.imread(\"example.png\")\n",
    "plt.imshow(image)"
   ]
  },
  {
   "cell_type": "code",
   "execution_count": null,
   "metadata": {},
   "outputs": [],
   "source": [
    "gaussian_blur = (\n",
    "    np.array(\n",
    "        [\n",
    "            [1, 4, 6, 4, 1],\n",
    "            [4, 16, 24, 16, 4],\n",
    "            [6, 24, 36, 24, 6],\n",
    "            [4, 16, 24, 16, 4],\n",
    "            [1, 4, 6, 4, 1],\n",
    "        ]\n",
    "    )\n",
    "    / 256\n",
    ")"
   ]
  },
  {
   "cell_type": "code",
   "execution_count": null,
   "metadata": {},
   "outputs": [],
   "source": [
    "filtered_image = apply_filter(image, gaussian_blur)\n",
    "plt.imshow(filtered_image, vmin=0, vmax=255)"
   ]
  }
 ],
 "metadata": {
  "kernelspec": {
   "display_name": "Python 3 (ipykernel)",
   "language": "python",
   "name": "python3"
  },
  "language_info": {
   "codemirror_mode": {
    "name": "ipython",
    "version": 3
   },
   "file_extension": ".py",
   "mimetype": "text/x-python",
   "name": "python",
   "nbconvert_exporter": "python",
   "pygments_lexer": "ipython3",
   "version": "3.10.6"
  }
 },
 "nbformat": 4,
 "nbformat_minor": 4
}
