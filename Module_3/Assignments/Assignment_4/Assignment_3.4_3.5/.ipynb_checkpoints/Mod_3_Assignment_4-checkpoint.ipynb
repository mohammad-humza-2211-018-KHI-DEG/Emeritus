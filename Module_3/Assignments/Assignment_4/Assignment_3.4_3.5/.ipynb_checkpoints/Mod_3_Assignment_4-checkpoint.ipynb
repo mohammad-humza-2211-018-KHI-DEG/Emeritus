{
 "cells": [
  {
   "cell_type": "markdown",
   "id": "a57933fa",
   "metadata": {},
   "source": [
    "# I worked with \n",
    "### Muhammad Asim(2211-016-KHI-DEG) \n",
    "### Muhammad Adnan (2211-014-KHI-DEG) \n",
    "### Muhammad Daniyal (2211-017-KHI-DEG)\n",
    "### Muhammad Mudassir Raza(2211-021-KHI-DEG)\n"
   ]
  },
  {
   "cell_type": "code",
   "execution_count": 17,
   "id": "d6b505bd",
   "metadata": {},
   "outputs": [
    {
     "name": "stdout",
     "output_type": "stream",
     "text": [
      "/bin/bash: line 1: python: command not found\r\n"
     ]
    }
   ],
   "source": [
    "!python -c \"import sys; print(sys.executable)\""
   ]
  },
  {
   "cell_type": "code",
   "execution_count": 18,
   "id": "f584f22d",
   "metadata": {},
   "outputs": [],
   "source": [
    "import pandas as pd\n",
    "from sklearn.metrics import f1_score"
   ]
  },
  {
   "cell_type": "code",
   "execution_count": 23,
   "id": "2c4767ed",
   "metadata": {},
   "outputs": [],
   "source": [
    "%%bash --bg\n",
    "\n",
    "mlflow server --host 0.0.0.0 \\\n",
    "    --port 5000 \\\n",
    "    --backend-store-uri sqlite:///mlflow.db \\\n",
    "    --default-artifact-root ./mlruns"
   ]
  },
  {
   "cell_type": "code",
   "execution_count": 24,
   "id": "3d5f3ab0",
   "metadata": {},
   "outputs": [
    {
     "name": "stdout",
     "output_type": "stream",
     "text": [
      "name: basic_mlflow\r\n",
      "\r\n",
      "# this file is used to configure Python package dependencies.\r\n",
      "# it uses Anaconda, but it can be also alternatively configured to use pip.\r\n",
      "conda_env: conda.yaml\r\n",
      "\r\n",
      "# entry points can be ran using `mlflow run <project_name> -e <entry_point_name>\r\n",
      "entry_points:\r\n",
      "  download_data:\r\n",
      "    # you can run any command using MLFlow\r\n",
      "    command: \"bash download_data.sh\"\r\n",
      "  # MLproject file has to have main entry_point. It can be toggled without using -e option.\r\n",
      "  main:\r\n",
      "    # parameters is a key-value collection.\r\n",
      "    parameters:\r\n",
      "      max_k:\r\n",
      "        type: int\r\n",
      "        default: 10\r\n",
      "    command: \"python train_1.py {max_k}\"\r\n"
     ]
    }
   ],
   "source": [
    "%cat MLproject"
   ]
  },
  {
   "cell_type": "code",
   "execution_count": 21,
   "id": "61fdab77",
   "metadata": {},
   "outputs": [],
   "source": [
    "import sklearn"
   ]
  },
  {
   "cell_type": "code",
   "execution_count": 25,
   "id": "5319a713",
   "metadata": {},
   "outputs": [
    {
     "name": "stderr",
     "output_type": "stream",
     "text": [
      "2022/12/16 18:28:08 INFO mlflow.utils.conda: Conda environment mlflow-dd0fbdd40ba98798131458f29496394bd1a3fb33 already exists.\n",
      "2022/12/16 18:28:08 INFO mlflow.projects.utils: === Created directory /tmp/tmpb9dx18y1 for downloading remote URIs passed to arguments of type 'path' ===\n",
      "2022/12/16 18:28:08 INFO mlflow.projects.backend.local: === Running command 'source /home/muhammadhumza/anaconda3/bin/../etc/profile.d/conda.sh && conda activate mlflow-dd0fbdd40ba98798131458f29496394bd1a3fb33 1>&2 && python train_1.py 10' in run with ID '26eefae5964f40f6b531d84327cfeb23' === \n",
      "/home/muhammadhumza/anaconda3/envs/mlflow-dd0fbdd40ba98798131458f29496394bd1a3fb33/lib/python3.10/site-packages/_distutils_hack/__init__.py:33: UserWarning: Setuptools is replacing distutils.\n",
      "  warnings.warn(\"Setuptools is replacing distutils.\")\n",
      "Registered model 'sklearn_knn1' already exists. Creating a new version of this model...\n",
      "2022/12/16 18:28:10 INFO mlflow.tracking._model_registry.client: Waiting up to 300 seconds for model version to finish creation.                     Model name: sklearn_knn1, version 28\n",
      "Created version '28' of model 'sklearn_knn1'.\n",
      "Registered model 'sklearn_knn1' already exists. Creating a new version of this model...\n",
      "2022/12/16 18:28:11 INFO mlflow.tracking._model_registry.client: Waiting up to 300 seconds for model version to finish creation.                     Model name: sklearn_knn1, version 29\n",
      "Created version '29' of model 'sklearn_knn1'.\n",
      "Registered model 'sklearn_knn1' already exists. Creating a new version of this model...\n",
      "2022/12/16 18:28:12 INFO mlflow.tracking._model_registry.client: Waiting up to 300 seconds for model version to finish creation.                     Model name: sklearn_knn1, version 30\n",
      "Created version '30' of model 'sklearn_knn1'.\n",
      "Registered model 'sklearn_knn1' already exists. Creating a new version of this model...\n",
      "2022/12/16 18:28:13 INFO mlflow.tracking._model_registry.client: Waiting up to 300 seconds for model version to finish creation.                     Model name: sklearn_knn1, version 31\n",
      "Created version '31' of model 'sklearn_knn1'.\n",
      "Registered model 'sklearn_knn1' already exists. Creating a new version of this model...\n",
      "2022/12/16 18:28:14 INFO mlflow.tracking._model_registry.client: Waiting up to 300 seconds for model version to finish creation.                     Model name: sklearn_knn1, version 32\n",
      "Created version '32' of model 'sklearn_knn1'.\n",
      "Registered model 'sklearn_knn1' already exists. Creating a new version of this model...\n",
      "2022/12/16 18:28:15 INFO mlflow.tracking._model_registry.client: Waiting up to 300 seconds for model version to finish creation.                     Model name: sklearn_knn1, version 33\n",
      "Created version '33' of model 'sklearn_knn1'.\n",
      "Registered model 'sklearn_knn1' already exists. Creating a new version of this model...\n",
      "2022/12/16 18:28:16 INFO mlflow.tracking._model_registry.client: Waiting up to 300 seconds for model version to finish creation.                     Model name: sklearn_knn1, version 34\n",
      "Created version '34' of model 'sklearn_knn1'.\n",
      "Registered model 'sklearn_knn1' already exists. Creating a new version of this model...\n",
      "2022/12/16 18:28:17 INFO mlflow.tracking._model_registry.client: Waiting up to 300 seconds for model version to finish creation.                     Model name: sklearn_knn1, version 35\n",
      "Created version '35' of model 'sklearn_knn1'.\n",
      "Registered model 'sklearn_knn1' already exists. Creating a new version of this model...\n",
      "2022/12/16 18:28:18 INFO mlflow.tracking._model_registry.client: Waiting up to 300 seconds for model version to finish creation.                     Model name: sklearn_knn1, version 36\n",
      "Created version '36' of model 'sklearn_knn1'.\n",
      "2022/12/16 18:28:19 INFO mlflow.projects: === Run (ID '26eefae5964f40f6b531d84327cfeb23') succeeded ===\n"
     ]
    }
   ],
   "source": [
    "%%bash\n",
    "source mlflow_env_vars.sh\n",
    "mlflow run . "
   ]
  },
  {
   "cell_type": "code",
   "execution_count": 26,
   "id": "8c12b83d",
   "metadata": {},
   "outputs": [
    {
     "name": "stdout",
     "output_type": "stream",
     "text": [
      "artifact_path: knn\n",
      "flavors:\n",
      "  python_function:\n",
      "    env:\n",
      "      conda: conda.yaml\n",
      "      virtualenv: python_env.yaml\n",
      "    loader_module: mlflow.sklearn\n",
      "    model_path: model.pkl\n",
      "    predict_fn: predict\n",
      "    python_version: 3.10.8\n",
      "  sklearn:\n",
      "    code: null\n",
      "    pickled_model: model.pkl\n",
      "    serialization_format: cloudpickle\n",
      "    sklearn_version: 1.2.0\n",
      "mlflow_version: 2.0.1\n",
      "model_uuid: f71f6c5ee7c04f2aa64b8956af10a947\n",
      "run_id: b87e0e8f21e9498cb62848dc9cc5a75b\n",
      "utc_time_created: '2022-12-16 13:28:17.852424'\n"
     ]
    }
   ],
   "source": [
    "%%bash\n",
    "last_model_path=$(ls -tr mlruns/0/ | tail -1)\n",
    "cat mlruns/0/$last_model_path/artifacts/knn/MLmodel"
   ]
  },
  {
   "cell_type": "code",
   "execution_count": 27,
   "id": "0e2224de",
   "metadata": {},
   "outputs": [],
   "source": [
    "import mlflow"
   ]
  },
  {
   "cell_type": "code",
   "execution_count": 28,
   "id": "f791e3ac",
   "metadata": {},
   "outputs": [],
   "source": [
    "%%bash --bg\n",
    "source mlflow_env_vars.sh\n",
    "mlflow --version\n",
    "mlflow models serve -m models:/sklearn_knn1/Production -p 5005 --env-manager=conda "
   ]
  },
  {
   "cell_type": "code",
   "execution_count": 34,
   "id": "89830ee1",
   "metadata": {},
   "outputs": [
    {
     "name": "stdout",
     "output_type": "stream",
     "text": [
      "[[-0.21377227,2.20102755,0.33852017,0.54045974,-1.06750181, -0.93797676,-1.40163347,0.83589485,-1.33602356,1.09645451, -1.83108938,-1.06504572,-0.39959595]]\n"
     ]
    },
    {
     "name": "stderr",
     "output_type": "stream",
     "text": [
      "  % Total    % Received % Xferd  Average Speed   Time    Time     Time  Current\n",
      "                                 Dload  Upload   Total   Spent    Left  Speed\n",
      "100   202  100    20  100   182   6587  59947 --:--:-- --:--:-- --:--:--   98k\n"
     ]
    },
    {
     "name": "stdout",
     "output_type": "stream",
     "text": [
      "{\"predictions\": [2]}"
     ]
    }
   ],
   "source": [
    "%%bash\n",
    "data='[[-0.21377227,2.20102755,0.33852017,0.54045974,-1.06750181,\n",
    "       -0.93797676,-1.40163347,0.83589485,-1.33602356,1.09645451,\n",
    "       -1.83108938,-1.06504572,-0.39959595]]'\n",
    "echo $data\n",
    "\n",
    "curl -d \"{\\\"inputs\\\": $data}\" -H 'Content-Type: application/json' 127.0.0.1:5005/invocations"
   ]
  },
  {
   "cell_type": "code",
   "execution_count": 33,
   "id": "f2a6e0a6",
   "metadata": {},
   "outputs": [
    {
     "name": "stdout",
     "output_type": "stream",
     "text": [
      "[[ 0.72448181, -0.60307486, -0.22543808, -0.9847936 , 1.2832654 , 1.42866829, 1.31116442, -0.25020148, 1.29154193, 0.43699675, 0.00314921, 1.0764175 , 0.23036358]]\n"
     ]
    },
    {
     "name": "stderr",
     "output_type": "stream",
     "text": [
      "  % Total    % Received % Xferd  Average Speed   Time    Time     Time  Current\n",
      "                                 Dload  Upload   Total   Spent    Left  Speed\n",
      "100   217  100    20  100   197  10970   105k --:--:-- --:--:-- --:--:--  211k\n"
     ]
    },
    {
     "name": "stdout",
     "output_type": "stream",
     "text": [
      "{\"predictions\": [0]}"
     ]
    }
   ],
   "source": [
    "%%bash\n",
    "data='[[ 0.72448181, -0.60307486, -0.22543808, -0.9847936 ,  1.2832654 ,\n",
    "        1.42866829,  1.31116442, -0.25020148,  1.29154193,  0.43699675,\n",
    "        0.00314921,  1.0764175 ,  0.23036358]]'\n",
    "echo $data\n",
    "\n",
    "curl -d \"{\\\"inputs\\\": $data}\" -H 'Content-Type: application/json' 127.0.0.1:5005/invocations"
   ]
  },
  {
   "cell_type": "code",
   "execution_count": 32,
   "id": "1c1df367",
   "metadata": {},
   "outputs": [
    {
     "name": "stdout",
     "output_type": "stream",
     "text": [
      "(Not all processes could be identified, non-owned process info\r\n",
      " will not be shown, you would have to be root to see it all.)\r\n",
      "tcp        0      0 127.0.0.1:5005          0.0.0.0:*               LISTEN      43541/python        \r\n"
     ]
    }
   ],
   "source": [
    "!netstat -tnlp | grep 5005"
   ]
  },
  {
   "cell_type": "code",
   "execution_count": null,
   "id": "f769b54b",
   "metadata": {},
   "outputs": [],
   "source": []
  }
 ],
 "metadata": {
  "kernelspec": {
   "display_name": "Python 3 (ipykernel)",
   "language": "python",
   "name": "python3"
  },
  "language_info": {
   "codemirror_mode": {
    "name": "ipython",
    "version": 3
   },
   "file_extension": ".py",
   "mimetype": "text/x-python",
   "name": "python",
   "nbconvert_exporter": "python",
   "pygments_lexer": "ipython3",
   "version": "3.10.6"
  }
 },
 "nbformat": 4,
 "nbformat_minor": 5
}
