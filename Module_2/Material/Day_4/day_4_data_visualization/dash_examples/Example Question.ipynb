{
 "cells": [
  {
   "cell_type": "code",
   "execution_count": null,
   "id": "305daf93",
   "metadata": {},
   "outputs": [],
   "source": [
    "import dash\n",
    "import numpy as np\n",
    "import plotly.express as px\n",
    "import dash_html_components as html\n",
    "import dash_core_components as dcc\n",
    "\n",
    "app = dash.Dash(__name__)\n",
    "\n",
    "x_array = np.linspace(0, 10)\n",
    "y_array = x_array**2\n",
    "\n",
    "\n",
    "def generate_graph():\n",
    "    fig = px.line(x=x_array, y=y_array)\n",
    "    graphs = dcc.Graph(id=\"Data graph\", figure=fig)\n",
    "    return graphs\n",
    "\n",
    "\n",
    "app.layout = html.Div(\n",
    "    children=[\n",
    "        html.H1(children=\"Simple dashboard\"),\n",
    "        html.P(children=\"Content of the page\"),\n",
    "        html.Div(children=generate_graph()),\n",
    "    ]\n",
    ")\n",
    "\n",
    "if __name__ == \"__main__\":\n",
    "    app.run_server(debug=True)"
   ]
  }
 ],
 "metadata": {
  "kernelspec": {
   "display_name": "Python 3 (ipykernel)",
   "language": "python",
   "name": "python3"
  },
  "language_info": {
   "codemirror_mode": {
    "name": "ipython",
    "version": 3
   },
   "file_extension": ".py",
   "mimetype": "text/x-python",
   "name": "python",
   "nbconvert_exporter": "python",
   "pygments_lexer": "ipython3",
   "version": "3.10.6"
  }
 },
 "nbformat": 4,
 "nbformat_minor": 5
}
