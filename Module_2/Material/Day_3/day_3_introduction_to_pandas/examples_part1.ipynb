{
 "cells": [
  {
   "cell_type": "markdown",
   "metadata": {},
   "source": [
    "# Day 3. Introduction to pandas"
   ]
  },
  {
   "cell_type": "markdown",
   "metadata": {},
   "source": [
    "### Importing modules"
   ]
  },
  {
   "cell_type": "code",
   "execution_count": 1,
   "metadata": {},
   "outputs": [],
   "source": [
    "import numpy as np\n",
    "import pandas as pd\n",
    "\n",
    "import matplotlib.pyplot as plt\n",
    "import seaborn as sns\n",
    "\n",
    "sns.set()"
   ]
  },
  {
   "cell_type": "code",
   "execution_count": 2,
   "metadata": {},
   "outputs": [],
   "source": [
    "# IPython Notebook option to show plots in the notebook (not in a separate window)\n",
    "%matplotlib inline"
   ]
  },
  {
   "cell_type": "markdown",
   "metadata": {},
   "source": [
    "### Series creation"
   ]
  },
  {
   "cell_type": "markdown",
   "metadata": {},
   "source": [
    "A Series is a 1-dimensional data structure capable of holding single data type. It can easily be created using NumPy array."
   ]
  },
  {
   "cell_type": "code",
   "execution_count": 3,
   "metadata": {},
   "outputs": [
    {
     "data": {
      "text/plain": [
       "0    0.746088\n",
       "1    0.751734\n",
       "2    0.760356\n",
       "3    0.441144\n",
       "4    0.924170\n",
       "5    0.378975\n",
       "6    0.655647\n",
       "7    0.636961\n",
       "8    0.506015\n",
       "9    0.081832\n",
       "dtype: float64"
      ]
     },
     "execution_count": 3,
     "metadata": {},
     "output_type": "execute_result"
    }
   ],
   "source": [
    "arr = np.random.random(10)\n",
    "series = pd.Series(arr)\n",
    "series"
   ]
  },
  {
   "cell_type": "markdown",
   "metadata": {},
   "source": [
    "## Series slicing and indexing"
   ]
  },
  {
   "cell_type": "code",
   "execution_count": 4,
   "metadata": {
    "tags": []
   },
   "outputs": [
    {
     "data": {
      "text/plain": [
       "0.746087720547896"
      ]
     },
     "execution_count": 4,
     "metadata": {},
     "output_type": "execute_result"
    }
   ],
   "source": [
    "# Selecting particular element\n",
    "series[0]"
   ]
  },
  {
   "cell_type": "code",
   "execution_count": 5,
   "metadata": {},
   "outputs": [
    {
     "data": {
      "text/plain": [
       "0.746087720547896"
      ]
     },
     "execution_count": 5,
     "metadata": {},
     "output_type": "execute_result"
    }
   ],
   "source": [
    "# You can also use iloc and loc to acces its elements\n",
    "series.iloc[0]"
   ]
  },
  {
   "cell_type": "code",
   "execution_count": 6,
   "metadata": {},
   "outputs": [
    {
     "data": {
      "text/plain": [
       "0    0.746088\n",
       "1    0.751734\n",
       "2    0.760356\n",
       "3    0.441144\n",
       "dtype: float64"
      ]
     },
     "execution_count": 6,
     "metadata": {},
     "output_type": "execute_result"
    }
   ],
   "source": [
    "# You can access multiple elements using slicing\n",
    "series.iloc[0:4]"
   ]
  },
  {
   "cell_type": "code",
   "execution_count": 7,
   "metadata": {},
   "outputs": [
    {
     "name": "stdout",
     "output_type": "stream",
     "text": [
      "0    0.746088\n",
      "1    0.751734\n",
      "2    0.760356\n",
      "3    0.441144\n",
      "4    0.924170\n",
      "dtype: float64\n"
     ]
    }
   ],
   "source": [
    "# We can see a beginning of the Series, default 5 elements\n",
    "print(series.head())"
   ]
  },
  {
   "cell_type": "code",
   "execution_count": 8,
   "metadata": {},
   "outputs": [
    {
     "name": "stdout",
     "output_type": "stream",
     "text": [
      "7    0.636961\n",
      "8    0.506015\n",
      "9    0.081832\n",
      "dtype: float64\n"
     ]
    }
   ],
   "source": [
    "# And an end of it, default 5 elements\n",
    "print(series.tail(3))"
   ]
  },
  {
   "cell_type": "markdown",
   "metadata": {},
   "source": [
    "## Basic mathematical operations on Series"
   ]
  },
  {
   "cell_type": "markdown",
   "metadata": {},
   "source": [
    "You can easily performs operations such as addition, subtraction or multiplication using Pandas Serie."
   ]
  },
  {
   "cell_type": "code",
   "execution_count": 9,
   "metadata": {},
   "outputs": [],
   "source": [
    "ser_a = pd.Series(\n",
    "    [\n",
    "        15,\n",
    "        20,\n",
    "        33,\n",
    "        17,\n",
    "        4,\n",
    "    ]\n",
    ")\n",
    "ser_b = pd.Series([15, 5, 7])"
   ]
  },
  {
   "cell_type": "markdown",
   "metadata": {},
   "source": [
    "NumPy is the DataFrame's underlying data structure, actually:"
   ]
  },
  {
   "cell_type": "code",
   "execution_count": 10,
   "metadata": {},
   "outputs": [
    {
     "name": "stdout",
     "output_type": "stream",
     "text": [
      "<class 'numpy.ndarray'>\n"
     ]
    }
   ],
   "source": [
    "print(type(series.values))"
   ]
  },
  {
   "cell_type": "code",
   "execution_count": 11,
   "metadata": {},
   "outputs": [
    {
     "name": "stdout",
     "output_type": "stream",
     "text": [
      "0    30.0\n",
      "1    25.0\n",
      "2    40.0\n",
      "3     NaN\n",
      "4     NaN\n",
      "dtype: float64\n",
      "0     0.0\n",
      "1    15.0\n",
      "2    26.0\n",
      "3     NaN\n",
      "4     NaN\n",
      "dtype: float64\n",
      "0    225.0\n",
      "1    100.0\n",
      "2    231.0\n",
      "3      NaN\n",
      "4      NaN\n",
      "dtype: float64\n",
      "0    1.000000\n",
      "1    4.000000\n",
      "2    4.714286\n",
      "3         NaN\n",
      "4         NaN\n",
      "dtype: float64\n"
     ]
    }
   ],
   "source": [
    "# All operations are performed elementwise and missing values are filled with NaNs\n",
    "print(ser_a + ser_b)\n",
    "print(ser_a - ser_b)\n",
    "print(ser_a * ser_b)\n",
    "print(ser_a / ser_b)"
   ]
  },
  {
   "cell_type": "markdown",
   "metadata": {},
   "source": [
    "### DataFrame creation"
   ]
  },
  {
   "cell_type": "markdown",
   "metadata": {},
   "source": [
    "A basic data structure in pandas is a DataFrame. It's a 2 dimensional data structure with rows and columns. One can easily create a DataFrame from a NumPy array."
   ]
  },
  {
   "cell_type": "code",
   "execution_count": 12,
   "metadata": {},
   "outputs": [
    {
     "data": {
      "text/html": [
       "<div>\n",
       "<style scoped>\n",
       "    .dataframe tbody tr th:only-of-type {\n",
       "        vertical-align: middle;\n",
       "    }\n",
       "\n",
       "    .dataframe tbody tr th {\n",
       "        vertical-align: top;\n",
       "    }\n",
       "\n",
       "    .dataframe thead th {\n",
       "        text-align: right;\n",
       "    }\n",
       "</style>\n",
       "<table border=\"1\" class=\"dataframe\">\n",
       "  <thead>\n",
       "    <tr style=\"text-align: right;\">\n",
       "      <th></th>\n",
       "      <th>0</th>\n",
       "      <th>1</th>\n",
       "      <th>2</th>\n",
       "      <th>3</th>\n",
       "      <th>4</th>\n",
       "    </tr>\n",
       "  </thead>\n",
       "  <tbody>\n",
       "    <tr>\n",
       "      <th>0</th>\n",
       "      <td>0.721870</td>\n",
       "      <td>0.111629</td>\n",
       "      <td>0.806451</td>\n",
       "      <td>0.715954</td>\n",
       "      <td>0.749427</td>\n",
       "    </tr>\n",
       "    <tr>\n",
       "      <th>1</th>\n",
       "      <td>0.698741</td>\n",
       "      <td>0.611024</td>\n",
       "      <td>0.106743</td>\n",
       "      <td>0.879385</td>\n",
       "      <td>0.813148</td>\n",
       "    </tr>\n",
       "    <tr>\n",
       "      <th>2</th>\n",
       "      <td>0.110785</td>\n",
       "      <td>0.808916</td>\n",
       "      <td>0.918424</td>\n",
       "      <td>0.857874</td>\n",
       "      <td>0.508647</td>\n",
       "    </tr>\n",
       "    <tr>\n",
       "      <th>3</th>\n",
       "      <td>0.957330</td>\n",
       "      <td>0.219612</td>\n",
       "      <td>0.526522</td>\n",
       "      <td>0.793173</td>\n",
       "      <td>0.349705</td>\n",
       "    </tr>\n",
       "    <tr>\n",
       "      <th>4</th>\n",
       "      <td>0.922507</td>\n",
       "      <td>0.119300</td>\n",
       "      <td>0.139745</td>\n",
       "      <td>0.531060</td>\n",
       "      <td>0.076025</td>\n",
       "    </tr>\n",
       "    <tr>\n",
       "      <th>5</th>\n",
       "      <td>0.881841</td>\n",
       "      <td>0.900386</td>\n",
       "      <td>0.556020</td>\n",
       "      <td>0.203753</td>\n",
       "      <td>0.723498</td>\n",
       "    </tr>\n",
       "    <tr>\n",
       "      <th>6</th>\n",
       "      <td>0.848798</td>\n",
       "      <td>0.945725</td>\n",
       "      <td>0.505634</td>\n",
       "      <td>0.011348</td>\n",
       "      <td>0.901190</td>\n",
       "    </tr>\n",
       "    <tr>\n",
       "      <th>7</th>\n",
       "      <td>0.667643</td>\n",
       "      <td>0.661719</td>\n",
       "      <td>0.318361</td>\n",
       "      <td>0.436380</td>\n",
       "      <td>0.901475</td>\n",
       "    </tr>\n",
       "    <tr>\n",
       "      <th>8</th>\n",
       "      <td>0.870707</td>\n",
       "      <td>0.964000</td>\n",
       "      <td>0.704737</td>\n",
       "      <td>0.938505</td>\n",
       "      <td>0.308658</td>\n",
       "    </tr>\n",
       "    <tr>\n",
       "      <th>9</th>\n",
       "      <td>0.897896</td>\n",
       "      <td>0.317778</td>\n",
       "      <td>0.151750</td>\n",
       "      <td>0.081481</td>\n",
       "      <td>0.065211</td>\n",
       "    </tr>\n",
       "  </tbody>\n",
       "</table>\n",
       "</div>"
      ],
      "text/plain": [
       "          0         1         2         3         4\n",
       "0  0.721870  0.111629  0.806451  0.715954  0.749427\n",
       "1  0.698741  0.611024  0.106743  0.879385  0.813148\n",
       "2  0.110785  0.808916  0.918424  0.857874  0.508647\n",
       "3  0.957330  0.219612  0.526522  0.793173  0.349705\n",
       "4  0.922507  0.119300  0.139745  0.531060  0.076025\n",
       "5  0.881841  0.900386  0.556020  0.203753  0.723498\n",
       "6  0.848798  0.945725  0.505634  0.011348  0.901190\n",
       "7  0.667643  0.661719  0.318361  0.436380  0.901475\n",
       "8  0.870707  0.964000  0.704737  0.938505  0.308658\n",
       "9  0.897896  0.317778  0.151750  0.081481  0.065211"
      ]
     },
     "execution_count": 12,
     "metadata": {},
     "output_type": "execute_result"
    }
   ],
   "source": [
    "arr = np.random.random([10, 5])\n",
    "df = pd.DataFrame(arr)\n",
    "df"
   ]
  },
  {
   "cell_type": "markdown",
   "metadata": {},
   "source": [
    "We can give names to columns and rows, they don't have to be unique. "
   ]
  },
  {
   "cell_type": "code",
   "execution_count": 13,
   "metadata": {},
   "outputs": [
    {
     "data": {
      "text/html": [
       "<div>\n",
       "<style scoped>\n",
       "    .dataframe tbody tr th:only-of-type {\n",
       "        vertical-align: middle;\n",
       "    }\n",
       "\n",
       "    .dataframe tbody tr th {\n",
       "        vertical-align: top;\n",
       "    }\n",
       "\n",
       "    .dataframe thead th {\n",
       "        text-align: right;\n",
       "    }\n",
       "</style>\n",
       "<table border=\"1\" class=\"dataframe\">\n",
       "  <thead>\n",
       "    <tr style=\"text-align: right;\">\n",
       "      <th></th>\n",
       "      <th>col_0</th>\n",
       "      <th>col_1</th>\n",
       "      <th>col_2</th>\n",
       "      <th>col_3</th>\n",
       "      <th>col_4</th>\n",
       "    </tr>\n",
       "  </thead>\n",
       "  <tbody>\n",
       "    <tr>\n",
       "      <th>0</th>\n",
       "      <td>0.721870</td>\n",
       "      <td>0.111629</td>\n",
       "      <td>0.806451</td>\n",
       "      <td>0.715954</td>\n",
       "      <td>0.749427</td>\n",
       "    </tr>\n",
       "    <tr>\n",
       "      <th>1</th>\n",
       "      <td>0.698741</td>\n",
       "      <td>0.611024</td>\n",
       "      <td>0.106743</td>\n",
       "      <td>0.879385</td>\n",
       "      <td>0.813148</td>\n",
       "    </tr>\n",
       "    <tr>\n",
       "      <th>2</th>\n",
       "      <td>0.110785</td>\n",
       "      <td>0.808916</td>\n",
       "      <td>0.918424</td>\n",
       "      <td>0.857874</td>\n",
       "      <td>0.508647</td>\n",
       "    </tr>\n",
       "    <tr>\n",
       "      <th>3</th>\n",
       "      <td>0.957330</td>\n",
       "      <td>0.219612</td>\n",
       "      <td>0.526522</td>\n",
       "      <td>0.793173</td>\n",
       "      <td>0.349705</td>\n",
       "    </tr>\n",
       "    <tr>\n",
       "      <th>4</th>\n",
       "      <td>0.922507</td>\n",
       "      <td>0.119300</td>\n",
       "      <td>0.139745</td>\n",
       "      <td>0.531060</td>\n",
       "      <td>0.076025</td>\n",
       "    </tr>\n",
       "    <tr>\n",
       "      <th>5</th>\n",
       "      <td>0.881841</td>\n",
       "      <td>0.900386</td>\n",
       "      <td>0.556020</td>\n",
       "      <td>0.203753</td>\n",
       "      <td>0.723498</td>\n",
       "    </tr>\n",
       "    <tr>\n",
       "      <th>6</th>\n",
       "      <td>0.848798</td>\n",
       "      <td>0.945725</td>\n",
       "      <td>0.505634</td>\n",
       "      <td>0.011348</td>\n",
       "      <td>0.901190</td>\n",
       "    </tr>\n",
       "    <tr>\n",
       "      <th>7</th>\n",
       "      <td>0.667643</td>\n",
       "      <td>0.661719</td>\n",
       "      <td>0.318361</td>\n",
       "      <td>0.436380</td>\n",
       "      <td>0.901475</td>\n",
       "    </tr>\n",
       "    <tr>\n",
       "      <th>8</th>\n",
       "      <td>0.870707</td>\n",
       "      <td>0.964000</td>\n",
       "      <td>0.704737</td>\n",
       "      <td>0.938505</td>\n",
       "      <td>0.308658</td>\n",
       "    </tr>\n",
       "    <tr>\n",
       "      <th>9</th>\n",
       "      <td>0.897896</td>\n",
       "      <td>0.317778</td>\n",
       "      <td>0.151750</td>\n",
       "      <td>0.081481</td>\n",
       "      <td>0.065211</td>\n",
       "    </tr>\n",
       "  </tbody>\n",
       "</table>\n",
       "</div>"
      ],
      "text/plain": [
       "      col_0     col_1     col_2     col_3     col_4\n",
       "0  0.721870  0.111629  0.806451  0.715954  0.749427\n",
       "1  0.698741  0.611024  0.106743  0.879385  0.813148\n",
       "2  0.110785  0.808916  0.918424  0.857874  0.508647\n",
       "3  0.957330  0.219612  0.526522  0.793173  0.349705\n",
       "4  0.922507  0.119300  0.139745  0.531060  0.076025\n",
       "5  0.881841  0.900386  0.556020  0.203753  0.723498\n",
       "6  0.848798  0.945725  0.505634  0.011348  0.901190\n",
       "7  0.667643  0.661719  0.318361  0.436380  0.901475\n",
       "8  0.870707  0.964000  0.704737  0.938505  0.308658\n",
       "9  0.897896  0.317778  0.151750  0.081481  0.065211"
      ]
     },
     "execution_count": 13,
     "metadata": {},
     "output_type": "execute_result"
    }
   ],
   "source": [
    "df.columns = [\"col_{}\".format(i) for i in range(df.shape[1])]\n",
    "df"
   ]
  },
  {
   "cell_type": "code",
   "execution_count": 14,
   "metadata": {},
   "outputs": [
    {
     "data": {
      "text/html": [
       "<div>\n",
       "<style scoped>\n",
       "    .dataframe tbody tr th:only-of-type {\n",
       "        vertical-align: middle;\n",
       "    }\n",
       "\n",
       "    .dataframe tbody tr th {\n",
       "        vertical-align: top;\n",
       "    }\n",
       "\n",
       "    .dataframe thead th {\n",
       "        text-align: right;\n",
       "    }\n",
       "</style>\n",
       "<table border=\"1\" class=\"dataframe\">\n",
       "  <thead>\n",
       "    <tr style=\"text-align: right;\">\n",
       "      <th></th>\n",
       "      <th>col_0</th>\n",
       "      <th>col_1</th>\n",
       "      <th>col_2</th>\n",
       "      <th>col_3</th>\n",
       "      <th>col_4</th>\n",
       "    </tr>\n",
       "    <tr>\n",
       "      <th>row_number</th>\n",
       "      <th></th>\n",
       "      <th></th>\n",
       "      <th></th>\n",
       "      <th></th>\n",
       "      <th></th>\n",
       "    </tr>\n",
       "  </thead>\n",
       "  <tbody>\n",
       "    <tr>\n",
       "      <th>row_0</th>\n",
       "      <td>0.721870</td>\n",
       "      <td>0.111629</td>\n",
       "      <td>0.806451</td>\n",
       "      <td>0.715954</td>\n",
       "      <td>0.749427</td>\n",
       "    </tr>\n",
       "    <tr>\n",
       "      <th>row_1</th>\n",
       "      <td>0.698741</td>\n",
       "      <td>0.611024</td>\n",
       "      <td>0.106743</td>\n",
       "      <td>0.879385</td>\n",
       "      <td>0.813148</td>\n",
       "    </tr>\n",
       "    <tr>\n",
       "      <th>row_2</th>\n",
       "      <td>0.110785</td>\n",
       "      <td>0.808916</td>\n",
       "      <td>0.918424</td>\n",
       "      <td>0.857874</td>\n",
       "      <td>0.508647</td>\n",
       "    </tr>\n",
       "    <tr>\n",
       "      <th>row_3</th>\n",
       "      <td>0.957330</td>\n",
       "      <td>0.219612</td>\n",
       "      <td>0.526522</td>\n",
       "      <td>0.793173</td>\n",
       "      <td>0.349705</td>\n",
       "    </tr>\n",
       "    <tr>\n",
       "      <th>row_4</th>\n",
       "      <td>0.922507</td>\n",
       "      <td>0.119300</td>\n",
       "      <td>0.139745</td>\n",
       "      <td>0.531060</td>\n",
       "      <td>0.076025</td>\n",
       "    </tr>\n",
       "    <tr>\n",
       "      <th>row_5</th>\n",
       "      <td>0.881841</td>\n",
       "      <td>0.900386</td>\n",
       "      <td>0.556020</td>\n",
       "      <td>0.203753</td>\n",
       "      <td>0.723498</td>\n",
       "    </tr>\n",
       "    <tr>\n",
       "      <th>row_6</th>\n",
       "      <td>0.848798</td>\n",
       "      <td>0.945725</td>\n",
       "      <td>0.505634</td>\n",
       "      <td>0.011348</td>\n",
       "      <td>0.901190</td>\n",
       "    </tr>\n",
       "    <tr>\n",
       "      <th>row_7</th>\n",
       "      <td>0.667643</td>\n",
       "      <td>0.661719</td>\n",
       "      <td>0.318361</td>\n",
       "      <td>0.436380</td>\n",
       "      <td>0.901475</td>\n",
       "    </tr>\n",
       "    <tr>\n",
       "      <th>row_8</th>\n",
       "      <td>0.870707</td>\n",
       "      <td>0.964000</td>\n",
       "      <td>0.704737</td>\n",
       "      <td>0.938505</td>\n",
       "      <td>0.308658</td>\n",
       "    </tr>\n",
       "    <tr>\n",
       "      <th>row_9</th>\n",
       "      <td>0.897896</td>\n",
       "      <td>0.317778</td>\n",
       "      <td>0.151750</td>\n",
       "      <td>0.081481</td>\n",
       "      <td>0.065211</td>\n",
       "    </tr>\n",
       "  </tbody>\n",
       "</table>\n",
       "</div>"
      ],
      "text/plain": [
       "               col_0     col_1     col_2     col_3     col_4\n",
       "row_number                                                  \n",
       "row_0       0.721870  0.111629  0.806451  0.715954  0.749427\n",
       "row_1       0.698741  0.611024  0.106743  0.879385  0.813148\n",
       "row_2       0.110785  0.808916  0.918424  0.857874  0.508647\n",
       "row_3       0.957330  0.219612  0.526522  0.793173  0.349705\n",
       "row_4       0.922507  0.119300  0.139745  0.531060  0.076025\n",
       "row_5       0.881841  0.900386  0.556020  0.203753  0.723498\n",
       "row_6       0.848798  0.945725  0.505634  0.011348  0.901190\n",
       "row_7       0.667643  0.661719  0.318361  0.436380  0.901475\n",
       "row_8       0.870707  0.964000  0.704737  0.938505  0.308658\n",
       "row_9       0.897896  0.317778  0.151750  0.081481  0.065211"
      ]
     },
     "execution_count": 14,
     "metadata": {},
     "output_type": "execute_result"
    }
   ],
   "source": [
    "df.index = [\"row_{}\".format(i) for i in range(df.shape[0])]\n",
    "df.index.name = \"row_number\"\n",
    "df"
   ]
  },
  {
   "cell_type": "markdown",
   "metadata": {},
   "source": [
    "Now we can inspect some basic properties of the DataFrame"
   ]
  },
  {
   "cell_type": "code",
   "execution_count": 15,
   "metadata": {},
   "outputs": [
    {
     "name": "stdout",
     "output_type": "stream",
     "text": [
      "(10, 5)\n"
     ]
    }
   ],
   "source": [
    "print(df.shape)"
   ]
  },
  {
   "cell_type": "code",
   "execution_count": 16,
   "metadata": {},
   "outputs": [
    {
     "name": "stdout",
     "output_type": "stream",
     "text": [
      "Index(['col_0', 'col_1', 'col_2', 'col_3', 'col_4'], dtype='object')\n"
     ]
    }
   ],
   "source": [
    "print(df.columns)"
   ]
  },
  {
   "cell_type": "code",
   "execution_count": 17,
   "metadata": {},
   "outputs": [
    {
     "name": "stdout",
     "output_type": "stream",
     "text": [
      "Index(['row_0', 'row_1', 'row_2', 'row_3', 'row_4', 'row_5', 'row_6', 'row_7',\n",
      "       'row_8', 'row_9'],\n",
      "      dtype='object', name='row_number')\n"
     ]
    }
   ],
   "source": [
    "print(df.index)"
   ]
  },
  {
   "cell_type": "code",
   "execution_count": 18,
   "metadata": {},
   "outputs": [
    {
     "name": "stdout",
     "output_type": "stream",
     "text": [
      "col_0    float64\n",
      "col_1    float64\n",
      "col_2    float64\n",
      "col_3    float64\n",
      "col_4    float64\n",
      "dtype: object\n"
     ]
    }
   ],
   "source": [
    "print(df.dtypes)"
   ]
  },
  {
   "cell_type": "markdown",
   "metadata": {},
   "source": [
    "### DataFrame slicing and indexing"
   ]
  },
  {
   "cell_type": "code",
   "execution_count": 19,
   "metadata": {
    "tags": []
   },
   "outputs": [
    {
     "data": {
      "text/plain": [
       "row_number\n",
       "row_0    0.721870\n",
       "row_1    0.698741\n",
       "row_2    0.110785\n",
       "row_3    0.957330\n",
       "row_4    0.922507\n",
       "row_5    0.881841\n",
       "row_6    0.848798\n",
       "row_7    0.667643\n",
       "row_8    0.870707\n",
       "row_9    0.897896\n",
       "Name: col_0, dtype: float64"
      ]
     },
     "execution_count": 19,
     "metadata": {},
     "output_type": "execute_result"
    }
   ],
   "source": [
    "# Selecting particular columns is very easy\n",
    "df[\"col_0\"]"
   ]
  },
  {
   "cell_type": "code",
   "execution_count": 20,
   "metadata": {},
   "outputs": [
    {
     "data": {
      "text/plain": [
       "row_number\n",
       "row_0    0.721870\n",
       "row_1    0.698741\n",
       "row_2    0.110785\n",
       "row_3    0.957330\n",
       "row_4    0.922507\n",
       "row_5    0.881841\n",
       "row_6    0.848798\n",
       "row_7    0.667643\n",
       "row_8    0.870707\n",
       "row_9    0.897896\n",
       "Name: col_0, dtype: float64"
      ]
     },
     "execution_count": 20,
     "metadata": {},
     "output_type": "execute_result"
    }
   ],
   "source": [
    "# or we can do it this way\n",
    "df.col_0"
   ]
  },
  {
   "cell_type": "code",
   "execution_count": 21,
   "metadata": {},
   "outputs": [
    {
     "data": {
      "text/plain": [
       "pandas.core.series.Series"
      ]
     },
     "execution_count": 21,
     "metadata": {},
     "output_type": "execute_result"
    }
   ],
   "source": [
    "# DataFrame column is a Series\n",
    "type(df[\"col_0\"])"
   ]
  },
  {
   "cell_type": "code",
   "execution_count": 22,
   "metadata": {},
   "outputs": [
    {
     "data": {
      "text/html": [
       "<div>\n",
       "<style scoped>\n",
       "    .dataframe tbody tr th:only-of-type {\n",
       "        vertical-align: middle;\n",
       "    }\n",
       "\n",
       "    .dataframe tbody tr th {\n",
       "        vertical-align: top;\n",
       "    }\n",
       "\n",
       "    .dataframe thead th {\n",
       "        text-align: right;\n",
       "    }\n",
       "</style>\n",
       "<table border=\"1\" class=\"dataframe\">\n",
       "  <thead>\n",
       "    <tr style=\"text-align: right;\">\n",
       "      <th></th>\n",
       "      <th>col_0</th>\n",
       "      <th>col_1</th>\n",
       "    </tr>\n",
       "    <tr>\n",
       "      <th>row_number</th>\n",
       "      <th></th>\n",
       "      <th></th>\n",
       "    </tr>\n",
       "  </thead>\n",
       "  <tbody>\n",
       "    <tr>\n",
       "      <th>row_0</th>\n",
       "      <td>0.721870</td>\n",
       "      <td>0.111629</td>\n",
       "    </tr>\n",
       "    <tr>\n",
       "      <th>row_1</th>\n",
       "      <td>0.698741</td>\n",
       "      <td>0.611024</td>\n",
       "    </tr>\n",
       "    <tr>\n",
       "      <th>row_2</th>\n",
       "      <td>0.110785</td>\n",
       "      <td>0.808916</td>\n",
       "    </tr>\n",
       "    <tr>\n",
       "      <th>row_3</th>\n",
       "      <td>0.957330</td>\n",
       "      <td>0.219612</td>\n",
       "    </tr>\n",
       "    <tr>\n",
       "      <th>row_4</th>\n",
       "      <td>0.922507</td>\n",
       "      <td>0.119300</td>\n",
       "    </tr>\n",
       "    <tr>\n",
       "      <th>row_5</th>\n",
       "      <td>0.881841</td>\n",
       "      <td>0.900386</td>\n",
       "    </tr>\n",
       "    <tr>\n",
       "      <th>row_6</th>\n",
       "      <td>0.848798</td>\n",
       "      <td>0.945725</td>\n",
       "    </tr>\n",
       "    <tr>\n",
       "      <th>row_7</th>\n",
       "      <td>0.667643</td>\n",
       "      <td>0.661719</td>\n",
       "    </tr>\n",
       "    <tr>\n",
       "      <th>row_8</th>\n",
       "      <td>0.870707</td>\n",
       "      <td>0.964000</td>\n",
       "    </tr>\n",
       "    <tr>\n",
       "      <th>row_9</th>\n",
       "      <td>0.897896</td>\n",
       "      <td>0.317778</td>\n",
       "    </tr>\n",
       "  </tbody>\n",
       "</table>\n",
       "</div>"
      ],
      "text/plain": [
       "               col_0     col_1\n",
       "row_number                    \n",
       "row_0       0.721870  0.111629\n",
       "row_1       0.698741  0.611024\n",
       "row_2       0.110785  0.808916\n",
       "row_3       0.957330  0.219612\n",
       "row_4       0.922507  0.119300\n",
       "row_5       0.881841  0.900386\n",
       "row_6       0.848798  0.945725\n",
       "row_7       0.667643  0.661719\n",
       "row_8       0.870707  0.964000\n",
       "row_9       0.897896  0.317778"
      ]
     },
     "execution_count": 22,
     "metadata": {},
     "output_type": "execute_result"
    }
   ],
   "source": [
    "# We can also select a subset of columns by passing a list inside brackets\n",
    "df[[\"col_0\", \"col_1\"]]"
   ]
  },
  {
   "cell_type": "markdown",
   "metadata": {},
   "source": [
    "#### Location attribute"
   ]
  },
  {
   "cell_type": "code",
   "execution_count": 23,
   "metadata": {},
   "outputs": [
    {
     "data": {
      "text/plain": [
       "col_0    0.721870\n",
       "col_1    0.111629\n",
       "col_2    0.806451\n",
       "col_3    0.715954\n",
       "col_4    0.749427\n",
       "Name: row_0, dtype: float64"
      ]
     },
     "execution_count": 23,
     "metadata": {},
     "output_type": "execute_result"
    }
   ],
   "source": [
    "# To select a particular row we have to indicate its index in .loc attribute\n",
    "df.loc[\"row_0\"]"
   ]
  },
  {
   "cell_type": "code",
   "execution_count": 24,
   "metadata": {},
   "outputs": [
    {
     "data": {
      "text/html": [
       "<div>\n",
       "<style scoped>\n",
       "    .dataframe tbody tr th:only-of-type {\n",
       "        vertical-align: middle;\n",
       "    }\n",
       "\n",
       "    .dataframe tbody tr th {\n",
       "        vertical-align: top;\n",
       "    }\n",
       "\n",
       "    .dataframe thead th {\n",
       "        text-align: right;\n",
       "    }\n",
       "</style>\n",
       "<table border=\"1\" class=\"dataframe\">\n",
       "  <thead>\n",
       "    <tr style=\"text-align: right;\">\n",
       "      <th></th>\n",
       "      <th>col_0</th>\n",
       "      <th>col_1</th>\n",
       "      <th>col_2</th>\n",
       "      <th>col_3</th>\n",
       "      <th>col_4</th>\n",
       "    </tr>\n",
       "    <tr>\n",
       "      <th>row_number</th>\n",
       "      <th></th>\n",
       "      <th></th>\n",
       "      <th></th>\n",
       "      <th></th>\n",
       "      <th></th>\n",
       "    </tr>\n",
       "  </thead>\n",
       "  <tbody>\n",
       "    <tr>\n",
       "      <th>row_0</th>\n",
       "      <td>0.721870</td>\n",
       "      <td>0.111629</td>\n",
       "      <td>0.806451</td>\n",
       "      <td>0.715954</td>\n",
       "      <td>0.749427</td>\n",
       "    </tr>\n",
       "    <tr>\n",
       "      <th>row_1</th>\n",
       "      <td>0.698741</td>\n",
       "      <td>0.611024</td>\n",
       "      <td>0.106743</td>\n",
       "      <td>0.879385</td>\n",
       "      <td>0.813148</td>\n",
       "    </tr>\n",
       "  </tbody>\n",
       "</table>\n",
       "</div>"
      ],
      "text/plain": [
       "               col_0     col_1     col_2     col_3     col_4\n",
       "row_number                                                  \n",
       "row_0       0.721870  0.111629  0.806451  0.715954  0.749427\n",
       "row_1       0.698741  0.611024  0.106743  0.879385  0.813148"
      ]
     },
     "execution_count": 24,
     "metadata": {},
     "output_type": "execute_result"
    }
   ],
   "source": [
    "# We can of course select a subset of rows\n",
    "df.loc[[\"row_0\", \"row_1\"]]"
   ]
  },
  {
   "cell_type": "code",
   "execution_count": 25,
   "metadata": {},
   "outputs": [
    {
     "data": {
      "text/html": [
       "<div>\n",
       "<style scoped>\n",
       "    .dataframe tbody tr th:only-of-type {\n",
       "        vertical-align: middle;\n",
       "    }\n",
       "\n",
       "    .dataframe tbody tr th {\n",
       "        vertical-align: top;\n",
       "    }\n",
       "\n",
       "    .dataframe thead th {\n",
       "        text-align: right;\n",
       "    }\n",
       "</style>\n",
       "<table border=\"1\" class=\"dataframe\">\n",
       "  <thead>\n",
       "    <tr style=\"text-align: right;\">\n",
       "      <th></th>\n",
       "      <th>col_1</th>\n",
       "      <th>col_2</th>\n",
       "    </tr>\n",
       "    <tr>\n",
       "      <th>row_number</th>\n",
       "      <th></th>\n",
       "      <th></th>\n",
       "    </tr>\n",
       "  </thead>\n",
       "  <tbody>\n",
       "    <tr>\n",
       "      <th>row_0</th>\n",
       "      <td>0.111629</td>\n",
       "      <td>0.806451</td>\n",
       "    </tr>\n",
       "    <tr>\n",
       "      <th>row_1</th>\n",
       "      <td>0.611024</td>\n",
       "      <td>0.106743</td>\n",
       "    </tr>\n",
       "  </tbody>\n",
       "</table>\n",
       "</div>"
      ],
      "text/plain": [
       "               col_1     col_2\n",
       "row_number                    \n",
       "row_0       0.111629  0.806451\n",
       "row_1       0.611024  0.106743"
      ]
     },
     "execution_count": 25,
     "metadata": {},
     "output_type": "execute_result"
    }
   ],
   "source": [
    "# The above is a Data Frame, so we can access its columns\n",
    "df.loc[[\"row_0\", \"row_1\"]][[\"col_1\", \"col_2\"]]"
   ]
  },
  {
   "cell_type": "code",
   "execution_count": 26,
   "metadata": {},
   "outputs": [
    {
     "data": {
      "text/html": [
       "<div>\n",
       "<style scoped>\n",
       "    .dataframe tbody tr th:only-of-type {\n",
       "        vertical-align: middle;\n",
       "    }\n",
       "\n",
       "    .dataframe tbody tr th {\n",
       "        vertical-align: top;\n",
       "    }\n",
       "\n",
       "    .dataframe thead th {\n",
       "        text-align: right;\n",
       "    }\n",
       "</style>\n",
       "<table border=\"1\" class=\"dataframe\">\n",
       "  <thead>\n",
       "    <tr style=\"text-align: right;\">\n",
       "      <th></th>\n",
       "      <th>col_1</th>\n",
       "      <th>col_2</th>\n",
       "    </tr>\n",
       "    <tr>\n",
       "      <th>row_number</th>\n",
       "      <th></th>\n",
       "      <th></th>\n",
       "    </tr>\n",
       "  </thead>\n",
       "  <tbody>\n",
       "    <tr>\n",
       "      <th>row_0</th>\n",
       "      <td>0.111629</td>\n",
       "      <td>0.806451</td>\n",
       "    </tr>\n",
       "    <tr>\n",
       "      <th>row_1</th>\n",
       "      <td>0.611024</td>\n",
       "      <td>0.106743</td>\n",
       "    </tr>\n",
       "  </tbody>\n",
       "</table>\n",
       "</div>"
      ],
      "text/plain": [
       "               col_1     col_2\n",
       "row_number                    \n",
       "row_0       0.111629  0.806451\n",
       "row_1       0.611024  0.106743"
      ]
     },
     "execution_count": 26,
     "metadata": {},
     "output_type": "execute_result"
    }
   ],
   "source": [
    "# or we can access to this subframe directly\n",
    "df.loc[[\"row_0\", \"row_1\"], [\"col_1\", \"col_2\"]]"
   ]
  },
  {
   "cell_type": "code",
   "execution_count": 27,
   "metadata": {},
   "outputs": [
    {
     "name": "stdout",
     "output_type": "stream",
     "text": [
      "Type of selected single row: <class 'pandas.core.series.Series'>\n"
     ]
    },
    {
     "data": {
      "text/plain": [
       "0.7159541656552846"
      ]
     },
     "execution_count": 27,
     "metadata": {},
     "output_type": "execute_result"
    }
   ],
   "source": [
    "# To access selected item of a Series we have to specify index of the item\n",
    "print(\"Type of selected single row: {}\".format(type(df.loc[\"row_0\"])))\n",
    "df.loc[\"row_0\"][\"col_3\"]"
   ]
  },
  {
   "cell_type": "code",
   "execution_count": 28,
   "metadata": {},
   "outputs": [
    {
     "data": {
      "text/plain": [
       "0.7159541656552846"
      ]
     },
     "execution_count": 28,
     "metadata": {},
     "output_type": "execute_result"
    }
   ],
   "source": [
    "# or do it directly\n",
    "df.loc[\"row_0\", \"col_3\"]"
   ]
  },
  {
   "cell_type": "markdown",
   "metadata": {},
   "source": [
    "Whereas `.loc` is used to access rows with their indices, `.iloc` is used to access rows with its position."
   ]
  },
  {
   "cell_type": "code",
   "execution_count": null,
   "metadata": {},
   "outputs": [],
   "source": [
    "df.iloc[0]"
   ]
  },
  {
   "cell_type": "code",
   "execution_count": null,
   "metadata": {},
   "outputs": [],
   "source": [
    "df.iloc[0][\"col_3\"]"
   ]
  },
  {
   "cell_type": "code",
   "execution_count": null,
   "metadata": {},
   "outputs": [],
   "source": [
    "df.iloc[0, 3]"
   ]
  },
  {
   "cell_type": "markdown",
   "metadata": {},
   "source": [
    "Similarly to NumPy, you can get slices with a colon `:`"
   ]
  },
  {
   "cell_type": "code",
   "execution_count": null,
   "metadata": {},
   "outputs": [],
   "source": [
    "df.loc[:\"row_3\", \"col_2\":\"col_4\"]"
   ]
  },
  {
   "cell_type": "markdown",
   "metadata": {},
   "source": [
    "But be careful! While selecting with .loc __both__ endpoints of the slices are __included__ in slices! Unlike selecting with .iloc"
   ]
  },
  {
   "cell_type": "code",
   "execution_count": null,
   "metadata": {},
   "outputs": [],
   "source": [
    "# 'row_3' is a third row, while accessed with .loc it was included, with .iloc it's not\n",
    "# similarly for 'col_4'\n",
    "df.iloc[:3, 2:4]"
   ]
  },
  {
   "cell_type": "markdown",
   "metadata": {},
   "source": [
    "Now the tricky part:"
   ]
  },
  {
   "cell_type": "code",
   "execution_count": null,
   "metadata": {},
   "outputs": [],
   "source": [
    "# This is a particular column\n",
    "df[\"col_3\"]"
   ]
  },
  {
   "cell_type": "code",
   "execution_count": null,
   "metadata": {},
   "outputs": [],
   "source": [
    "# This of course doesn't work, because there is no such columns as 3\n",
    "df[3]"
   ]
  },
  {
   "cell_type": "code",
   "execution_count": null,
   "metadata": {},
   "outputs": [],
   "source": [
    "# But this one works, and takes first three ROWS\n",
    "df[:3]"
   ]
  },
  {
   "cell_type": "code",
   "execution_count": null,
   "metadata": {},
   "outputs": [],
   "source": [
    "# You can achieve the same result with iloc\n",
    "df.iloc[:3, :]"
   ]
  },
  {
   "cell_type": "markdown",
   "metadata": {},
   "source": [
    "A faster way to get a scalar value:"
   ]
  },
  {
   "cell_type": "code",
   "execution_count": null,
   "metadata": {},
   "outputs": [],
   "source": [
    "# With rows and columns names\n",
    "df.at[\"row_3\", \"col_1\"]"
   ]
  },
  {
   "cell_type": "code",
   "execution_count": null,
   "metadata": {},
   "outputs": [],
   "source": [
    "# Or with its position\n",
    "df.iat[3, 1]"
   ]
  },
  {
   "cell_type": "code",
   "execution_count": null,
   "metadata": {},
   "outputs": [],
   "source": [
    "# but this doesn't work, because you must select a scalar\n",
    "df.at[\"row_3\"]"
   ]
  },
  {
   "cell_type": "code",
   "execution_count": null,
   "metadata": {},
   "outputs": [],
   "source": [
    "# nor this one. Again: you can access only scalar values\n",
    "df.at[:\"row_3\", \"col_3\"]"
   ]
  },
  {
   "cell_type": "markdown",
   "metadata": {},
   "source": [
    "There are also some nice methods to sort data"
   ]
  },
  {
   "cell_type": "code",
   "execution_count": null,
   "metadata": {},
   "outputs": [],
   "source": [
    "# By default it sorts rows\n",
    "df.sort_index(ascending=False)"
   ]
  },
  {
   "cell_type": "code",
   "execution_count": null,
   "metadata": {},
   "outputs": [],
   "source": [
    "# But it can sort columns\n",
    "df.sort_index(axis=1, ascending=False)"
   ]
  },
  {
   "cell_type": "code",
   "execution_count": null,
   "metadata": {},
   "outputs": [],
   "source": [
    "# And it can sort rows by a column value\n",
    "df.sort_values(by=\"col_2\")"
   ]
  }
 ],
 "metadata": {
  "kernelspec": {
   "display_name": "Python 3 (ipykernel)",
   "language": "python",
   "name": "python3"
  },
  "language_info": {
   "codemirror_mode": {
    "name": "ipython",
    "version": 3
   },
   "file_extension": ".py",
   "mimetype": "text/x-python",
   "name": "python",
   "nbconvert_exporter": "python",
   "pygments_lexer": "ipython3",
   "version": "3.10.6"
  }
 },
 "nbformat": 4,
 "nbformat_minor": 4
}
