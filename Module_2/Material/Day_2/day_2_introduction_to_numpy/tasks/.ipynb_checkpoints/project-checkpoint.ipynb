{
 "cells": [
  {
   "cell_type": "markdown",
   "metadata": {},
   "source": [
    "## Project"
   ]
  },
  {
   "cell_type": "markdown",
   "metadata": {},
   "source": [
    "Write a function that takes image and kernel as numpy arrays, and computes the convolution between them without the use of any other 3-rd party Python modules. You can find [here](https://en.wikipedia.org/wiki/Kernel_(image_processing)) the description of the convolution algorithm and the kernel. Your function should provide support for image edge handling. Use this gaussian blur kernel to verify your results:\n",
    "<br><img src=\"./kernel.png\" alt=\"Drawing\" width=\"600\"/></br>"
   ]
  },
  {
   "cell_type": "markdown",
   "metadata": {},
   "source": [
    "Output image should look like this:\n",
    "<br><img src=\"./example.png\" alt=\"Drawing\" width=\"600\"/></br>"
   ]
  },
  {
   "cell_type": "code",
   "execution_count": 15,
   "metadata": {},
   "outputs": [],
   "source": [
    "import numpy as np\n",
    "from PIL import Image as im\n",
    "import matplotlib.image as image\n"
   ]
  },
  {
   "cell_type": "code",
   "execution_count": null,
   "metadata": {},
   "outputs": [],
   "source": [
    "img=image.imread('example.png')\n",
    "print('The Shape of the image is:',img.shape)\n",
    "print('The image as array is:')\n",
    "mat_arr = img * 2"
   ]
  },
  {
   "cell_type": "code",
   "execution_count": 19,
   "metadata": {},
   "outputs": [
    {
     "name": "stdout",
     "output_type": "stream",
     "text": [
      "0.00390625\n",
      "[[ 1  4  6  4  1]\n",
      " [ 4 16 24 16  4]\n",
      " [ 6 24 36 24  6]\n",
      " [ 4 16 24 16  4]\n",
      " [ 1  4  6  4  1]]\n",
      "[[0.00390625 0.015625   0.0234375  0.015625   0.00390625]\n",
      " [0.015625   0.0625     0.09375    0.0625     0.015625  ]\n",
      " [0.0234375  0.09375    0.140625   0.09375    0.0234375 ]\n",
      " [0.015625   0.0625     0.09375    0.0625     0.015625  ]\n",
      " [0.00390625 0.015625   0.0234375  0.015625   0.00390625]]\n"
     ]
    }
   ],
   "source": [
    "kernal = 1/256\n",
    "print(kernal)\n",
    "image = np.array([[1,4,6,4,1],[4,16,24,16,4],[6,24,36,24,6],[4,16,24,16,4],[1,4,6,4,1]])\n",
    "print(image)\n",
    "conv = kernal* image\n",
    "\n",
    "print(conv)\n",
    "data = im.fromarray(conv)\n",
    "data.show()"
   ]
  },
  {
   "cell_type": "raw",
   "metadata": {},
   "source": [
    "import numpy as np\n",
    "kernal = 1/256\n",
    "print(kernal)\n",
    "image = np.array([[1,4,6,4,1],[4,16,24,16,4],[6,24,36,24,6],[4,16,24,16,4],[1,4,6,4,1]])\n",
    "print(image)\n",
    "conv = kernal* image\n",
    "\n",
    "print(conv)"
   ]
  }
 ],
 "metadata": {
  "kernelspec": {
   "display_name": "Python 3 (ipykernel)",
   "language": "python",
   "name": "python3"
  },
  "language_info": {
   "codemirror_mode": {
    "name": "ipython",
    "version": 3
   },
   "file_extension": ".py",
   "mimetype": "text/x-python",
   "name": "python",
   "nbconvert_exporter": "python",
   "pygments_lexer": "ipython3",
   "version": "3.10.6"
  }
 },
 "nbformat": 4,
 "nbformat_minor": 4
}
