{
 "cells": [
  {
   "cell_type": "markdown",
   "metadata": {},
   "source": [
    "## Project"
   ]
  },
  {
   "cell_type": "markdown",
   "metadata": {},
   "source": [
    "Write a function that takes image and kernel as numpy arrays, and computes the convolution between them without the use of any other 3-rd party Python modules. You can find [here](https://en.wikipedia.org/wiki/Kernel_(image_processing)) the description of the convolution algorithm and the kernel. Your function should provide support for image edge handling. Use this gaussian blur kernel to verify your results:\n",
    "<br><img src=\"./kernel.png\" alt=\"Drawing\" width=\"600\"/></br>"
   ]
  },
  {
   "cell_type": "markdown",
   "metadata": {},
   "source": [
    "Output image should look like this:\n",
    "<br><img src=\"./example.png\" alt=\"Drawing\" width=\"600\"/></br>"
   ]
  },
  {
   "cell_type": "code",
   "execution_count": 31,
   "metadata": {},
   "outputs": [],
   "source": [
    "import numpy as np\n",
    "from PIL import Image as im\n",
    "import matplotlib.image as image\n",
    "from numpy import asarray"
   ]
  },
  {
   "cell_type": "code",
   "execution_count": 25,
   "metadata": {},
   "outputs": [
    {
     "name": "stdout",
     "output_type": "stream",
     "text": [
      "The Shape of the image is: (200, 596, 4)\n",
      "The image as array is:\n",
      "[[[0.9411765 0.9411765 0.9411765 2.       ]\n",
      "  [1.2862746 1.2862746 1.2862746 2.       ]\n",
      "  [1.372549  1.372549  1.372549  2.       ]\n",
      "  ...\n",
      "  [1.372549  1.372549  1.372549  2.       ]\n",
      "  [1.2862746 1.2862746 1.2862746 2.       ]\n",
      "  [0.9411765 0.9411765 0.9411765 2.       ]]\n",
      "\n",
      " [[1.2862746 1.2862746 1.2862746 2.       ]\n",
      "  [1.7568628 1.7568628 1.7568628 2.       ]\n",
      "  [1.8745098 1.8745098 1.8745098 2.       ]\n",
      "  ...\n",
      "  [1.8745098 1.8745098 1.8745098 2.       ]\n",
      "  [1.7568628 1.7568628 1.7568628 2.       ]\n",
      "  [1.2862746 1.2862746 1.2862746 2.       ]]\n",
      "\n",
      " [[1.372549  1.372549  1.372549  2.       ]\n",
      "  [1.8745098 1.8745098 1.8745098 2.       ]\n",
      "  [2.        2.        2.        2.       ]\n",
      "  ...\n",
      "  [2.        2.        2.        2.       ]\n",
      "  [1.8745098 1.8745098 1.8745098 2.       ]\n",
      "  [1.372549  1.372549  1.372549  2.       ]]\n",
      "\n",
      " ...\n",
      "\n",
      " [[1.372549  1.372549  1.372549  2.       ]\n",
      "  [1.8745098 1.8745098 1.8745098 2.       ]\n",
      "  [2.        2.        2.        2.       ]\n",
      "  ...\n",
      "  [2.        2.        2.        2.       ]\n",
      "  [1.8745098 1.8745098 1.8745098 2.       ]\n",
      "  [1.372549  1.372549  1.372549  2.       ]]\n",
      "\n",
      " [[1.2862746 1.2862746 1.2862746 2.       ]\n",
      "  [1.7568628 1.7568628 1.7568628 2.       ]\n",
      "  [1.8745098 1.8745098 1.8745098 2.       ]\n",
      "  ...\n",
      "  [1.8745098 1.8745098 1.8745098 2.       ]\n",
      "  [1.7568628 1.7568628 1.7568628 2.       ]\n",
      "  [1.2862746 1.2862746 1.2862746 2.       ]]\n",
      "\n",
      " [[0.9411765 0.9411765 0.9411765 2.       ]\n",
      "  [1.2862746 1.2862746 1.2862746 2.       ]\n",
      "  [1.372549  1.372549  1.372549  2.       ]\n",
      "  ...\n",
      "  [1.372549  1.372549  1.372549  2.       ]\n",
      "  [1.2862746 1.2862746 1.2862746 2.       ]\n",
      "  [0.9411765 0.9411765 0.9411765 2.       ]]]\n"
     ]
    }
   ],
   "source": [
    "img=image.imread('example.png')\n",
    "print('The Shape of the image is:',img.shape)\n",
    "print('The image as array is:')\n",
    "mat_arr = img * 2\n",
    "print(mat_arr)"
   ]
  },
  {
   "cell_type": "code",
   "execution_count": 34,
   "metadata": {},
   "outputs": [
    {
     "ename": "SyntaxError",
     "evalue": "invalid decimal literal (2200195452.py, line 8)",
     "output_type": "error",
     "traceback": [
      "\u001b[0;36m  Cell \u001b[0;32mIn[34], line 8\u001b[0;36m\u001b[0m\n\u001b[0;31m    print(n_data *2.shape)\u001b[0m\n\u001b[0m                   ^\u001b[0m\n\u001b[0;31mSyntaxError\u001b[0m\u001b[0;31m:\u001b[0m invalid decimal literal\n"
     ]
    },
    {
     "name": "stderr",
     "output_type": "stream",
     "text": [
      "\n",
      "(eog:14132): Gtk-WARNING **: 18:41:49.845: Negative content width -6 (allocation 18, extents 12x12) while allocating gadget (node label, owner GtkLabel)\n"
     ]
    }
   ],
   "source": [
    "n_data = asarray(img)\n",
    " \n",
    "# <class 'numpy.ndarray'>\n",
    "print(type(numpydata))\n",
    " \n",
    "#  shape\n",
    "print(n_data.shape)"
   ]
  },
  {
   "cell_type": "code",
   "execution_count": 28,
   "metadata": {},
   "outputs": [
    {
     "ename": "TypeError",
     "evalue": "Cannot handle this data type: (1, 1, 4), <f4",
     "output_type": "error",
     "traceback": [
      "\u001b[0;31m---------------------------------------------------------------------------\u001b[0m",
      "\u001b[0;31mKeyError\u001b[0m                                  Traceback (most recent call last)",
      "File \u001b[0;32m/usr/lib/python3/dist-packages/PIL/Image.py:2813\u001b[0m, in \u001b[0;36mfromarray\u001b[0;34m(obj, mode)\u001b[0m\n\u001b[1;32m   2812\u001b[0m \u001b[38;5;28;01mtry\u001b[39;00m:\n\u001b[0;32m-> 2813\u001b[0m     mode, rawmode \u001b[38;5;241m=\u001b[39m \u001b[43m_fromarray_typemap\u001b[49m\u001b[43m[\u001b[49m\u001b[43mtypekey\u001b[49m\u001b[43m]\u001b[49m\n\u001b[1;32m   2814\u001b[0m \u001b[38;5;28;01mexcept\u001b[39;00m \u001b[38;5;167;01mKeyError\u001b[39;00m \u001b[38;5;28;01mas\u001b[39;00m e:\n",
      "\u001b[0;31mKeyError\u001b[0m: ((1, 1, 4), '<f4')",
      "\nThe above exception was the direct cause of the following exception:\n",
      "\u001b[0;31mTypeError\u001b[0m                                 Traceback (most recent call last)",
      "Cell \u001b[0;32mIn[28], line 7\u001b[0m\n\u001b[1;32m      1\u001b[0m \u001b[38;5;66;03m# kernal = 1/256\u001b[39;00m\n\u001b[1;32m      2\u001b[0m \u001b[38;5;66;03m# print(kernal)\u001b[39;00m\n\u001b[1;32m      3\u001b[0m \u001b[38;5;66;03m# image = np.array([[1,4,6,4,1],[4,16,24,16,4],[6,24,36,24,6],[4,16,24,16,4],[1,4,6,4,1]])\u001b[39;00m\n\u001b[1;32m      4\u001b[0m \u001b[38;5;66;03m# print(image)\u001b[39;00m\n\u001b[1;32m      5\u001b[0m \u001b[38;5;66;03m# conv = kernal* image\u001b[39;00m\n\u001b[0;32m----> 7\u001b[0m data \u001b[38;5;241m=\u001b[39m \u001b[43mim\u001b[49m\u001b[38;5;241;43m.\u001b[39;49m\u001b[43mfromarray\u001b[49m\u001b[43m(\u001b[49m\u001b[43mimg\u001b[49m\u001b[43m)\u001b[49m\n\u001b[1;32m      8\u001b[0m data\u001b[38;5;241m.\u001b[39mshow()\n",
      "File \u001b[0;32m/usr/lib/python3/dist-packages/PIL/Image.py:2815\u001b[0m, in \u001b[0;36mfromarray\u001b[0;34m(obj, mode)\u001b[0m\n\u001b[1;32m   2813\u001b[0m         mode, rawmode \u001b[38;5;241m=\u001b[39m _fromarray_typemap[typekey]\n\u001b[1;32m   2814\u001b[0m     \u001b[38;5;28;01mexcept\u001b[39;00m \u001b[38;5;167;01mKeyError\u001b[39;00m \u001b[38;5;28;01mas\u001b[39;00m e:\n\u001b[0;32m-> 2815\u001b[0m         \u001b[38;5;28;01mraise\u001b[39;00m \u001b[38;5;167;01mTypeError\u001b[39;00m(\u001b[38;5;124m\"\u001b[39m\u001b[38;5;124mCannot handle this data type: \u001b[39m\u001b[38;5;132;01m%s\u001b[39;00m\u001b[38;5;124m, \u001b[39m\u001b[38;5;132;01m%s\u001b[39;00m\u001b[38;5;124m\"\u001b[39m \u001b[38;5;241m%\u001b[39m typekey) \u001b[38;5;28;01mfrom\u001b[39;00m \u001b[38;5;21;01me\u001b[39;00m\n\u001b[1;32m   2816\u001b[0m \u001b[38;5;28;01melse\u001b[39;00m:\n\u001b[1;32m   2817\u001b[0m     rawmode \u001b[38;5;241m=\u001b[39m mode\n",
      "\u001b[0;31mTypeError\u001b[0m: Cannot handle this data type: (1, 1, 4), <f4"
     ]
    }
   ],
   "source": [
    "# kernal = 1/256\n",
    "# print(kernal)\n",
    "# image = np.array([[1,4,6,4,1],[4,16,24,16,4],[6,24,36,24,6],[4,16,24,16,4],[1,4,6,4,1]])\n",
    "# print(image)\n",
    "# conv = kernal* image\n",
    "\n",
    "data = im.fromarray(img)\n",
    "data.show()"
   ]
  },
  {
   "cell_type": "raw",
   "metadata": {},
   "source": [
    "import numpy as np\n",
    "kernal = 1/256\n",
    "print(kernal)\n",
    "image = np.array([[1,4,6,4,1],[4,16,24,16,4],[6,24,36,24,6],[4,16,24,16,4],[1,4,6,4,1]])\n",
    "print(image)\n",
    "conv = kernal* image\n",
    "\n",
    "print(conv)"
   ]
  }
 ],
 "metadata": {
  "kernelspec": {
   "display_name": "Python 3 (ipykernel)",
   "language": "python",
   "name": "python3"
  },
  "language_info": {
   "codemirror_mode": {
    "name": "ipython",
    "version": 3
   },
   "file_extension": ".py",
   "mimetype": "text/x-python",
   "name": "python",
   "nbconvert_exporter": "python",
   "pygments_lexer": "ipython3",
   "version": "3.10.6"
  }
 },
 "nbformat": 4,
 "nbformat_minor": 4
}
