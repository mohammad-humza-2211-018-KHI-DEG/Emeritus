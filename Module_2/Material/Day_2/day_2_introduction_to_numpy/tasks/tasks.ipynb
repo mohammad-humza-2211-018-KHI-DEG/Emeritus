{
 "cells": [
  {
   "cell_type": "markdown",
   "metadata": {},
   "source": [
    "## Exercises"
   ]
  },
  {
   "cell_type": "markdown",
   "metadata": {},
   "source": [
    "<b>Remember that if you run into any problems, it's a good habit to refer to NumPy documentation.</b>"
   ]
  },
  {
   "cell_type": "markdown",
   "metadata": {},
   "source": [
    "1. Create array with values [1, 0, 2, 4, 0, 0, 7], reverse it and find indices of zero-valued elements."
   ]
  },
  {
   "cell_type": "code",
   "execution_count": 95,
   "metadata": {},
   "outputs": [
    {
     "name": "stdout",
     "output_type": "stream",
     "text": [
      "[7 0 0 4 2 0 1]\n"
     ]
    },
    {
     "data": {
      "text/plain": [
       "(array([1, 2, 5]),)"
      ]
     },
     "execution_count": 95,
     "metadata": {},
     "output_type": "execute_result"
    }
   ],
   "source": [
    "import numpy as np\n",
    "np_arr= np.array([1,0,2,4,0,0,7])\n",
    "np_arr= np_arr[::-1]\n",
    "print(np_arr)\n",
    "np.nonzero(np_arr == 0)"
   ]
  },
  {
   "cell_type": "markdown",
   "metadata": {},
   "source": [
    "2. Use previously created array, and find 3 highest and lowest values, and their indices."
   ]
  },
  {
   "cell_type": "code",
   "execution_count": 101,
   "metadata": {},
   "outputs": [
    {
     "name": "stdout",
     "output_type": "stream",
     "text": [
      "Unsorted [7 0 0 4 2 0 1]\n",
      "Sorted: [0 0 0 1 2 4 7]\n",
      "Min Value: [0 0 0]\n",
      "Min Value Index: [0 0 0]\n",
      "Max Value: [2 4 7]\n",
      "Max Value Index: [4 3 0]\n"
     ]
    }
   ],
   "source": [
    "print(f\"Unsorted {np_arr}\")\n",
    "np_min = np.array(min(np_arr))\n",
    "max_arr =np_arr.argsort()[-3:]\n",
    "np_sort =np.sort(np_arr, axis=0)\n",
    "print(f\"Sorted: {np_sort}\")\n",
    "print(f\"Min Value: {np_sort[:3]}\")\n",
    "print(f\"Min Value Index: {np_sort[:3]}\")\n",
    "print(f\"Max Value: {np_sort[-3:]}\")\n",
    "print(f\"Max Value Index: {max_arr}\")"
   ]
  },
  {
   "cell_type": "markdown",
   "metadata": {},
   "source": [
    "3. Create two random arrays and calculate euclidean distance between them."
   ]
  },
  {
   "cell_type": "code",
   "execution_count": null,
   "metadata": {},
   "outputs": [],
   "source": []
  },
  {
   "cell_type": "markdown",
   "metadata": {},
   "source": [
    "4. Try to obtain element-wise sum and element-wise multiplication of `x` and `y` using pure Python only."
   ]
  },
  {
   "cell_type": "code",
   "execution_count": null,
   "metadata": {},
   "outputs": [],
   "source": []
  },
  {
   "cell_type": "markdown",
   "metadata": {},
   "source": [
    "5. Perform previous task using NumPy and compare the times of execution."
   ]
  },
  {
   "cell_type": "code",
   "execution_count": null,
   "metadata": {},
   "outputs": [],
   "source": []
  },
  {
   "cell_type": "markdown",
   "metadata": {},
   "source": [
    "6. Create two random arrays of size 3x4. To each of the arrays, add a row containing a maximum value in each column and then add a column containing a minimum value in each row. You should obtain two 4x5 matrices. Then concatenate them along last dimension. In the end add a row containing sum of values of each column and then add a column containing sum of values in each row."
   ]
  },
  {
   "cell_type": "code",
   "execution_count": null,
   "metadata": {},
   "outputs": [],
   "source": []
  },
  {
   "cell_type": "markdown",
   "metadata": {},
   "source": [
    "7. Create function, that can calculate cartesian product between two arrays."
   ]
  },
  {
   "cell_type": "code",
   "execution_count": null,
   "metadata": {},
   "outputs": [],
   "source": []
  },
  {
   "cell_type": "code",
   "execution_count": 50,
   "metadata": {},
   "outputs": [
    {
     "name": "stdout",
     "output_type": "stream",
     "text": [
      "22 apple\n",
      "55 mango\n",
      "33 banana\n",
      "88 orange\n"
     ]
    }
   ],
   "source": [
    "a=[\"apple\", \"mango\", \"banana\",\"orange\"]\n",
    "b = [22,55,33,88]\n",
    "\n",
    "for x,y in zip(b,a):\n",
    "    print(x,y)\n",
    "\n",
    "# for i in range(0,len(a)):\n",
    "#     print(i)\n",
    "# for x in a:\n",
    "#     print(x)\n",
    "    \n",
    "# for i,x in enumerate(a):\n",
    "#     print(i,x)\n",
    "\n"
   ]
  }
 ],
 "metadata": {
  "kernelspec": {
   "display_name": "Python 3 (ipykernel)",
   "language": "python",
   "name": "python3"
  },
  "language_info": {
   "codemirror_mode": {
    "name": "ipython",
    "version": 3
   },
   "file_extension": ".py",
   "mimetype": "text/x-python",
   "name": "python",
   "nbconvert_exporter": "python",
   "pygments_lexer": "ipython3",
   "version": "3.10.6"
  }
 },
 "nbformat": 4,
 "nbformat_minor": 4
}
