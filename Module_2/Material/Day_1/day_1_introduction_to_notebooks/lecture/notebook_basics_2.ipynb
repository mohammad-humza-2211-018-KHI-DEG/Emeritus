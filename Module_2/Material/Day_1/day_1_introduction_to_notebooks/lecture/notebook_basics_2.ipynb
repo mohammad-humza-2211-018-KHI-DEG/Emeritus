{
 "cells": [
  {
   "cell_type": "markdown",
   "id": "329c3450",
   "metadata": {
    "tags": []
   },
   "source": [
    "<h1 class=section> Extensibility and reusability of ipynb files </h1>"
   ]
  },
  {
   "cell_type": "markdown",
   "id": "4a79b741",
   "metadata": {
    "tags": []
   },
   "source": [
    "<h1 class=subsection> Import standard python module </h1>"
   ]
  },
  {
   "cell_type": "code",
   "execution_count": 1,
   "id": "e77a6565-d253-4bd0-8416-832011715987",
   "metadata": {},
   "outputs": [
    {
     "data": {
      "text/plain": [
       "array([2, 6])"
      ]
     },
     "execution_count": 1,
     "metadata": {},
     "output_type": "execute_result"
    }
   ],
   "source": [
    "# Before executing this cell open file ./auxiliary/utils.py!\n",
    "import numpy as np\n",
    "\n",
    "# A standard python module can be imported into ipynb file via\n",
    "from auxiliary.utils import add\n",
    "\n",
    "a = np.array([1, 2])\n",
    "b = np.array([1, 4])\n",
    "# What is the result of\n",
    "add(a, b)"
   ]
  },
  {
   "cell_type": "markdown",
   "id": "8684d5a0",
   "metadata": {},
   "source": [
    "<h1 class=subsection>  Import ipynb file </h1>"
   ]
  },
  {
   "cell_type": "code",
   "execution_count": 2,
   "id": "e8fe5079",
   "metadata": {},
   "outputs": [
    {
     "name": "stdout",
     "output_type": "stream",
     "text": [
      "Defaulting to user installation because normal site-packages is not writeable\n",
      "Collecting import-ipynb\n",
      "  Downloading import_ipynb-0.1.4-py3-none-any.whl (4.1 kB)\n",
      "Requirement already satisfied: IPython in /home/muhammadhumza/.local/lib/python3.10/site-packages (from import-ipynb) (8.7.0)\n",
      "Requirement already satisfied: nbformat in /home/muhammadhumza/.local/lib/python3.10/site-packages (from import-ipynb) (5.7.0)\n",
      "Requirement already satisfied: pygments>=2.4.0 in /home/muhammadhumza/.local/lib/python3.10/site-packages (from IPython->import-ipynb) (2.13.0)\n",
      "Requirement already satisfied: pickleshare in /home/muhammadhumza/.local/lib/python3.10/site-packages (from IPython->import-ipynb) (0.7.5)\n",
      "Requirement already satisfied: backcall in /home/muhammadhumza/.local/lib/python3.10/site-packages (from IPython->import-ipynb) (0.2.0)\n",
      "Requirement already satisfied: pexpect>4.3 in /usr/lib/python3/dist-packages (from IPython->import-ipynb) (4.8.0)\n",
      "Requirement already satisfied: prompt-toolkit<3.1.0,>=3.0.11 in /home/muhammadhumza/.local/lib/python3.10/site-packages (from IPython->import-ipynb) (3.0.33)\n",
      "Requirement already satisfied: matplotlib-inline in /home/muhammadhumza/.local/lib/python3.10/site-packages (from IPython->import-ipynb) (0.1.6)\n",
      "Requirement already satisfied: decorator in /home/muhammadhumza/.local/lib/python3.10/site-packages (from IPython->import-ipynb) (5.1.1)\n",
      "Requirement already satisfied: traitlets>=5 in /home/muhammadhumza/.local/lib/python3.10/site-packages (from IPython->import-ipynb) (5.6.0)\n",
      "Requirement already satisfied: jedi>=0.16 in /home/muhammadhumza/.local/lib/python3.10/site-packages (from IPython->import-ipynb) (0.18.2)\n",
      "Requirement already satisfied: stack-data in /home/muhammadhumza/.local/lib/python3.10/site-packages (from IPython->import-ipynb) (0.6.2)\n",
      "Requirement already satisfied: jupyter-core in /home/muhammadhumza/.local/lib/python3.10/site-packages (from nbformat->import-ipynb) (5.1.0)\n",
      "Requirement already satisfied: jsonschema>=2.6 in /home/muhammadhumza/.local/lib/python3.10/site-packages (from nbformat->import-ipynb) (4.17.3)\n",
      "Requirement already satisfied: fastjsonschema in /home/muhammadhumza/.local/lib/python3.10/site-packages (from nbformat->import-ipynb) (2.16.2)\n",
      "Requirement already satisfied: parso<0.9.0,>=0.8.0 in /home/muhammadhumza/.local/lib/python3.10/site-packages (from jedi>=0.16->IPython->import-ipynb) (0.8.3)\n",
      "Requirement already satisfied: attrs>=17.4.0 in /home/muhammadhumza/.local/lib/python3.10/site-packages (from jsonschema>=2.6->nbformat->import-ipynb) (22.1.0)\n",
      "Requirement already satisfied: pyrsistent!=0.17.0,!=0.17.1,!=0.17.2,>=0.14.0 in /home/muhammadhumza/.local/lib/python3.10/site-packages (from jsonschema>=2.6->nbformat->import-ipynb) (0.19.2)\n",
      "Requirement already satisfied: wcwidth in /home/muhammadhumza/.local/lib/python3.10/site-packages (from prompt-toolkit<3.1.0,>=3.0.11->IPython->import-ipynb) (0.2.5)\n",
      "Requirement already satisfied: platformdirs>=2.5 in /usr/lib/python3/dist-packages (from jupyter-core->nbformat->import-ipynb) (2.5.1)\n",
      "Requirement already satisfied: asttokens>=2.1.0 in /home/muhammadhumza/.local/lib/python3.10/site-packages (from stack-data->IPython->import-ipynb) (2.2.0)\n",
      "Requirement already satisfied: pure-eval in /home/muhammadhumza/.local/lib/python3.10/site-packages (from stack-data->IPython->import-ipynb) (0.2.2)\n",
      "Requirement already satisfied: executing>=1.2.0 in /home/muhammadhumza/.local/lib/python3.10/site-packages (from stack-data->IPython->import-ipynb) (1.2.0)\n",
      "Requirement already satisfied: six in /usr/lib/python3/dist-packages (from asttokens>=2.1.0->stack-data->IPython->import-ipynb) (1.16.0)\n",
      "Installing collected packages: import-ipynb\n",
      "Successfully installed import-ipynb-0.1.4\n"
     ]
    }
   ],
   "source": [
    "!pip install import-ipynb"
   ]
  },
  {
   "cell_type": "code",
   "execution_count": 3,
   "id": "91db1241-e595-43a2-9307-13da89771fc8",
   "metadata": {},
   "outputs": [
    {
     "name": "stdout",
     "output_type": "stream",
     "text": [
      "importing Jupyter notebook from /home/muhammadhumza/Jupyter/data-engineering-bootcamp-main/tasks/2_mathematical_programming_in_python/day_1_introduction_to_notebooks/lecture/auxiliary/utils_notebook.ipynb\n"
     ]
    },
    {
     "data": {
      "text/plain": [
       "array([1, 8])"
      ]
     },
     "execution_count": 3,
     "metadata": {},
     "output_type": "execute_result"
    }
   ],
   "source": [
    "import numpy as np\n",
    "import import_ipynb\n",
    "from auxiliary.utils_notebook import subtract\n",
    "\n",
    "# Before executing this cell open file utils.py!\n",
    "a = np.array([1, 2])\n",
    "b = np.array([1, 4])\n",
    "# What is the expected result of\n",
    "subtract(a, b)\n",
    "# Correct subtract so that it produces the desired result!"
   ]
  },
  {
   "cell_type": "markdown",
   "id": "6adddec5",
   "metadata": {},
   "source": [
    "<h1 class=subsection>  Run another notebook </h1> "
   ]
  },
  {
   "cell_type": "code",
   "execution_count": 4,
   "id": "c5fb1466",
   "metadata": {
    "tags": []
   },
   "outputs": [
    {
     "name": "stdout",
     "output_type": "stream",
     "text": [
      "Another notebook was run\n"
     ]
    }
   ],
   "source": [
    "# Makes sense only for a valid (sequential) notebook!\n",
    "%run \"./auxiliary/another_notebook.ipynb\""
   ]
  },
  {
   "cell_type": "markdown",
   "id": "26aa5da9",
   "metadata": {
    "tags": []
   },
   "source": [
    "<h1 class=subsection> Save content of a cell to file </h1>"
   ]
  },
  {
   "cell_type": "code",
   "execution_count": 5,
   "id": "513acf6c",
   "metadata": {},
   "outputs": [
    {
     "name": "stdout",
     "output_type": "stream",
     "text": [
      "Writing sequence_of_numbers.txt\n"
     ]
    }
   ],
   "source": [
    "%%writefile sequence_of_numbers.txt\n",
    "1, 2, 3, 4, 5, 6, 7, 8, 9, 10\n",
    "# See now the contents of sequence_of_numbers.txt file!"
   ]
  },
  {
   "cell_type": "markdown",
   "id": "e2540dcb",
   "metadata": {},
   "source": [
    "<h1 class=section> Useful tips and tricks </h1>"
   ]
  },
  {
   "cell_type": "markdown",
   "id": "18d88663",
   "metadata": {
    "tags": []
   },
   "source": [
    "## Scroll down and up via Keyboard\n",
    "\n",
    "<div class=exercise> Enter the command mode and press Backspace (to scroll down) and Shift + Space (to scroll up). </div>"
   ]
  },
  {
   "cell_type": "markdown",
   "id": "c2b46394",
   "metadata": {},
   "source": [
    "## Undo cell deletion \n",
    "\n",
    "<div class=exercise> Remove cell below and restore it using ESC + Z. </div>"
   ]
  },
  {
   "cell_type": "raw",
   "id": "b027fd53",
   "metadata": {},
   "source": [
    "Cell to be removed and restored!"
   ]
  },
  {
   "cell_type": "markdown",
   "id": "72cb6898",
   "metadata": {},
   "source": [
    "## Splitting of a cell\n",
    "\n",
    "<div class=exercise> Enter the edit mode of this cell. Place the cursor in the line 8. Then press Ctrl + Shift + -. Does the result depend on the position of the cursor in line 8 (place it at the beginning, in the middle and at the end of the line)? Recall that can always undo last change using Ctrl + Z!</div>\n",
    "\n",
    "\n",
    "\n",
    "line just before split \n",
    "line of the split\n",
    "content after the split"
   ]
  },
  {
   "cell_type": "code",
   "execution_count": 6,
   "id": "3ff2f0cc",
   "metadata": {
    "tags": []
   },
   "outputs": [
    {
     "data": {
      "text/markdown": [
       "# Print all! <h2>As you have probably noticed only one last command in a code cell is printed!</h2><h2> Sometimes you may want to change this behaviour.</h2><div class=exercise>Duplicate this cell and add the following two lines to the duplicate!<p>from IPython.core.interactiveshell import InteractiveShell</p><p>InteractiveShell.ast_node_interactivity = \"all\"</p>Now (almost) everything  is printed! You can restore the default behaviour by changing <p>InteractiveShell.ast_node_interactivity = \"all\"</p>to <p>InteractiveShell.ast_node_interactivity = \"last_expr\"</p></div>"
      ],
      "text/plain": [
       "<IPython.core.display.Markdown object>"
      ]
     },
     "execution_count": 6,
     "metadata": {},
     "output_type": "execute_result"
    }
   ],
   "source": [
    "# RUN THIS CELL!\n",
    "from IPython.display import Markdown\n",
    "import numpy as np\n",
    "from matplotlib import pyplot as plt\n",
    "\n",
    "x = np.random.rand(10)\n",
    "y = np.random.rand(10)\n",
    "a = 1\n",
    "b = 2\n",
    "a + b\n",
    "a * b\n",
    "a / b\n",
    "\n",
    "Markdown(\n",
    "    '# Print all! \\\n",
    "<h2>As you have probably noticed only one last command in a code cell is printed!</h2>\\\n",
    "<h2> Sometimes you may want to change this behaviour.</h2>\\\n",
    "<div class=exercise>Duplicate this cell and add the following two lines to the duplicate!\\\n",
    "<p>from IPython.core.interactiveshell import InteractiveShell</p>\\\n",
    "<p>InteractiveShell.ast_node_interactivity = \"all\"</p>\\\n",
    "Now (almost) everything  is printed!\\\n",
    " You can restore the default behaviour by changing \\\n",
    "<p>InteractiveShell.ast_node_interactivity = \"all\"</p>\\\n",
    "to \\\n",
    "<p>InteractiveShell.ast_node_interactivity = \"last_expr\"</p></div>'\n",
    ")"
   ]
  },
  {
   "cell_type": "markdown",
   "id": "f7e51622",
   "metadata": {
    "tags": []
   },
   "source": [
    "<h1 class=subsection> Multiple cursors </h1>\n",
    "\n",
    "\n",
    "<div class=exercise> Look at the cell below and  all 'num' substrings to 'number' by performing the following.\n",
    "    Place the cursor in line 1 after letter 'm'. Keep pressing Ctrl repeat this procedure for \n",
    "    all other lines. Write 'ber' and see what happens. Now add prefix 'a_' to each line below.\n",
    "    To do so keep pressing left Alt and draw a vertical line from the beginning of line 9 to the \n",
    "    beginning of line 7. Write 'a_' and see what happens! </div>\n"
   ]
  },
  {
   "cell_type": "raw",
   "id": "26551891",
   "metadata": {
    "tags": []
   },
   "source": [
    "num1 = 1\n",
    "num2 = 2\n",
    "num3 = 3\n",
    "num4 = 4"
   ]
  },
  {
   "cell_type": "markdown",
   "id": "720feb56",
   "metadata": {
    "tags": []
   },
   "source": [
    "<h1 class=subsection> Executing a notebook from the command line </h1>\n",
    "\n",
    "<div class=exercise> Run to_be_executed_cmd_line.ipynb from a command line by executing <p>jupyter nbconvert --to notebook --execute ./auxiliary/to_be_executed_cmd_line.ipynb</p>\n",
    "    What other \"--to\" formats are available? Try them out!</div>"
   ]
  },
  {
   "cell_type": "markdown",
   "id": "8948c115",
   "metadata": {
    "tags": []
   },
   "source": [
    "<h1 class=subsection> nbdime – diffing and merging of Jupyter Notebooks </h1>\n",
    "\n",
    "<div class=exercise> Firstly see notebook_1.ipynb and notebook_2.ipynb in auxiliary directory. Do not run any cells in these files! Now execute all three cells below. \n",
    "    What do you think? Is diff or nbdiff output better? Now run cells from notebook_1/2.ipynb (to generate output plots - remember the save these files!) and run nbdiff and diff cells one more time. Same questions. Visit https://github.com/jupyter/nbdime and play with other nbdim tools! Merge notebook_1.ipynb and notebook_2.ipynb into one notebook_12.ipynb.\n",
    "</div>\n",
    "\n",
    "<h1 class=subsection> Nbdim tools</h1>\n",
    "<table class=\"commands\">\n",
    "  <tr>\n",
    "    <th>Command</th>\n",
    "    <th>Description</th>\n",
    "  </tr>\n",
    "  <tr>\n",
    "    <td> nbdiff</td>\n",
    "    <td>compare notebooks in a terminal-friendly way</td>\n",
    "  </tr>\n",
    "  <tr>\n",
    "    <td>nbmerge</td>\n",
    "    <td>three-way merge of notebooks with automatic conflict resolution</td>\n",
    "  </tr>\n",
    "  \n",
    "  <tr>\n",
    "    <td>nbdiff-web</td>\n",
    "    <td>shows you a rich rendered diff of notebooks</td>\n",
    "  </tr>\n",
    "  <tr>\n",
    "    <td>nbmerge-web</td>\n",
    "    <td>gives you a web-based three-way merge tool for notebooks</td>\n",
    "  </tr>\n",
    "    <tr>\n",
    "        <td> nbshow</td>\n",
    "        <td> present a single notebook in a terminal-friendly way </td>\n",
    "    </tr>\n",
    "    \n",
    "</table> \n"
   ]
  },
  {
   "cell_type": "code",
   "execution_count": null,
   "id": "9f62424d",
   "metadata": {
    "tags": []
   },
   "outputs": [],
   "source": [
    "!pip install nbdime"
   ]
  },
  {
   "cell_type": "code",
   "execution_count": null,
   "id": "3b773a94",
   "metadata": {
    "tags": []
   },
   "outputs": [],
   "source": [
    "!nbdiff ./auxiliary/notebook_1.ipynb ./auxiliary/notebook_2.ipynb"
   ]
  },
  {
   "cell_type": "code",
   "execution_count": null,
   "id": "92865e29-0184-4ed2-ac89-2bf9521a6501",
   "metadata": {
    "tags": []
   },
   "outputs": [],
   "source": [
    "!diff ./auxiliary/notebook_1.ipynb ./auxiliary/notebook_2.ipynb"
   ]
  },
  {
   "cell_type": "markdown",
   "id": "de9cc2f6",
   "metadata": {},
   "source": [
    "<h1 class=subsection> Spell checking</h1>"
   ]
  },
  {
   "cell_type": "code",
   "execution_count": null,
   "id": "2b066c04",
   "metadata": {
    "tags": []
   },
   "outputs": [],
   "source": [
    "!pip install jupyter_contrib_nbextensions\n",
    "# in fact conda install -c conda-forge jupyter_contrib_nbextensions is recommended\n",
    "!jupyter contrib nbextension install --user\n",
    "!pip install jupyterlab-spellchecker\n",
    "# or !conda install -c conda-forge jupyterlab-spellchecker\n",
    "# this command should not be requiered, however in case of troubles might help,\n",
    "# !jupyter nbextension enable spellchecker/main\n",
    "# Restart now editor. A new icon \"abc\" should appear on the top tools bar!\n",
    "# Moreover, on the left bar a new \"extensions\" icon (look for a puzzle) should show up."
   ]
  },
  {
   "cell_type": "markdown",
   "id": "df9771ea",
   "metadata": {
    "tags": []
   },
   "source": [
    "<h1 class=section> Just for proper styling of this notebook </h1>"
   ]
  },
  {
   "cell_type": "code",
   "execution_count": 7,
   "id": "acf30620",
   "metadata": {
    "tags": []
   },
   "outputs": [
    {
     "data": {
      "text/html": [
       "<style>\n",
       "\n",
       "h1.section {\n",
       "    font-size: 65px;\n",
       "    text-align: center;\n",
       "}\n",
       "h1.subsection {\n",
       "    font-size: 45px;\n",
       "    text-align: center;\n",
       "}\n",
       "h1.subsubsection {\n",
       "    font-size: 25px;\n",
       "    text-align: center;\n",
       "}\n",
       "\n",
       "ol.command_list {\n",
       "    font-size: 25px;\n",
       "}\n",
       "\n",
       "ul.command_list {\n",
       "    font-size: 25px;\n",
       "}\n",
       "\n",
       "table.commands {\n",
       "    font-size: 25px;\n",
       "}\n",
       "\n",
       "div.exercise {\n",
       "    display: block;\n",
       "    margin: 12px 0;\n",
       "    border:1px solid blue;\n",
       "    font-style: normal;\n",
       "    font-size: 25px;\n",
       "    padding: 1px 1px 1px 10px;\n",
       "}\n",
       "\n",
       "div.exercise:before {\n",
       "    content: \" Exercise. \";\n",
       "    font-weight: bold;\n",
       "    font-style: normal;\n",
       "    font-size: 25px;\n",
       "    color: blue;\n",
       "}\n",
       "\n",
       "div.info {\n",
       "    display: block;\n",
       "    margin: 12px 0;\n",
       "    border:1px solid green;\n",
       "    font-style: normal;\n",
       "    font-size: 25px;\n",
       "    padding: 1px 1px 1px 10px;\n",
       "}\n",
       "\n",
       "div.info:before {\n",
       "    content: \" Info. \";\n",
       "    font-weight: bold;\n",
       "    font-style: normal;\n",
       "    font-size: 25px;\n",
       "    color: green;\n",
       "}\n",
       "\n",
       "div.warn {\n",
       "    display: block;\n",
       "    margin: 12px 0;\n",
       "    border:1px solid yellow;\n",
       "    font-style: normal;\n",
       "    font-size: 25px;\n",
       "    padding: 1px 1px 1px 10px;\n",
       "\n",
       "}\n",
       "\n",
       "div.warn:before {\n",
       "    content: \" Warning. \";\n",
       "    font-weight: bold;\n",
       "    font-style: normal;\n",
       "    font-size: 25px;\n",
       "    color: yellow;\n",
       "\n",
       "\n",
       "}\n",
       "\n",
       "div.tip {\n",
       "    display: block;\n",
       "    margin: 12px 0;\n",
       "    background: blue;\n",
       "    border:1px solid green;\n",
       "    padding: 1px 1px 1px 10px;\n",
       "    font-style: normal;\n",
       "    font-size: 25px;\n",
       "}\n",
       "\n",
       "div.tip:before {\n",
       "    content: \" Tip. \";\n",
       "    font-weight: bold;\n",
       "    font-style: normal;\n",
       "    font-size: 25px;\n",
       "    color: green;\n",
       "}\n",
       "\n",
       "\n",
       "\n",
       "\n",
       "details.hint summary {\n",
       "    font-size: 25px;\n",
       "    font-weight: bold;\n",
       "    font-style: normal;\n",
       "    color: blue;\n",
       "}\n",
       "\n",
       "details.hint p {\n",
       " font-style: italic;\n",
       "    font-size: 15px;\n",
       "     font-weight: bold;\n",
       "}\n",
       "\n",
       "\n",
       " </style>\n"
      ],
      "text/plain": [
       "<IPython.core.display.HTML object>"
      ]
     },
     "execution_count": 7,
     "metadata": {},
     "output_type": "execute_result"
    }
   ],
   "source": [
    "# in case of change of file ./styles/custom.css run this snippet to apply changes to this notebook!\n",
    "from IPython.core.display import HTML\n",
    "\n",
    "\n",
    "def css_styling():\n",
    "    styles = open(\"../../../../style/custom.css\", \"r\").read()\n",
    "    return HTML(styles)\n",
    "\n",
    "\n",
    "css_styling()"
   ]
  }
 ],
 "metadata": {
  "celltoolbar": "Tags",
  "kernelspec": {
   "display_name": "Python 3 (ipykernel)",
   "language": "python",
   "name": "python3"
  },
  "language_info": {
   "codemirror_mode": {
    "name": "ipython",
    "version": 3
   },
   "file_extension": ".py",
   "mimetype": "text/x-python",
   "name": "python",
   "nbconvert_exporter": "python",
   "pygments_lexer": "ipython3",
   "version": "3.10.6"
  }
 },
 "nbformat": 4,
 "nbformat_minor": 5
}
