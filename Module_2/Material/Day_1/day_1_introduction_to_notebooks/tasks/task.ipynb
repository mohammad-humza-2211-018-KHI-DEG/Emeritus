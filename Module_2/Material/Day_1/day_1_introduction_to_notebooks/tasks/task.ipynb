{
 "cells": [
  {
   "cell_type": "markdown",
   "id": "e04eb298-04e0-45f6-a4e4-da3b896de200",
   "metadata": {},
   "source": [
    "\n"
   ]
  },
  {
   "cell_type": "markdown",
   "id": "d8805bd4-58cf-4ad4-8c23-7f5056e19524",
   "metadata": {
    "tags": []
   },
   "source": [
    "<h1 class=section> Repository template </h1> \n",
    "\n",
    "<div class=info> In this notebook you will learn a few rules/tips which are essential/useful when one wants to create a \"perfect\" respository which is easily manageble and maintainable. Moreover, you will see a use a few tools which facilitate creation of such a repository.</div>"
   ]
  },
  {
   "cell_type": "markdown",
   "id": "739629d1-2730-4014-9ac2-cce69b9a9920",
   "metadata": {
    "tags": []
   },
   "source": [
    "<h1 class=subsection> General guidelines </h1> \n",
    "<div class=warn> The following recommendations should not be treated as mandatory ones. Treat them as a guide. </div>\n",
    "  <ol class=command_list>\n",
    "  <li>Do not store data in your repository. Instead load data from data source in proper module of business logic.</li>\n",
    "  <li>Notebooks should be treated as a tool for EDA and presentation of results and not for developing ML code or other software products.</li>\n",
    "  <li>Common reusable code should be implemented in different modules/functions and imported from these.</li>\n",
    "  <li>Analysis of data should be divided into steps and result of a step should be saved (imagine a situation in which data processing chain has three time consuming parts and the second part fails. The you should be able to load the result of the first part and pass it to second one instread of rerunning whole pipeline).  </li>\n",
    "    <li>Your workspace in a repository should be automately built and easily maintainable.</li>\n",
    "    <li>For security reasons do not store any sensitive data in your repository (passwords, access keys etc.).</li>\n",
    "    \n",
    "  \n",
    "</ol>"
   ]
  },
  {
   "cell_type": "markdown",
   "id": "1cbe95dc-a4c6-46bd-9602-f4f47266f276",
   "metadata": {
    "tags": []
   },
   "source": [
    "<h1 class=subsection> Structure of a repository </h1> \n",
    "<div class=warn> Once more treat the nonexhaustive list below just as a set of recommended list of objects which should appear in your repository. Try to stick to proposed structure as often as possible because it is intuitive and unifies various conventions. Similarly as stated in <a href=\"https://en.wikipedia.org/wiki/You_aren%27t_gonna_need_it\">YAGNI</a> principle - do not create in advance directories you do not need at the moment.</div>"
   ]
  },
  {
   "cell_type": "markdown",
   "id": "8db03dc0-b228-4063-9c58-52de2cbed092",
   "metadata": {
    "tags": []
   },
   "source": [
    "<h1 class=subsubsection> Root directories </h1>\n",
    "  <ol class=command_list>\n",
    "    <li><strong>data</strong> - usually added to <i>.gitignore</i>. Keep here the data you need unless it is big or stored externally by convention..</li>\n",
    "  <li><strong>notebooks</strong> - as the name suggest here go all jupyter notebook files.</li>\n",
    "  <li><strong>models</strong> - (For ML projects) for storing models and associated statistics.</li>\n",
    "  <li><strong>reports</strong> - for business purposes - for example you can provide here (<i>html</i>, <i>pdf</i>, <i>latex</i>, results of data analysis, etc.) stuff you want to present to your client/manager.</li>\n",
    "  <li><strong>src/&lt;name_of_the_module&gt;</strong> - put here all your source files. You can add here some subdirectories to facilitate usage of your repo. For example in data subdirectory you can pass all scripts which download required data and in visualization subdirectory all scripts which generate visualization of the results. </li>\n",
    "    <li><strong>conf</strong> - put here configuration files.</li>\n",
    "    <li><strong>logs</strong> - usually added to <i>.gitignore</i>. This folder serves as an output directory for logs of your scripts if you need them locally.</li>\n",
    "    <li><strong>tests</strong> - here you implement tests for your application.</li>\n",
    "  \n",
    "</ol>"
   ]
  },
  {
   "cell_type": "markdown",
   "id": "6ba683a1-a153-4487-97a7-5999edb341b4",
   "metadata": {
    "tags": []
   },
   "source": [
    "<h1 class=subsubsection> Root files </h1>\n",
    "\n",
    " <ol class=command_list>\n",
    "    <li><strong>requirements.txt/setup.py</strong> - for managing dependencies and version requirements.</li>\n",
    "  <li><strong>licence</strong> - always provide some licence e.g. MIT to avoid legal issues (imagine a situation in which your program causes a crash in a product of someone else or sell intellectual property of other people as their own.).</li>\n",
    "  <li><strong>Makefile</strong> -  This is an example of a file for <i>make</i> or other task automation technology. Similar tools are used to e.g. automatization of configuration, installation of <i>venv</i>, cleaning of your repository etc yet for strictly tasks related to version control are frequently replaced by  e.g. <i>pre-commit</i> nowadays.</li>\n",
    "  <li><strong>reports</strong> - for business purposes - for example you can provide here (html, pdf, latex, results of data analysis, etc.) stuff you want to present to your client/manager.</li>\n",
    "  <li><strong>README.md</strong> - provide here all information about your project so that anyone who visists your repository could easily use it. When you are developing an aplication with a team try to keep it up-to-date and make sure you inform your coding mates about changes in this file so that your team is aware of e.g. new features, scripts, hooks etc. </li>\n",
    "\n",
    "  \n",
    "</ol>"
   ]
  },
  {
   "cell_type": "markdown",
   "id": "b1e5d622-a6b7-476a-9ccd-95afd5da510f",
   "metadata": {
    "tags": []
   },
   "source": [
    "<h1 class=subsection> Creation of your own template of a git repository </h1> "
   ]
  },
  {
   "cell_type": "markdown",
   "id": "261226c8-be89-48ce-96dd-4db3cea2aae2",
   "metadata": {
    "tags": []
   },
   "source": [
    "<div class=info>In this part you aim is to write from a scratch a template repository for python projects which should be reusable (as frequently as possible) and should handle jupyter notebooks as well.</div>"
   ]
  },
  {
   "cell_type": "markdown",
   "id": "8079febd-a80c-4a96-90d8-9652dfdeb063",
   "metadata": {
    "tags": []
   },
   "source": [
    "<div class=warn>In below exercises some tools are proposed to potentially simplify creation of your own repository. However, usage of these tools is not essential, and it is up to you to decide if you take advantage of them to realize the aim. E.g. you will be asked to handle dependencies and versioning using <i>poetry</i> but as <i>poetry</i> says on its <a href=\"https://github.com/python-poetry/poetry\">github page</a>:  \"Poetry replaces <i>setup.py</i>, <i>requirements.txt</i>, <i>setup.cfg</i>, <i>MANIFEST.in</i> and <i>Pipfile</i> with a simple <i>pyproject.toml</i> based project format\\\" so instead you can stay with traditional way using files listed in the quotation. Both approaches potentially have pros and cons: <i>poetry</i> is high lever  and thus it is easier to use but if something fails it might be tiresome to find the factor. On the other hand setting standard files (like <i>setup.py</i> etc.)  might take a while but you have control over almost everything. Similar situation is with <i>Makefile</i> vs <i>pre-commit</i> functionalities. Although <i>pre-commit</i> is more modern way to go still <i>Makefile</i> is commonly used for example to automate bash commands. </div>"
   ]
  },
  {
   "cell_type": "markdown",
   "id": "d3e53361-e881-47ff-a7c8-da34f1a3584d",
   "metadata": {
    "tags": []
   },
   "source": [
    "<div class=warn>The tasks below assume that now you know basic rules of governing git repositories and to maintain a proper project structure. If you are not sure how to organize something you are welcome to ask our lecturers. Summing it up: try to stick to the general rules / conventions, the rest depends on you.</div> "
   ]
  },
  {
   "cell_type": "markdown",
   "id": "381c5ad0-1b80-4718-8f7f-20625561cc01",
   "metadata": {},
   "source": [
    "<div class=warn>Read all exercises below to get bigger picture of our main goal - creation of template of python project repository.</div> "
   ]
  },
  {
   "cell_type": "markdown",
   "id": "3445070c-c4dc-4d98-ad61-9969deaa88dc",
   "metadata": {
    "tags": []
   },
   "source": [
    "<h1 class=subsubsection> README.md </h1>"
   ]
  },
  {
   "cell_type": "markdown",
   "id": "aacc46ce-7367-40a0-b0bb-c262c952b6bc",
   "metadata": {},
   "source": [
    "<div class=exercise>As you will extend more and more functionalities of the code hosted on your repository make sure to keep README.md updated. This includes the description of project, list of used packages, information about provided hooks, automation commands etc. Moreover, <i>README.md</i> should be neat and easy to read for any new-comer (even inexperienced one).  See for example <a href=\"https://github.com/awesomeahi95/Hotel_Review_NLP/blob/master/README.md\">this github repository README.md</a> to learn nice markdown tools/tricks to make <i>README.md</i> user-friendly.</div>"
   ]
  },
  {
   "cell_type": "markdown",
   "id": "a77598b1-48a9-4f74-bad7-cc5c3bbf6174",
   "metadata": {},
   "source": [
    "<h1 class=subsection> Pre-commit </h1>"
   ]
  },
  {
   "cell_type": "markdown",
   "id": "94774608-fece-4458-9dc4-5f1bf45c2258",
   "metadata": {},
   "source": [
    "<div class=info> You might find <a href=\"https://github.com/cleder/awesome-python-testing#tools\">python testing tools</a> and <a href=\"https://pre-commit.com/hooks.html\">list of pre-commit hooks</a> useful for this task.</div>"
   ]
  },
  {
   "cell_type": "markdown",
   "id": "ec0aed0d-305d-4ed1-96e4-0b54effbf497",
   "metadata": {},
   "source": [
    "<div class=exercise>You are already familiar with pre-commit tool. Extend usual support for .py files to jupyter notebooks. Use a few available hooks for formatting and linting parts. Provide a few .ipynb files on which you can test this new functionality. Apart from pre-commit stage, define at least one hook for pre-push. Write at least one \"local repo\" precommit: for example it might be useful to have a command which removes outputs for a given folder of notebooks or to run some tests before push. Do not forget to describe this functionalities in README.md. Using pre-commit tool try to add some metadata to commit message like the name of the one who commits, date, or Jira tag. You can also try to force checking of commit message e.g. you can check if it is not too long (max 80 chars or so). In real team project do not forget to inform your colleges about these changes and make sure that the active all pre-commit hooks. Moreover, add hook which checks .yaml files and bash scripts (write at least one bash script - might be dummy). Make some of the hooks (decide which) excluded from a pre-commit scan to prevent for example .venv (virtual environment) from beging checked.</div>"
   ]
  },
  {
   "cell_type": "markdown",
   "id": "ff8bb525-8c55-42a0-8520-e6d76a2da931",
   "metadata": {
    "tags": []
   },
   "source": [
    "<h1 class=subsection> Makefile </h1>"
   ]
  },
  {
   "cell_type": "markdown",
   "id": "50ce854e-84b5-45bd-bc1f-fb421bc14616",
   "metadata": {},
   "source": [
    "<div class=warn> Since Makefile is not essential in your projects you can postpone this exercise to the end of this day and do it if time allows. However, we encourage you to do it to get used to to the make syntax. If you would rather use <i>make</i> instead of 'pre-commit' for some tasks please ensure the overlap does not create a tools conflict.</div>\n",
    "<div class=exercise>Prepare in Makefile two commands: \n",
    "     <ol class=command_list>\n",
    "  <li>install: installs virtual environment in .venv directory and then installs all dependencies from requirements.txt\n",
    "    <li>clean: cleans your repository by removing cache, log and report files/directories.  \n",
    "  \n",
    "</ol>\n",
    "    \n",
    "       \n",
    "<details class=hint>\n",
    "<summary>Hint for setting shell in Makefile</summary>\n",
    "  <p>SHELL := /bin/bash</p>\n",
    "</details>\n",
    "    <details class=hint>\n",
    "    <summary>Hint for install:</summary>\n",
    "  <p>Since each line of command might be executed in different shell, for installing requirements it is essential that you chain your commands with &&, that is, <p>(activate venv) && (do_1_task_in_venv) && (do_2_task_in_venv) && ...</p></p>\n",
    "</details>\n",
    "    <details class=hint>\n",
    "    <summary>Proposal of <i>make</i> definition for a cleaning command:</summary>\n",
    "  <p><code> clean:\n",
    "\t@rm -vrf deps\n",
    "\t@rm -vrf .mypy_cache | grep \"directory\" || true\n",
    "\t@rm -vrf .pytest_cache\n",
    "\t@find . | grep -E \"(__pycache__|\\.pyc|\\.pyo$$)\" | xargs rm -rf\n",
    "\t@find . | grep -E \"(\\.log$$)\" | xargs rm -rf\n",
    "\t@rm -vrf $(VENVNAME) | grep \"'$(VENVNAME)'\" || true\n",
    "\t@rm -vrf $(REPORTS_DIR)\n",
    "    </code></p>\n",
    "</details>\n",
    "   </div> \n",
    "    \n",
    "  "
   ]
  },
  {
   "cell_type": "markdown",
   "id": "ec06bdf9-9e32-4673-b0c3-0b33f957b9c4",
   "metadata": {},
   "source": [
    "  <h1 class=subsection> Business report / visualization of data </h1>\n",
    " \n",
    "     "
   ]
  },
  {
   "cell_type": "markdown",
   "id": "3e0300d6-55ec-49cb-ade8-36358ec260bf",
   "metadata": {},
   "source": [
    "<div class=exercise>\n",
    "    Use notebooks to prepare some dummy plots. Provide a script which generates a dummy report by presenting and describing these plots.  Selection of a tool for the realization of the task - at your convenience.\n",
    "    \n",
    "</div>"
   ]
  },
  {
   "cell_type": "markdown",
   "id": "748a19c2-bf05-4ddf-9151-badafc2ef3bd",
   "metadata": {
    "tags": []
   },
   "source": [
    "  <h1 class=subsection> Configuration</h1>\n",
    " \n",
    "     "
   ]
  },
  {
   "cell_type": "markdown",
   "id": "f2a6e52a-4078-44b1-9102-b10eece57b64",
   "metadata": {
    "tags": []
   },
   "source": [
    "<div class=exercise>\n",
    "   Configure formatters and linters tools. Make sure that they are applied indeed (not ignored). \n",
    "    \n",
    "</div>"
   ]
  },
  {
   "cell_type": "markdown",
   "id": "3a76a15c-3461-440b-ae0b-72ee12b417ee",
   "metadata": {
    "tags": []
   },
   "source": [
    "  <h1 class=subsection> Bonus </h1>\n"
   ]
  },
  {
   "cell_type": "markdown",
   "id": "72a58941-b94b-4ebe-af15-88f37e3b7921",
   "metadata": {
    "tags": []
   },
   "source": [
    "<div class=exercise>\n",
    "   If your are done with all exercises above think about things you might find useful for your work. For example you may be interested in  pivottablejs module. Try it out! Check how it is implemented. If still you have plenty of time see some debugging tools like iPython debugger. Write a simple notebook to test its functionality. Additionally, you can provide a script which converts jupyter notebooks into py files (this might be useful if some functionality like hook is not available for ipynb files whereas it is for py ones). Try to find out what else could be added to make you template even better then it is now :) Consult other participants and exchange your ideas with them.\n",
    "\n",
    "</div>"
   ]
  },
  {
   "cell_type": "markdown",
   "id": "03aa2240-9dc4-4040-a781-3619466f9cc3",
   "metadata": {},
   "source": [
    "<div class=exercise> \n",
    "    Let us assume that you prepare an example of a notebook that runs inference on a region of an image. You want the users to be able to easily select a subregion of the image before running inference. Create a module that allows you to crop a subregion of an image directly in Jupyter (e.g. using cropperjs).\n",
    "</div>"
   ]
  },
  {
   "cell_type": "markdown",
   "id": "6e758b35-23c9-4ada-a52d-313765989363",
   "metadata": {},
   "source": [
    "<h1 class=subsubsection> Just for proper styling of html </h1>"
   ]
  },
  {
   "cell_type": "code",
   "execution_count": 1,
   "id": "015b223d-8f7d-4246-81bd-f667c6fc43f2",
   "metadata": {
    "tags": []
   },
   "outputs": [
    {
     "data": {
      "text/html": [
       "<style>\n",
       "\n",
       "h1.section {\n",
       "    font-size: 65px;\n",
       "    text-align: center;\n",
       "}\n",
       "h1.subsection {\n",
       "    font-size: 45px;\n",
       "    text-align: center;\n",
       "}\n",
       "h1.subsubsection {\n",
       "    font-size: 25px;\n",
       "    text-align: center;\n",
       "}\n",
       "\n",
       "ol.command_list {\n",
       "    font-size: 25px;\n",
       "}\n",
       "\n",
       "ul.command_list {\n",
       "    font-size: 25px;\n",
       "}\n",
       "\n",
       "table.commands {\n",
       "    font-size: 25px;\n",
       "}\n",
       "\n",
       "div.exercise {\n",
       "    display: block;\n",
       "    margin: 12px 0;\n",
       "    border:1px solid blue;\n",
       "    font-style: normal;\n",
       "    font-size: 25px;\n",
       "    padding: 1px 1px 1px 10px;\n",
       "}\n",
       "\n",
       "div.exercise:before {\n",
       "    content: \" Exercise. \";\n",
       "    font-weight: bold;\n",
       "    font-style: normal;\n",
       "    font-size: 25px;\n",
       "    color: blue;\n",
       "}\n",
       "\n",
       "div.info {\n",
       "    display: block;\n",
       "    margin: 12px 0;\n",
       "    border:1px solid green;\n",
       "    font-style: normal;\n",
       "    font-size: 25px;\n",
       "    padding: 1px 1px 1px 10px;\n",
       "}\n",
       "\n",
       "div.info:before {\n",
       "    content: \" Info. \";\n",
       "    font-weight: bold;\n",
       "    font-style: normal;\n",
       "    font-size: 25px;\n",
       "    color: green;\n",
       "}\n",
       "\n",
       "div.warn {\n",
       "    display: block;\n",
       "    margin: 12px 0;\n",
       "    border:1px solid yellow;\n",
       "    font-style: normal;\n",
       "    font-size: 25px;\n",
       "    padding: 1px 1px 1px 10px;\n",
       "\n",
       "}\n",
       "\n",
       "div.warn:before {\n",
       "    content: \" Warning. \";\n",
       "    font-weight: bold;\n",
       "    font-style: normal;\n",
       "    font-size: 25px;\n",
       "    color: yellow;\n",
       "\n",
       "\n",
       "}\n",
       "\n",
       "div.tip {\n",
       "    display: block;\n",
       "    margin: 12px 0;\n",
       "    border:1px solid green;\n",
       "    padding: 1px 1px 1px 10px;\n",
       "    font-style: normal;\n",
       "    font-size: 25px;\n",
       "}\n",
       "\n",
       "div.tip:before {\n",
       "    content: \" Tip. \";\n",
       "    font-weight: bold;\n",
       "    font-style: normal;\n",
       "    font-size: 25px;\n",
       "    color: green;\n",
       "}\n",
       "\n",
       "\n",
       "\n",
       "\n",
       "details.hint summary {\n",
       "    font-size: 25px;\n",
       "    font-weight: bold;\n",
       "    font-style: normal;\n",
       "    color: blue;\n",
       "}\n",
       "\n",
       "details.hint p {\n",
       " font-style: italic;\n",
       "    font-size: 15px;\n",
       "     font-weight: bold;\n",
       "}\n",
       "\n",
       "\n",
       " </style>\n"
      ],
      "text/plain": [
       "<IPython.core.display.HTML object>"
      ]
     },
     "execution_count": 1,
     "metadata": {},
     "output_type": "execute_result"
    }
   ],
   "source": [
    "# in case of change of file ./styles/custom.css run this snippet to apply changes to this notebook!\n",
    "from IPython.core.display import HTML\n",
    "\n",
    "\n",
    "def css_styling():\n",
    "    styles = open(\"../../../../style/custom.css\", \"r\").read()\n",
    "    return HTML(styles)\n",
    "\n",
    "\n",
    "css_styling()"
   ]
  },
  {
   "cell_type": "code",
   "execution_count": null,
   "id": "897e9772",
   "metadata": {},
   "outputs": [],
   "source": []
  }
 ],
 "metadata": {
  "kernelspec": {
   "display_name": "Python 3 (ipykernel)",
   "language": "python",
   "name": "python3"
  },
  "language_info": {
   "codemirror_mode": {
    "name": "ipython",
    "version": 3
   },
   "file_extension": ".py",
   "mimetype": "text/x-python",
   "name": "python",
   "nbconvert_exporter": "python",
   "pygments_lexer": "ipython3",
   "version": "3.10.6"
  },
  "vscode": {
   "interpreter": {
    "hash": "916dbcbb3f70747c44a77c7bcd40155683ae19c65e1c03b4aa3499c5328201f1"
   }
  }
 },
 "nbformat": 4,
 "nbformat_minor": 5
}
