{
 "cells": [
  {
   "cell_type": "markdown",
   "id": "54fd2cdd",
   "metadata": {},
   "source": [
    "```python\n",
    "deg = 18\n",
    "for i in deg:\n",
    "    print(\"Hello\")\n",
    "\n",
    "\n",
    "def muhammad_humza():\n",
    "    print(\"Deg-018\")\n",
    "```"
   ]
  }
 ],
 "metadata": {
  "kernelspec": {
   "display_name": "Python 3 (ipykernel)",
   "language": "python",
   "name": "python3"
  },
  "language_info": {
   "codemirror_mode": {
    "name": "ipython",
    "version": 3
   },
   "file_extension": ".py",
   "mimetype": "text/x-python",
   "name": "python",
   "nbconvert_exporter": "python",
   "pygments_lexer": "ipython3",
   "version": "3.10.6"
  }
 },
 "nbformat": 4,
 "nbformat_minor": 5
}
