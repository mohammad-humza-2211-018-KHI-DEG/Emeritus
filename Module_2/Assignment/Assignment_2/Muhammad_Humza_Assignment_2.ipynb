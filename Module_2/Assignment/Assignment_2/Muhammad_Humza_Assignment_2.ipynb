{
 "cells": [
  {
   "cell_type": "code",
   "execution_count": 1,
   "id": "68cfc055",
   "metadata": {},
   "outputs": [],
   "source": [
    "import numpy as np"
   ]
  },
  {
   "cell_type": "code",
   "execution_count": 37,
   "id": "4a6b8547",
   "metadata": {},
   "outputs": [
    {
     "name": "stdout",
     "output_type": "stream",
     "text": [
      "[[67 39 89 13]\n",
      " [79 87 56 11]\n",
      " [67  7 42 93]\n",
      " [ 6 99 48 69]\n",
      " [44 58  3 77]\n",
      " [ 9 31 55 21]]\n"
     ]
    }
   ],
   "source": [
    "rand_arr = np.random.randint(1,100, [6, 4]) \n",
    "print(rand_arr)"
   ]
  },
  {
   "cell_type": "code",
   "execution_count": 38,
   "id": "038e4d25",
   "metadata": {},
   "outputs": [],
   "source": [
    "rand_arr[4]=rand_arr[0,:]+ rand_arr[2,:]\n",
    "rand_arr[5]=rand_arr[1,:]+ rand_arr[3,:]"
   ]
  },
  {
   "cell_type": "code",
   "execution_count": 39,
   "id": "53444d14",
   "metadata": {},
   "outputs": [
    {
     "name": "stdout",
     "output_type": "stream",
     "text": [
      "[[ 67  39  89  13]\n",
      " [ 79  87  56  11]\n",
      " [ 67   7  42  93]\n",
      " [  6  99  48  69]\n",
      " [134  46 131 106]\n",
      " [ 85 186 104  80]]\n"
     ]
    }
   ],
   "source": [
    "print(rand_arr)"
   ]
  },
  {
   "cell_type": "code",
   "execution_count": null,
   "id": "9ed5c297",
   "metadata": {},
   "outputs": [],
   "source": []
  }
 ],
 "metadata": {
  "kernelspec": {
   "display_name": "Python 3 (ipykernel)",
   "language": "python",
   "name": "python3"
  },
  "language_info": {
   "codemirror_mode": {
    "name": "ipython",
    "version": 3
   },
   "file_extension": ".py",
   "mimetype": "text/x-python",
   "name": "python",
   "nbconvert_exporter": "python",
   "pygments_lexer": "ipython3",
   "version": "3.10.6"
  }
 },
 "nbformat": 4,
 "nbformat_minor": 5
}
