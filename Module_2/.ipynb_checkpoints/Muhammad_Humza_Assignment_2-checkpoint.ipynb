{
 "cells": [
  {
   "cell_type": "code",
   "execution_count": 1,
   "id": "05e8f8e2",
   "metadata": {},
   "outputs": [],
   "source": [
    "import numpy as np"
   ]
  },
  {
   "cell_type": "code",
   "execution_count": 29,
   "id": "ee46f49c",
   "metadata": {},
   "outputs": [
    {
     "name": "stdout",
     "output_type": "stream",
     "text": [
      "[[86 90 18 21]\n",
      " [20 62 41  9]\n",
      " [45 99 57  4]\n",
      " [ 2 18 10 43]\n",
      " [24 74 57  5]\n",
      " [29 41 48 27]]\n"
     ]
    }
   ],
   "source": [
    "rand_arr = np.random.randint(1,100, [6, 4]) \n",
    "print(rand_arr)"
   ]
  },
  {
   "cell_type": "code",
   "execution_count": 30,
   "id": "9118eac7",
   "metadata": {},
   "outputs": [],
   "source": [
    "rand_arr[4]=rand_arr[0,:]+ rand_arr[2,:]\n",
    "rand_arr[5]=rand_arr[1,:]+ rand_arr[3,:]"
   ]
  },
  {
   "cell_type": "code",
   "execution_count": 31,
   "id": "533b093c",
   "metadata": {},
   "outputs": [
    {
     "name": "stdout",
     "output_type": "stream",
     "text": [
      "[[ 86  90  18  21]\n",
      " [ 20  62  41   9]\n",
      " [ 45  99  57   4]\n",
      " [  2  18  10  43]\n",
      " [131 189  75  25]\n",
      " [ 22  80  51  52]]\n"
     ]
    }
   ],
   "source": [
    "print(rand_arr)"
   ]
  },
  {
   "cell_type": "code",
   "execution_count": null,
   "id": "c402603b",
   "metadata": {},
   "outputs": [],
   "source": []
  }
 ],
 "metadata": {
  "kernelspec": {
   "display_name": "Python 3 (ipykernel)",
   "language": "python",
   "name": "python3"
  },
  "language_info": {
   "codemirror_mode": {
    "name": "ipython",
    "version": 3
   },
   "file_extension": ".py",
   "mimetype": "text/x-python",
   "name": "python",
   "nbconvert_exporter": "python",
   "pygments_lexer": "ipython3",
   "version": "3.10.6"
  }
 },
 "nbformat": 4,
 "nbformat_minor": 5
}
